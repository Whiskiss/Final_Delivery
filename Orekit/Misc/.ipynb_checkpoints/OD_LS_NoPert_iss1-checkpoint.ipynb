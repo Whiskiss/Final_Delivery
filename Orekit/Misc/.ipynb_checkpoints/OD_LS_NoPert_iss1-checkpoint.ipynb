{
 "cells": [
  {
   "cell_type": "code",
   "execution_count": 1,
   "metadata": {},
   "outputs": [],
   "source": [
    "# Propagation from AZ/EL observations\n",
    "# Perturbation:\n",
    "# N/A\n",
    "\n",
    "# IOD\n",
    "# Given from propagation_issX\n",
    "\n",
    "# Obserbation:\n",
    "# AZ/EL\n",
    "# TOD / IERS_2010\n",
    "\n",
    "# Output:\n",
    "# TBD\n"
   ]
  },
  {
   "cell_type": "code",
   "execution_count": 63,
   "metadata": {},
   "outputs": [],
   "source": [
    "%matplotlib inline\n",
    "\n",
    "from math import radians, pi\n",
    "import pandas as pd\n",
    "import numpy as np\n",
    "import plotly.express as px\n",
    "\n",
    "\n",
    "import orekit\n",
    "vm = orekit.initVM()\n",
    "\n",
    "from orekit.pyhelpers import setup_orekit_curdir, absolutedate_to_datetime\n",
    "setup_orekit_curdir()\n",
    "\n",
    "\n",
    "from org.orekit.orbits import KeplerianOrbit, PositionAngle\n",
    "from org.orekit.propagation.analytical import KeplerianPropagator\n",
    "from org.orekit.time import AbsoluteDate, TimeScalesFactory, TimeScale\n",
    "from org.orekit.utils import Constants\n",
    "from org.orekit.frames import FramesFactory, TopocentricFrame\n",
    "from org.orekit.bodies import OneAxisEllipsoid, GeodeticPoint\n",
    "from org.hipparchus.geometry.euclidean.threed import Vector3D\n",
    "from org.orekit.attitudes import LofOffset\n",
    "from org.orekit.bodies import CelestialBodyFactory, OneAxisEllipsoid\n",
    "from org.orekit.forces.drag import IsotropicDrag\n",
    "from org.orekit.forces.gravity.potential import GravityFieldFactory\n",
    "from org.orekit.forces.maneuvers import ImpulseManeuver\n",
    "from org.orekit.frames import FramesFactory, LOFType, EOPHistory\n",
    "from org.orekit.models.earth.atmosphere import HarrisPriester\n",
    "from org.orekit.orbits import CircularOrbit, OrbitType, PositionAngle\n",
    "from org.orekit.propagation import PropagationType, SpacecraftState\n",
    "from org.orekit.propagation.events import DateDetector, EventEnablingPredicateFilter, PythonEnablingPredicate,\\\n",
    "     PositionAngleDetector, PythonEventDetector, AbstractDetector, EventDetector\n",
    "from org.orekit.propagation.conversion import DormandPrince853IntegratorBuilder, DSSTPropagatorBuilder, \\\n",
    "                        ClassicalRungeKuttaIntegratorBuilder, EulerIntegratorBuilder\n",
    "from org.orekit.propagation.semianalytical.dsst.forces import DSSTAtmosphericDrag, DSSTNewtonianAttraction, DSSTZonal\n",
    "from org.orekit.time import AbsoluteDate, TimeScalesFactory\n",
    "from org.orekit.utils import Constants, IERSConventions, PVCoordinatesProvider\n",
    "from orekit.pyhelpers import absolutedate_to_datetime\n",
    "from org.hipparchus.linear import RealMatrix\n",
    "from org.hipparchus.linear import QRDecomposer, AbstractRealMatrix\n",
    "from org.hipparchus.optim.nonlinear.vector.leastsquares import GaussNewtonOptimizer\n",
    "from org.orekit.estimation.leastsquares import BatchLSEstimator\n",
    "from org.orekit.propagation.numerical import NumericalPropagator\n",
    "from org.orekit.propagation.conversion import AbstractPropagatorBuilder\n",
    "\n",
    "from org.orekit.estimation.measurements import AngularAzEl\n",
    "from org.orekit.estimation.measurements import ObservableSatellite\n",
    "from org.orekit.estimation.measurements import GroundStation\n",
    "from org.orekit.estimation.sequential import KalmanEstimatorBuilder\n",
    "from org.orekit.estimation.sequential import KalmanEstimator\n",
    "from org.orekit.estimation.sequential import KalmanEstimation\n",
    "from org.orekit.estimation.measurements import *\n",
    "from org.orekit.estimation.iod import IodGooding, IodLaplace\n",
    "\n",
    "from orekit.pyhelpers import absolutedate_to_datetime, datetime_to_absolutedate\n",
    "from collections import namedtuple\n",
    "from org.orekit.time import Month\n",
    "from orekit import JArray\n",
    "\n",
    "from org.orekit.estimation.sequential import KalmanEstimator, KalmanEstimatorBuilder, CovarianceMatrixProvider, ConstantProcessNoise\n",
    "from org.orekit.orbits import Orbit\n"
   ]
  },
  {
   "cell_type": "code",
   "execution_count": 90,
   "metadata": {},
   "outputs": [],
   "source": [
    "utc = TimeScalesFactory.getUTC()\n",
    "\n",
    "# Given by ADS\n",
    "a = 6000000.0  \n",
    "e = 0.2 \n",
    "i = radians(98.0)     \n",
    "omega = radians(0.2)   # perigee argument\n",
    "raan = radians(90.0)  # right ascension of ascending node\n",
    "lv = radians(0.0)#0.1)    # True anomaly\n",
    "\n",
    "#mass = 625.0\n",
    "\n",
    "epochDate = AbsoluteDate(2020, 1, 1, 0, 0, 00.000, utc)\n",
    "initialDate = epochDate\n",
    "\n",
    "## Inertial frame where the satellite is defined\n",
    "inertialFrame =  FramesFactory.getTOD(IERSConventions.IERS_2010, False)\n",
    "earth = OneAxisEllipsoid(Constants.WGS84_EARTH_EQUATORIAL_RADIUS, \n",
    "                         Constants.WGS84_EARTH_FLATTENING, \n",
    "                         inertialFrame)\n",
    "\n",
    "## Orbit construction as Keplerian\n",
    "initialOrbit = KeplerianOrbit(a, e, i, omega, raan, lv,\n",
    "                              PositionAngle.TRUE,\n",
    "                              inertialFrame, epochDate, Constants.WGS84_EARTH_MU)\n",
    "\n",
    "utc = TimeScalesFactory.getUTC()\n",
    "\n",
    "# Orbit propagator parameters\n",
    "prop_min_step = 60.0 # s\n",
    "prop_max_step = 300.0 # s\n",
    "prop_position_error = 100.0 # m\n",
    "\n",
    "# Estimator parameters\n",
    "estimator_position_scale = 1.0 # m\n",
    "estimator_convergence_thres = 1e-3\n",
    "estimator_max_iterations = 25\n",
    "estimator_max_evaluations = 35\n",
    "\n",
    "moon = CelestialBodyFactory.getMoon()\n",
    "sun = CelestialBodyFactory.getSun()"
   ]
  },
  {
   "cell_type": "code",
   "execution_count": 91,
   "metadata": {},
   "outputs": [],
   "source": [
    "from org.orekit.propagation.conversion import DormandPrince853IntegratorBuilder\n",
    "integratorBuilder = DormandPrince853IntegratorBuilder(prop_min_step, prop_max_step, prop_position_error)\n",
    "#integratorBuilder = EulerIntegratorBuilder(10.0)\n",
    "\n",
    "from org.orekit.propagation.conversion import NumericalPropagatorBuilder\n",
    "from org.orekit.orbits import PositionAngle\n",
    "propagatorBuilder = NumericalPropagatorBuilder(initialOrbit,\n",
    "                                               integratorBuilder, PositionAngle.MEAN, estimator_position_scale)\n",
    "#propagatorBuilder.setMass(1000.0)\n",
    "#propagatorBuilder.setAttitudeProvider(nadirPointing)"
   ]
  },
  {
   "cell_type": "code",
   "execution_count": 92,
   "metadata": {},
   "outputs": [],
   "source": [
    "# Earth gravity field with degree 64 and order 64\n",
    "from org.orekit.forces.gravity.potential import GravityFieldFactory\n",
    "gravityProvider = GravityFieldFactory.getConstantNormalizedProvider(20,20)\n",
    "from org.orekit.forces.gravity import HolmesFeatherstoneAttractionModel\n",
    "gravityAttractionModel = HolmesFeatherstoneAttractionModel(inertialFrame, gravityProvider)\n",
    "propagatorBuilder.addForceModel(gravityAttractionModel)\n",
    "\n",
    "# Moon and Sun perturbations\n",
    "#from org.orekit.forces.gravity import ThirdBodyAttraction\n",
    "#moon_3dbodyattraction = ThirdBodyAttraction(moon)\n",
    "#propagatorBuilder.addForceModel(moon_3dbodyattraction)\n",
    "#sun_3dbodyattraction = ThirdBodyAttraction(sun)\n",
    "#propagatorBuilder.addForceModel(sun_3dbodyattraction)\n",
    "\n",
    "# Solar radiation pressure\n",
    "#from org.orekit.forces.radiation import IsotropicRadiationSingleCoefficient\n",
    "#isotropicRadiationSingleCoeff = IsotropicRadiationSingleCoefficient(sat_list[sc_name]['cross_section'], sat_list[sc_name]['cr']);\n",
    "#from org.orekit.forces.radiation import SolarRadiationPressure\n",
    "#solarRadiationPressure = SolarRadiationPressure(sun, wgs84Ellipsoid.getEquatorialRadius(),\n",
    "#                                                isotropicRadiationSingleCoeff)\n",
    "#propagatorBuilder.addForceModel(solarRadiationPressure)\n",
    "\n",
    "# Atmospheric drag\n",
    "#from org.orekit.forces.drag.atmosphere.data import MarshallSolarActivityFutureEstimation\n",
    "#msafe = MarshallSolarActivityFutureEstimation(\n",
    "#    '(?:Jan|Feb|Mar|Apr|May|Jun|Jul|Aug|Sep|Oct|Nov|Dec)\\p{Digit}\\p{Digit}\\p{Digit}\\p{Digit}F10\\.(?:txt|TXT)',\n",
    "#    MarshallSolarActivityFutureEstimation.StrengthLevel.AVERAGE)\n",
    "#DM.feed(msafe.getSupportedNames(), msafe) # Feeding the F10.7 bulletins to Orekit's data manager\n",
    "\n",
    "#from org.orekit.forces.drag.atmosphere import NRLMSISE00\n",
    "#atmosphere = NRLMSISE00(msafe, sun, wgs84Ellipsoid)\n",
    "#from org.orekit.forces.drag.atmosphere import DTM2000\n",
    "#atmosphere = DTM2000(msafe, sun, wgs84Ellipsoid)\n",
    "#from org.orekit.forces.drag import IsotropicDrag\n",
    "#isotropicDrag = IsotropicDrag(sat_list[sc_name]['cross_section'], sat_list[sc_name]['cd'])\n",
    "#from org.orekit.forces.drag import DragForce\n",
    "#dragForce = DragForce(atmosphere, isotropicDrag)\n",
    "#propagatorBuilder.addForceModel(dragForce)\n",
    "\n",
    "# Relativity\n",
    "#from org.orekit.forces.gravity import Relativity\n",
    "#relativity = Relativity(orekit_constants.EIGEN5C_EARTH_MU)\n",
    "#propagatorBuilder.addForceModel(relativity)"
   ]
  },
  {
   "cell_type": "code",
   "execution_count": 93,
   "metadata": {},
   "outputs": [],
   "source": [
    "matrixDecomposer = QRDecomposer(1e-11)\n",
    "optimizer = GaussNewtonOptimizer(matrixDecomposer, False)\n",
    "\n",
    "estimator = BatchLSEstimator(optimizer, propagatorBuilder)\n",
    "estimator.setParametersConvergenceThreshold(estimator_convergence_thres)\n",
    "estimator.setMaxIterations(estimator_max_iterations)\n",
    "estimator.setMaxEvaluations(estimator_max_evaluations)"
   ]
  },
  {
   "cell_type": "code",
   "execution_count": 94,
   "metadata": {},
   "outputs": [],
   "source": [
    "# Fetching range data\n",
    "\n",
    "#Open and collect data from csv\n",
    "file = pd.read_csv(\"export_all_NoPert.csv\")\n",
    "az = file['azimuth']\n",
    "el = file['elevation']\n",
    "datetime = file['pv']\n",
    "idx = datetime[0].find(',')\n",
    "\n",
    "errDeg = 0.001 #10*0.000277778 #1 arcsec\n",
    "# TBD\n",
    "azBaseWeight = 1.0\n",
    "elBaseWeight = 1.0\n",
    "\n",
    "# Load values\n",
    "# Ground station creation\n",
    "#frame = FramesFactory.getTOD(False)\n",
    "#frame = FramesFactory.getITRF(IERSConventions.IERS_2010, False)\n",
    "frame = FramesFactory.getTOD(IERSConventions.IERS_2010, False)\n",
    "\n",
    "earth = OneAxisEllipsoid(Constants.WGS84_EARTH_EQUATORIAL_RADIUS, \n",
    "                         Constants.WGS84_EARTH_FLATTENING, \n",
    "                         frame)\n",
    "longitude = radians(21.038)\n",
    "latitude  = radians(67.8790708)\n",
    "altitude  = 527.0\n",
    "station = GeodeticPoint(latitude, longitude, altitude)\n",
    "stationFrame = TopocentricFrame(earth, station, \"Kiruna\")\n",
    "\n",
    "\n",
    "ObsSat= ObservableSatellite(0) # From R5\n",
    "for j in range(0,100):\n",
    "    year = int(datetime[j][1:5])\n",
    "    month = int(datetime[j][6:8])\n",
    "    day = int(datetime[j][9:11])\n",
    "    hour = int(datetime[j][12:14])\n",
    "    minute = int(datetime[j][15:17])\n",
    "    second = int(datetime[j][18:20])\n",
    "    date = AbsoluteDate(year, Month.getMonth(month), day, hour, minute, 0.0, utc)#TimeScalesFactory.getUT1(IERSConventions.IERS_2010, False))\n",
    "    orekitAzEl = AngularAzEl(GroundStation(stationFrame),\n",
    "\t\t\t\t\t#datetime_to_absolutedate(datetime[j][1:idx]),\n",
    "                    date,\n",
    "\t\t\t\t\tJArray('double')([radians(az[j]),radians(el[j])]),\n",
    "                    JArray('double')([radians(errDeg),radians(errDeg)]),\n",
    "                    JArray('double')([azBaseWeight,elBaseWeight]),\n",
    "                    ObsSat)\n",
    "    estimator.addMeasurement(orekitAzEl)\n",
    "\n"
   ]
  },
  {
   "cell_type": "code",
   "execution_count": 95,
   "metadata": {},
   "outputs": [],
   "source": [
    "# Orbit estimation\n",
    "estimatedPropagatorArray = estimator.estimate()"
   ]
  },
  {
   "cell_type": "code",
   "execution_count": 101,
   "metadata": {},
   "outputs": [],
   "source": [
    "estimatedPropagator = estimatedPropagatorArray[0]\n",
    "estimatedInitialState = estimatedPropagator.getInitialState()\n",
    "actualOdDate = estimatedInitialState.getDate()\n",
    "estimatedOrbit_init = estimatedInitialState.getOrbit()"
   ]
  },
  {
   "cell_type": "code",
   "execution_count": 104,
   "metadata": {},
   "outputs": [
    {
     "name": "stdout",
     "output_type": "stream",
     "text": [
      "org.orekit.propagation.numerical.NumericalPropagator@35c09b94\n",
      "SpacecraftState{orbit=Keplerian parameters: {a: 7010886.04754482; e: 0.20064153008167762; i: 97.99328934019404; pa: 0.30265287986772743; raan: 89.96355526364127; v: 0.05653148171348855;}, attitude=org.orekit.attitudes.Attitude@7b44b63d, mass=1000.0, additional={}}\n",
      "2020-01-01T00:00:00.000\n",
      "Keplerian parameters: {a: 7010886.04754482; e: 0.20064153008167762; i: 97.99328934019404; pa: 0.30265287986772743; raan: 89.96355526364127; v: 0.05653148171348855;}\n",
      "[]\n"
     ]
    }
   ],
   "source": [
    "print(estimatedPropagator)\n",
    "print(estimatedInitialState)\n",
    "print(actualOdDate)\n",
    "print(estimatedOrbit_init)\n",
    "print(estimatedPropagator.getEventsDetectors())"
   ]
  },
  {
   "cell_type": "code",
   "execution_count": 103,
   "metadata": {},
   "outputs": [
    {
     "data": {
      "text/plain": [
       "<Map: {org.orekit.estimation.measurements.AngularAzEl@28c88600=org.orekit.estimation.measurements.EstimatedMeasurement@693e4d19, org.orekit.estimation.measurements.AngularAzEl@28782602=org.orekit.estimation.measurements.EstimatedMeasurement@286b39c2, org.orekit.estimation.measurements.AngularAzEl@7dc51783=org.orekit.estimation.measurements.EstimatedMeasurement@5432050b, org.orekit.estimation.measurements.AngularAzEl@2adddc06=org.orekit.estimation.measurements.EstimatedMeasurement@75f2099, org.orekit.estimation.measurements.AngularAzEl@61e45f87=org.orekit.estimation.measurements.EstimatedMeasurement@1c12f3ee, org.orekit.estimation.measurements.AngularAzEl@4565a70a=org.orekit.estimation.measurements.EstimatedMeasurement@6d467c87, org.orekit.estimation.measurements.AngularAzEl@58065f0c=org.orekit.estimation.measurements.EstimatedMeasurement@29182679, org.orekit.estimation.measurements.AngularAzEl@5a4c638d=org.orekit.estimation.measurements.EstimatedMeasurement@57bd802b, org.orekit.estimation.measurements.AngularAzEl@5ffc5491=org.orekit.estimation.measurements.EstimatedMeasurement@5cbb84b1, org.orekit.estimation.measurements.AngularAzEl@5ec77191=org.orekit.estimation.measurements.EstimatedMeasurement@2c779e5, org.orekit.estimation.measurements.AngularAzEl@19f9d595=org.orekit.estimation.measurements.EstimatedMeasurement@6a84bc2a, org.orekit.estimation.measurements.AngularAzEl@5a865416=org.orekit.estimation.measurements.EstimatedMeasurement@5183d589, org.orekit.estimation.measurements.AngularAzEl@7ea4d397=org.orekit.estimation.measurements.EstimatedMeasurement@511d5d04, org.orekit.estimation.measurements.AngularAzEl@1ce93c18=org.orekit.estimation.measurements.EstimatedMeasurement@682c1e93, org.orekit.estimation.measurements.AngularAzEl@3961a41a=org.orekit.estimation.measurements.EstimatedMeasurement@27068a50, org.orekit.estimation.measurements.AngularAzEl@5a101b1c=org.orekit.estimation.measurements.EstimatedMeasurement@68e62ca4, org.orekit.estimation.measurements.AngularAzEl@5f78de22=org.orekit.estimation.measurements.EstimatedMeasurement@5328a9c1, org.orekit.estimation.measurements.AngularAzEl@5f233b26=org.orekit.estimation.measurements.EstimatedMeasurement@5b78fdb1, org.orekit.estimation.measurements.AngularAzEl@4e558728=org.orekit.estimation.measurements.EstimatedMeasurement@48bfb884, org.orekit.estimation.measurements.AngularAzEl@352e612e=org.orekit.estimation.measurements.EstimatedMeasurement@11653e3b, org.orekit.estimation.measurements.AngularAzEl@5767b2af=org.orekit.estimation.measurements.EstimatedMeasurement@715fb77, org.orekit.estimation.measurements.AngularAzEl@470a9030=org.orekit.estimation.measurements.EstimatedMeasurement@1b9c1b51, org.orekit.estimation.measurements.AngularAzEl@17d238b1=org.orekit.estimation.measurements.EstimatedMeasurement@2e52fb3e, org.orekit.estimation.measurements.AngularAzEl@1d3e6d34=org.orekit.estimation.measurements.EstimatedMeasurement@16fe9c29, org.orekit.estimation.measurements.AngularAzEl@349d0836=org.orekit.estimation.measurements.EstimatedMeasurement@3e9803c2, org.orekit.estimation.measurements.AngularAzEl@3e6fd0b9=org.orekit.estimation.measurements.EstimatedMeasurement@4525d1d3, org.orekit.estimation.measurements.AngularAzEl@456be73c=org.orekit.estimation.measurements.EstimatedMeasurement@7c974942, org.orekit.estimation.measurements.AngularAzEl@6e4ea0bd=org.orekit.estimation.measurements.EstimatedMeasurement@1eea9d2d, org.orekit.estimation.measurements.AngularAzEl@32fdec40=org.orekit.estimation.measurements.EstimatedMeasurement@60921b21, org.orekit.estimation.measurements.AngularAzEl@4a1e3ac1=org.orekit.estimation.measurements.EstimatedMeasurement@bd2f5a9, org.orekit.estimation.measurements.AngularAzEl@1fd386c3=org.orekit.estimation.measurements.EstimatedMeasurement@4d4960c8, org.orekit.estimation.measurements.AngularAzEl@5488b5c5=org.orekit.estimation.measurements.EstimatedMeasurement@7808fb9, org.orekit.estimation.measurements.AngularAzEl@5649ec46=org.orekit.estimation.measurements.EstimatedMeasurement@773bd77b, org.orekit.estimation.measurements.AngularAzEl@5300f14a=org.orekit.estimation.measurements.EstimatedMeasurement@6b580b88, org.orekit.estimation.measurements.AngularAzEl@194152cf=org.orekit.estimation.measurements.EstimatedMeasurement@6d91790b, org.orekit.estimation.measurements.AngularAzEl@31611954=org.orekit.estimation.measurements.EstimatedMeasurement@6e6fce47, org.orekit.estimation.measurements.AngularAzEl@e93f3d5=org.orekit.estimation.measurements.EstimatedMeasurement@47c64cfe, org.orekit.estimation.measurements.AngularAzEl@58f174d9=org.orekit.estimation.measurements.EstimatedMeasurement@6ce90bc5, org.orekit.estimation.measurements.AngularAzEl@30b9eadd=org.orekit.estimation.measurements.EstimatedMeasurement@a567e72, org.orekit.estimation.measurements.AngularAzEl@27cbfddf=org.orekit.estimation.measurements.EstimatedMeasurement@1a5b8489, org.orekit.estimation.measurements.AngularAzEl@7d0332e1=org.orekit.estimation.measurements.EstimatedMeasurement@6f8f8a80, org.orekit.estimation.measurements.AngularAzEl@69ce2f62=org.orekit.estimation.measurements.EstimatedMeasurement@4b1c0397, org.orekit.estimation.measurements.AngularAzEl@411291e5=org.orekit.estimation.measurements.EstimatedMeasurement@72805168, org.orekit.estimation.measurements.AngularAzEl@2e1792e7=org.orekit.estimation.measurements.EstimatedMeasurement@34b9fc7d, org.orekit.estimation.measurements.AngularAzEl@45673f68=org.orekit.estimation.measurements.EstimatedMeasurement@27f1bbe0, org.orekit.estimation.measurements.AngularAzEl@1813f3e9=org.orekit.estimation.measurements.EstimatedMeasurement@cda0432, org.orekit.estimation.measurements.AngularAzEl@4ad4936c=org.orekit.estimation.measurements.EstimatedMeasurement@7c211fd0, org.orekit.estimation.measurements.AngularAzEl@7f4037ed=org.orekit.estimation.measurements.EstimatedMeasurement@7004e3d, org.orekit.estimation.measurements.AngularAzEl@347bdeef=org.orekit.estimation.measurements.EstimatedMeasurement@2d84cb86, org.orekit.estimation.measurements.AngularAzEl@430fa4ef=org.orekit.estimation.measurements.EstimatedMeasurement@71a3a190, org.orekit.estimation.measurements.AngularAzEl@4925f4f5=org.orekit.estimation.measurements.EstimatedMeasurement@588ffeb, org.orekit.estimation.measurements.AngularAzEl@74fef3f7=org.orekit.estimation.measurements.EstimatedMeasurement@7c28c1, org.orekit.estimation.measurements.AngularAzEl@47dd778=org.orekit.estimation.measurements.EstimatedMeasurement@baf1bb3, org.orekit.estimation.measurements.AngularAzEl@1adb7478=org.orekit.estimation.measurements.EstimatedMeasurement@67ec8477, org.orekit.estimation.measurements.AngularAzEl@4bf324f9=org.orekit.estimation.measurements.EstimatedMeasurement@25d958c6, org.orekit.estimation.measurements.AngularAzEl@7e0b9178=org.orekit.estimation.measurements.EstimatedMeasurement@4482469c, org.orekit.estimation.measurements.AngularAzEl@7dcc91fd=org.orekit.estimation.measurements.EstimatedMeasurement@3703bf3c, org.orekit.estimation.measurements.AngularAzEl@6ac97b84=org.orekit.estimation.measurements.EstimatedMeasurement@34cf5a97, org.orekit.estimation.measurements.AngularAzEl@577f9109=org.orekit.estimation.measurements.EstimatedMeasurement@5b3f3ba0, org.orekit.estimation.measurements.AngularAzEl@67207d8a=org.orekit.estimation.measurements.EstimatedMeasurement@ddf20fd, org.orekit.estimation.measurements.AngularAzEl@261d8190=org.orekit.estimation.measurements.EstimatedMeasurement@278f8425, org.orekit.estimation.measurements.AngularAzEl@3fbfa96=org.orekit.estimation.measurements.EstimatedMeasurement@695a69a1, org.orekit.estimation.measurements.AngularAzEl@3122b117=org.orekit.estimation.measurements.EstimatedMeasurement@4b1abd11, org.orekit.estimation.measurements.AngularAzEl@1b812421=org.orekit.estimation.measurements.EstimatedMeasurement@3f36b447, org.orekit.estimation.measurements.AngularAzEl@2c42b421=org.orekit.estimation.measurements.EstimatedMeasurement@6443b128, org.orekit.estimation.measurements.AngularAzEl@37d00a23=org.orekit.estimation.measurements.EstimatedMeasurement@5eeedb60, org.orekit.estimation.measurements.AngularAzEl@5f5b5ca4=org.orekit.estimation.measurements.EstimatedMeasurement@40021799, org.orekit.estimation.measurements.AngularAzEl@6b410923=org.orekit.estimation.measurements.EstimatedMeasurement@4a1c0752, org.orekit.estimation.measurements.AngularAzEl@3935e9a8=org.orekit.estimation.measurements.EstimatedMeasurement@332f25c8, org.orekit.estimation.measurements.AngularAzEl@cd7f1ae=org.orekit.estimation.measurements.EstimatedMeasurement@1b32cd16, org.orekit.estimation.measurements.AngularAzEl@41c89d2f=org.orekit.estimation.measurements.EstimatedMeasurement@4bdcaf36, org.orekit.estimation.measurements.AngularAzEl@3e6f3bae=org.orekit.estimation.measurements.EstimatedMeasurement@61d01788, org.orekit.estimation.measurements.AngularAzEl@9ec531=org.orekit.estimation.measurements.EstimatedMeasurement@2b9b7f1f, org.orekit.estimation.measurements.AngularAzEl@522b2631=org.orekit.estimation.measurements.EstimatedMeasurement@264c5d07, org.orekit.estimation.measurements.AngularAzEl@1a411233=org.orekit.estimation.measurements.EstimatedMeasurement@847f3e7, org.orekit.estimation.measurements.AngularAzEl@61533ae=org.orekit.estimation.measurements.EstimatedMeasurement@69cac930, org.orekit.estimation.measurements.AngularAzEl@55caeb35=org.orekit.estimation.measurements.EstimatedMeasurement@19593091, org.orekit.estimation.measurements.AngularAzEl@6999cd39=org.orekit.estimation.measurements.EstimatedMeasurement@5d39f2d8, org.orekit.estimation.measurements.AngularAzEl@107e5441=org.orekit.estimation.measurements.EstimatedMeasurement@6ad6fa53, org.orekit.estimation.measurements.AngularAzEl@22d6cac2=org.orekit.estimation.measurements.EstimatedMeasurement@55ea2d70, org.orekit.estimation.measurements.AngularAzEl@150d80c4=org.orekit.estimation.measurements.EstimatedMeasurement@5e742e4, org.orekit.estimation.measurements.AngularAzEl@547c04c4=org.orekit.estimation.measurements.EstimatedMeasurement@175acfb2, org.orekit.estimation.measurements.AngularAzEl@4287d447=org.orekit.estimation.measurements.EstimatedMeasurement@4a03bb68, org.orekit.estimation.measurements.AngularAzEl@62515a47=org.orekit.estimation.measurements.EstimatedMeasurement@4e868ef5, org.orekit.estimation.measurements.AngularAzEl@109f5dd8=org.orekit.estimation.measurements.EstimatedMeasurement@71c905a3, org.orekit.estimation.measurements.AngularAzEl@26a529dc=org.orekit.estimation.measurements.EstimatedMeasurement@30af7377, org.orekit.estimation.measurements.AngularAzEl@43b0ade=org.orekit.estimation.measurements.EstimatedMeasurement@67a056f1, org.orekit.estimation.measurements.AngularAzEl@794b435f=org.orekit.estimation.measurements.EstimatedMeasurement@1dab9dd6, org.orekit.estimation.measurements.AngularAzEl@d0ec63=org.orekit.estimation.measurements.EstimatedMeasurement@247667dd, org.orekit.estimation.measurements.AngularAzEl@6ecd665=org.orekit.estimation.measurements.EstimatedMeasurement@6f099cef, org.orekit.estimation.measurements.AngularAzEl@78d39a69=org.orekit.estimation.measurements.EstimatedMeasurement@afb5821, org.orekit.estimation.measurements.AngularAzEl@28952dea=org.orekit.estimation.measurements.EstimatedMeasurement@4bff2185, org.orekit.estimation.measurements.AngularAzEl@378bd86d=org.orekit.estimation.measurements.EstimatedMeasurement@5c20ffa8, org.orekit.estimation.measurements.AngularAzEl@4a31c2ee=org.orekit.estimation.measurements.EstimatedMeasurement@7fedfe27, org.orekit.estimation.measurements.AngularAzEl@23cd4ff2=org.orekit.estimation.measurements.EstimatedMeasurement@2f879bab, org.orekit.estimation.measurements.AngularAzEl@4cfbaf4=org.orekit.estimation.measurements.EstimatedMeasurement@1d4664d7, org.orekit.estimation.measurements.AngularAzEl@a8a8b75=org.orekit.estimation.measurements.EstimatedMeasurement@46c00568, org.orekit.estimation.measurements.AngularAzEl@304a9d7b=org.orekit.estimation.measurements.EstimatedMeasurement@56ccd751, org.orekit.estimation.measurements.AngularAzEl@6dba847b=org.orekit.estimation.measurements.EstimatedMeasurement@458544e0, org.orekit.estimation.measurements.AngularAzEl@41d7b27f=org.orekit.estimation.measurements.EstimatedMeasurement@6bcbf05b}>"
      ]
     },
     "execution_count": 103,
     "metadata": {},
     "output_type": "execute_result"
    }
   ],
   "source": []
  },
  {
   "cell_type": "code",
   "execution_count": null,
   "metadata": {},
   "outputs": [],
   "source": []
  },
  {
   "cell_type": "code",
   "execution_count": null,
   "metadata": {},
   "outputs": [],
   "source": []
  },
  {
   "cell_type": "code",
   "execution_count": null,
   "metadata": {},
   "outputs": [],
   "source": []
  },
  {
   "cell_type": "code",
   "execution_count": null,
   "metadata": {},
   "outputs": [],
   "source": []
  },
  {
   "cell_type": "code",
   "execution_count": null,
   "metadata": {},
   "outputs": [],
   "source": []
  },
  {
   "cell_type": "code",
   "execution_count": null,
   "metadata": {},
   "outputs": [],
   "source": []
  },
  {
   "cell_type": "code",
   "execution_count": null,
   "metadata": {},
   "outputs": [],
   "source": []
  },
  {
   "cell_type": "code",
   "execution_count": null,
   "metadata": {},
   "outputs": [],
   "source": []
  },
  {
   "cell_type": "code",
   "execution_count": null,
   "metadata": {},
   "outputs": [],
   "source": []
  },
  {
   "cell_type": "code",
   "execution_count": null,
   "metadata": {},
   "outputs": [],
   "source": []
  },
  {
   "cell_type": "code",
   "execution_count": null,
   "metadata": {},
   "outputs": [],
   "source": []
  }
 ],
 "metadata": {
  "kernelspec": {
   "display_name": "Python 3",
   "language": "python",
   "name": "python3"
  },
  "language_info": {
   "codemirror_mode": {
    "name": "ipython",
    "version": 3
   },
   "file_extension": ".py",
   "mimetype": "text/x-python",
   "name": "python",
   "nbconvert_exporter": "python",
   "pygments_lexer": "ipython3",
   "version": "3.8.5"
  }
 },
 "nbformat": 4,
 "nbformat_minor": 4
}
