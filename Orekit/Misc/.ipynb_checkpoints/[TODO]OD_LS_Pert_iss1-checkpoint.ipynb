{
 "cells": [
  {
   "cell_type": "code",
   "execution_count": 2,
   "metadata": {},
   "outputs": [],
   "source": [
    "# Propagation from AZ/EL observations\n",
    "# Perturbation:\n",
    "# N/A\n",
    "\n",
    "# IOD\n",
    "# Given from propagation_issX -- (IOD Laplace)\n",
    "\n",
    "# Obserbation:\n",
    "# AZ/EL\n",
    "# EME2000\n",
    "\n",
    "# Output:\n",
    "# TBD\n"
   ]
  },
  {
   "cell_type": "code",
   "execution_count": 156,
   "metadata": {},
   "outputs": [],
   "source": [
    "%matplotlib inline\n",
    "\n",
    "from math import radians, pi\n",
    "import pandas as pd\n",
    "import numpy as np\n",
    "import plotly.express as px\n",
    "\n",
    "\n",
    "import orekit\n",
    "vm = orekit.initVM()\n",
    "\n",
    "from orekit.pyhelpers import setup_orekit_curdir, absolutedate_to_datetime\n",
    "setup_orekit_curdir()\n",
    "\n",
    "\n",
    "from org.orekit.orbits import KeplerianOrbit, PositionAngle\n",
    "from org.orekit.propagation.analytical import KeplerianPropagator\n",
    "from org.orekit.time import AbsoluteDate, TimeScalesFactory, TimeScale\n",
    "from org.orekit.utils import Constants\n",
    "from org.orekit.frames import FramesFactory, TopocentricFrame\n",
    "from org.orekit.bodies import OneAxisEllipsoid, GeodeticPoint\n",
    "from org.hipparchus.geometry.euclidean.threed import Vector3D\n",
    "from org.orekit.attitudes import LofOffset\n",
    "from org.orekit.bodies import CelestialBodyFactory, OneAxisEllipsoid\n",
    "from org.orekit.forces.drag import IsotropicDrag\n",
    "from org.orekit.forces.gravity.potential import GravityFieldFactory\n",
    "from org.orekit.forces.maneuvers import ImpulseManeuver\n",
    "from org.orekit.frames import FramesFactory, LOFType, EOPHistory\n",
    "from org.orekit.models.earth.atmosphere import HarrisPriester\n",
    "from org.orekit.orbits import CircularOrbit, OrbitType, PositionAngle\n",
    "from org.orekit.propagation import PropagationType, SpacecraftState\n",
    "from org.orekit.propagation.events import DateDetector, EventEnablingPredicateFilter, PythonEnablingPredicate,\\\n",
    "     PositionAngleDetector, PythonEventDetector, AbstractDetector, EventDetector\n",
    "from org.orekit.propagation.conversion import DormandPrince853IntegratorBuilder, DSSTPropagatorBuilder\n",
    "from org.orekit.propagation.semianalytical.dsst.forces import DSSTAtmosphericDrag, DSSTNewtonianAttraction, DSSTZonal\n",
    "from org.orekit.time import AbsoluteDate, TimeScalesFactory\n",
    "from org.orekit.utils import Constants, IERSConventions, PVCoordinatesProvider\n",
    "from orekit.pyhelpers import absolutedate_to_datetime\n",
    "from org.hipparchus.linear import QRDecomposer\n",
    "from org.hipparchus.optim.nonlinear.vector.leastsquares import GaussNewtonOptimizer\n",
    "from org.orekit.estimation.leastsquares import BatchLSEstimator\n",
    "from org.orekit.propagation.numerical import NumericalPropagator\n",
    "from org.orekit.propagation.conversion import AbstractPropagatorBuilder\n",
    "\n",
    "from org.orekit.estimation.measurements import AngularAzEl\n",
    "from org.orekit.estimation.measurements import ObservableSatellite\n",
    "from org.orekit.estimation.measurements import GroundStation\n",
    "from org.orekit.estimation.measurements import *\n",
    "\n",
    "from orekit.pyhelpers import absolutedate_to_datetime\n",
    "from collections import namedtuple\n",
    "from org.orekit.time import Month\n",
    "from orekit import JArray\n",
    "\n",
    "from org.orekit.estimation.sequential import KalmanEstimator, KalmanEstimatorBuilder\n"
   ]
  },
  {
   "cell_type": "code",
   "execution_count": 157,
   "metadata": {},
   "outputs": [],
   "source": [
    "utc = TimeScalesFactory.getUTC()\n",
    "\n",
    "# Given by ADS\n",
    "a = 7000.0 * 1000  \n",
    "e = 0.0016 \n",
    "i = radians(98.0)     \n",
    "omega = radians(0.2)   # perigee argument\n",
    "raan = radians(90.0)  # right ascension of ascending node\n",
    "lv = radians(0.1)    # True anomaly\n",
    "\n",
    "mass = 625.0\n",
    "\n",
    "epochDate = AbsoluteDate(2020, 1, 1, 0, 0, 00.000, utc)\n",
    "initialDate = epochDate\n",
    "\n",
    "## Inertial frame where the satellite is defined\n",
    "inertialFrame = FramesFactory.getEME2000()\n",
    "earth = OneAxisEllipsoid(Constants.WGS84_EARTH_EQUATORIAL_RADIUS, \n",
    "                         Constants.WGS84_EARTH_FLATTENING, \n",
    "                         inertialFrame)\n",
    "\n",
    "## Orbit construction as Keplerian\n",
    "initialOrbit = KeplerianOrbit(a, e, i, omega, raan, lv,\n",
    "                              PositionAngle.TRUE,\n",
    "                              inertialFrame, epochDate, Constants.WGS84_EARTH_MU)\n",
    "\n",
    "cross_section_drag = 3. # TODO : the user must be able to set this\n",
    "drag_coeff = 2.2\n",
    "frame = FramesFactory.getITRF(IERSConventions.IERS_2010, False)\n",
    "earth = OneAxisEllipsoid(Constants.WGS84_EARTH_EQUATORIAL_RADIUS, Constants.WGS84_EARTH_FLATTENING, frame)\n",
    "atmosphere = HarrisPriester(CelestialBodyFactory.getSun(), earth)\n",
    "drag_sensitive = IsotropicDrag(cross_section_drag, drag_coeff)\n",
    "drag_force = DSSTAtmosphericDrag(atmosphere, drag_sensitive, Constants.WGS84_EARTH_MU)\n",
    "# central body attraction\n",
    "central_body = DSSTNewtonianAttraction(Constants.WGS84_EARTH_MU)\n",
    "# J2 perturbation\n",
    "zonal_central_body = DSSTZonal(GravityFieldFactory.getUnnormalizedProvider(6, 6))\n",
    "\n",
    "#def propagator_reference(initial_orbit, mass):\n",
    "builder = DSSTPropagatorBuilder(initialOrbit,\n",
    "                                DormandPrince853IntegratorBuilder(600.0, 86400.0, 100.0),\n",
    "                                1.0, PropagationType.MEAN, PropagationType.MEAN)\n",
    "builder.setMass(mass)\n",
    "propagator = builder.buildPropagator(builder.getSelectedNormalizedParameters())\n",
    "propagator.setEphemerisMode()\n",
    "#    return propagator\n",
    "\n",
    "#def propagator_with_drag_and_J2(initial_orbit, mass):\n",
    "#propagator = propagator_reference(initial_orbit, mass)\n",
    "propagator.addForceModel(drag_force)\n",
    "propagator.addForceModel(central_body)\n",
    "propagator.addForceModel(zonal_central_body)\n",
    "#    return propagator\n",
    "\n",
    "#propagator = propagator_with_drag_and_J2(initialOrbit, mass)"
   ]
  },
  {
   "cell_type": "code",
   "execution_count": null,
   "metadata": {},
   "outputs": [],
   "source": []
  },
  {
   "cell_type": "code",
   "execution_count": 164,
   "metadata": {},
   "outputs": [],
   "source": [
    "# Estimator creation\n",
    "\n",
    "matrixDecomposer = QRDecomposer(1e-11)\n",
    "optimizer = GaussNewtonOptimizer(matrixDecomposer, False)\n",
    "\n",
    "#Check if builder or propagator needs to be passer and what is the difference\n",
    "estimator = BatchLSEstimator(optimizer, builder)\n",
    "estimator_convergence_thres = 1e-3\n",
    "estimator_max_iterations = 50\n",
    "estimator_max_evaluations = 35\n",
    "estimator.setParametersConvergenceThreshold(estimator_convergence_thres)\n",
    "estimator.setMaxIterations(estimator_max_iterations)\n",
    "estimator.setMaxEvaluations(estimator_max_evaluations)"
   ]
  },
  {
   "cell_type": "code",
   "execution_count": 165,
   "metadata": {},
   "outputs": [],
   "source": [
    "# Open and collect data from csv\n",
    "file = pd.read_csv(\"export_visible.csv\")\n",
    "az = file['azimuth']\n",
    "el = file['elevation']\n",
    "datetime = file['pv']\n",
    "idx = datetime[0].find(',')\n",
    "\n",
    "errDeg = 0.000277778 #1 arcsec\n",
    "# TBD\n",
    "azBaseWeight = 0.1\n",
    "elBaseWeight = 0.1\n",
    "\n",
    "# Load values\n",
    "# Ground station creation\n",
    "#inertialFrame = FramesFactory.getEME2000()\n",
    "itrf = FramesFactory.getITRF(IERSConventions.IERS_2010, False)\n",
    "#tod = FramesFactory.getTOD(IERSConventions.IERS_2010, False)\n",
    "\n",
    "earth = OneAxisEllipsoid(Constants.WGS84_EARTH_EQUATORIAL_RADIUS, \n",
    "                         Constants.WGS84_EARTH_FLATTENING, \n",
    "                         itrf)\n",
    "longitude = radians(21.038)\n",
    "latitude  = radians(67.8790708)\n",
    "altitude  = 527.0\n",
    "station = GeodeticPoint(latitude, longitude, altitude)\n",
    "stationFrame = TopocentricFrame(earth, station, \"Kiruna\")\n",
    "\n",
    "\n",
    "ObsSat= ObservableSatellite(0) # From R5\n",
    "for j in range(0,len(az)):\n",
    "    year = int(datetime[j][1:5])\n",
    "    month = int(datetime[j][6:8])\n",
    "    day = int(datetime[j][9:11])\n",
    "    hour = int(datetime[j][12:14])\n",
    "    minute = int(datetime[j][15:17])\n",
    "    second = int(datetime[j][18:20])\n",
    "    date = AbsoluteDate(year, Month.getMonth(month), day, hour, minute, 0.0, TimeScalesFactory.getUTC())\n",
    "    orekitAzEl = AngularAzEl(GroundStation(stationFrame), #station.getNadir(),\n",
    "\t\t\t\t\t#datetime_to_absolutedate(datetime[j][1:idx]),\n",
    "                    date,\n",
    "\t\t\t\t\tJArray('double')([radians(az[j]),radians(el[j])]),\n",
    "                    JArray('double')([radians(errDeg),radians(errDeg)]),\n",
    "                    JArray('double')([azBaseWeight,elBaseWeight]),\n",
    "                    ObsSat)\n",
    "    estimator.addMeasurement(orekitAzEl)\n",
    "\n"
   ]
  },
  {
   "cell_type": "code",
   "execution_count": 166,
   "metadata": {},
   "outputs": [
    {
     "ename": "JavaError",
     "evalue": "<super: <class 'JavaError'>, <JavaError object>>\n    Java stacktrace:\norg.orekit.errors.OrekitIllegalArgumentException: true anomaly -3.142 out of hyperbolic range (e = 1, -3.142 < v < 3.142)\n\tat org.orekit.orbits.KeplerianOrbit.<init>(KeplerianOrbit.java:266)\n\tat org.orekit.orbits.KeplerianOrbit.<init>(KeplerianOrbit.java:163)\n\tat org.orekit.orbits.OrbitType$4.mapArrayToOrbit(OrbitType.java:492)\n\tat org.orekit.orbits.OrbitType$4.mapArrayToOrbit(OrbitType.java:448)\n\tat org.orekit.propagation.conversion.AbstractPropagatorBuilder.createInitialOrbit(AbstractPropagatorBuilder.java:306)\n\tat org.orekit.propagation.conversion.DSSTPropagatorBuilder.buildPropagator(DSSTPropagatorBuilder.java:215)\n\tat org.orekit.propagation.conversion.DSSTPropagatorBuilder.buildPropagator(DSSTPropagatorBuilder.java:50)\n\tat org.orekit.estimation.leastsquares.DSSTBatchLSModel.createPropagators(DSSTBatchLSModel.java:342)\n\tat org.orekit.estimation.leastsquares.DSSTBatchLSModel.value(DSSTBatchLSModel.java:243)\n\tat org.hipparchus.optim.nonlinear.vector.leastsquares.LeastSquaresFactory$LocalLeastSquaresProblem.evaluate(LeastSquaresFactory.java:440)\n\tat org.orekit.estimation.leastsquares.BatchLSEstimator$TappedLSProblem.evaluate(BatchLSEstimator.java:616)\n\tat org.hipparchus.optim.nonlinear.vector.leastsquares.GaussNewtonOptimizer.optimize(GaussNewtonOptimizer.java:399)\n\tat org.orekit.estimation.leastsquares.BatchLSEstimator.estimate(BatchLSEstimator.java:436)\n",
     "output_type": "error",
     "traceback": [
      "\u001b[0;31m--------------------------------------------------\u001b[0m",
      "\u001b[0;31mJavaError\u001b[0m        Traceback (most recent call last)",
      "\u001b[0;32m<ipython-input-166-2b58e30b43ff>\u001b[0m in \u001b[0;36m<module>\u001b[0;34m\u001b[0m\n\u001b[1;32m      1\u001b[0m \u001b[0;31m# Orbit estimation\u001b[0m\u001b[0;34m\u001b[0m\u001b[0;34m\u001b[0m\u001b[0;34m\u001b[0m\u001b[0m\n\u001b[0;32m----> 2\u001b[0;31m \u001b[0mestimatedPropagatorArray\u001b[0m \u001b[0;34m=\u001b[0m \u001b[0mestimator\u001b[0m\u001b[0;34m.\u001b[0m\u001b[0mestimate\u001b[0m\u001b[0;34m(\u001b[0m\u001b[0;34m)\u001b[0m\u001b[0;34m\u001b[0m\u001b[0;34m\u001b[0m\u001b[0m\n\u001b[0m",
      "\u001b[0;31mJavaError\u001b[0m: <super: <class 'JavaError'>, <JavaError object>>\n    Java stacktrace:\norg.orekit.errors.OrekitIllegalArgumentException: true anomaly -3.142 out of hyperbolic range (e = 1, -3.142 < v < 3.142)\n\tat org.orekit.orbits.KeplerianOrbit.<init>(KeplerianOrbit.java:266)\n\tat org.orekit.orbits.KeplerianOrbit.<init>(KeplerianOrbit.java:163)\n\tat org.orekit.orbits.OrbitType$4.mapArrayToOrbit(OrbitType.java:492)\n\tat org.orekit.orbits.OrbitType$4.mapArrayToOrbit(OrbitType.java:448)\n\tat org.orekit.propagation.conversion.AbstractPropagatorBuilder.createInitialOrbit(AbstractPropagatorBuilder.java:306)\n\tat org.orekit.propagation.conversion.DSSTPropagatorBuilder.buildPropagator(DSSTPropagatorBuilder.java:215)\n\tat org.orekit.propagation.conversion.DSSTPropagatorBuilder.buildPropagator(DSSTPropagatorBuilder.java:50)\n\tat org.orekit.estimation.leastsquares.DSSTBatchLSModel.createPropagators(DSSTBatchLSModel.java:342)\n\tat org.orekit.estimation.leastsquares.DSSTBatchLSModel.value(DSSTBatchLSModel.java:243)\n\tat org.hipparchus.optim.nonlinear.vector.leastsquares.LeastSquaresFactory$LocalLeastSquaresProblem.evaluate(LeastSquaresFactory.java:440)\n\tat org.orekit.estimation.leastsquares.BatchLSEstimator$TappedLSProblem.evaluate(BatchLSEstimator.java:616)\n\tat org.hipparchus.optim.nonlinear.vector.leastsquares.GaussNewtonOptimizer.optimize(GaussNewtonOptimizer.java:399)\n\tat org.orekit.estimation.leastsquares.BatchLSEstimator.estimate(BatchLSEstimator.java:436)\n"
     ]
    }
   ],
   "source": [
    "# Orbit estimation\n",
    "estimatedPropagatorArray = estimator.estimate()"
   ]
  },
  {
   "cell_type": "code",
   "execution_count": null,
   "metadata": {},
   "outputs": [],
   "source": []
  },
  {
   "cell_type": "code",
   "execution_count": null,
   "metadata": {},
   "outputs": [],
   "source": []
  },
  {
   "cell_type": "code",
   "execution_count": null,
   "metadata": {},
   "outputs": [],
   "source": []
  },
  {
   "cell_type": "code",
   "execution_count": null,
   "metadata": {},
   "outputs": [],
   "source": []
  },
  {
   "cell_type": "code",
   "execution_count": null,
   "metadata": {},
   "outputs": [],
   "source": []
  },
  {
   "cell_type": "code",
   "execution_count": null,
   "metadata": {},
   "outputs": [],
   "source": []
  },
  {
   "cell_type": "code",
   "execution_count": null,
   "metadata": {},
   "outputs": [],
   "source": []
  },
  {
   "cell_type": "code",
   "execution_count": null,
   "metadata": {},
   "outputs": [],
   "source": []
  },
  {
   "cell_type": "code",
   "execution_count": null,
   "metadata": {},
   "outputs": [],
   "source": []
  },
  {
   "cell_type": "code",
   "execution_count": null,
   "metadata": {},
   "outputs": [],
   "source": []
  },
  {
   "cell_type": "code",
   "execution_count": 167,
   "metadata": {},
   "outputs": [
    {
     "name": "stderr",
     "output_type": "stream",
     "text": [
      "testForwardBackwardStep (__main__.OrekitStepHandlerTest) ... ERROR\n",
      "testIsInterpolated (__main__.OrekitStepHandlerTest) ... "
     ]
    },
    {
     "name": "stdout",
     "output_type": "stream",
     "text": [
      "File : /home/whiskiss/SAAS/thesis_python/python_wrapper/resources.zip  not found\n",
      "File : /home/whiskiss/SAAS/thesis_python/python_wrapper/resources.zip  not found\n",
      "testIsInterpolated OK\n"
     ]
    },
    {
     "name": "stderr",
     "output_type": "stream",
     "text": [
      "ok\n",
      "\n",
      "======================================================================\n",
      "ERROR: testForwardBackwardStep (__main__.OrekitStepHandlerTest)\n",
      "----------------------------------------------------------------------\n",
      "Traceback (most recent call last):\n",
      "  File \"<ipython-input-167-456e695b5d3c>\", line 50, in testForwardBackwardStep\n",
      "    mu = CelestialBodyFactory.getEarth().getGM()\n",
      "orekit.JavaError: <super: <class 'JavaError'>, <JavaError object>>\n",
      "    Java stacktrace:\n",
      "org.orekit.errors.OrekitException: resources.zip (No such file or directory)\n",
      "\tat org.orekit.data.ZipJarCrawler.feed(ZipJarCrawler.java:155)\n",
      "\tat org.orekit.data.DataProvidersManager.feed(DataProvidersManager.java:362)\n",
      "\tat org.orekit.data.AbstractSelfFeedingLoader.feed(AbstractSelfFeedingLoader.java:55)\n",
      "\tat org.orekit.bodies.JPLEphemeridesLoader.getLoadedConstant(JPLEphemeridesLoader.java:471)\n",
      "\tat org.orekit.bodies.JPLEphemeridesLoader.getLoadedEarthMoonMassRatio(JPLEphemeridesLoader.java:384)\n",
      "\tat org.orekit.bodies.JPLEphemeridesLoader.getLoadedGravitationalCoefficient(JPLEphemeridesLoader.java:420)\n",
      "\tat org.orekit.bodies.JPLEphemeridesLoader.loadCelestialBody(JPLEphemeridesLoader.java:311)\n",
      "\tat org.orekit.bodies.LazyLoadedCelestialBodies.getBody(LazyLoadedCelestialBodies.java:332)\n",
      "\tat org.orekit.bodies.LazyLoadedCelestialBodies.getEarth(LazyLoadedCelestialBodies.java:266)\n",
      "\tat org.orekit.bodies.CelestialBodyFactory.getEarth(CelestialBodyFactory.java:288)\n",
      "Caused by: java.io.FileNotFoundException: resources.zip (No such file or directory)\n",
      "\tat java.io.FileInputStream.open0(Native Method)\n",
      "\tat java.io.FileInputStream.open(FileInputStream.java:195)\n",
      "\tat java.io.FileInputStream.<init>(FileInputStream.java:138)\n",
      "\tat org.orekit.data.ZipJarCrawler.openStream(ZipJarCrawler.java:168)\n",
      "\tat org.orekit.data.ZipJarCrawler.feed(ZipJarCrawler.java:149)\n",
      "\t... 9 more\n",
      "\n",
      "\n",
      "----------------------------------------------------------------------\n",
      "Ran 2 tests in 0.032s\n",
      "\n",
      "FAILED (errors=1)\n"
     ]
    },
    {
     "ename": "SystemExit",
     "evalue": "True",
     "output_type": "error",
     "traceback": [
      "An exception has occurred, use %tb to see the full traceback.\n",
      "\u001b[0;31mSystemExit\u001b[0m\u001b[0;31m:\u001b[0m True\n"
     ]
    },
    {
     "name": "stderr",
     "output_type": "stream",
     "text": [
      "/home/whiskiss/anaconda3/lib/python3.8/site-packages/IPython/core/interactiveshell.py:3426: UserWarning: To exit: use 'exit', 'quit', or Ctrl-D.\n",
      "  warn(\"To exit: use 'exit', 'quit', or Ctrl-D.\", stacklevel=1)\n"
     ]
    }
   ],
   "source": []
  },
  {
   "cell_type": "code",
   "execution_count": null,
   "metadata": {},
   "outputs": [],
   "source": []
  }
 ],
 "metadata": {
  "kernelspec": {
   "display_name": "Python 3",
   "language": "python",
   "name": "python3"
  },
  "language_info": {
   "codemirror_mode": {
    "name": "ipython",
    "version": 3
   },
   "file_extension": ".py",
   "mimetype": "text/x-python",
   "name": "python",
   "nbconvert_exporter": "python",
   "pygments_lexer": "ipython3",
   "version": "3.8.5"
  }
 },
 "nbformat": 4,
 "nbformat_minor": 4
}
