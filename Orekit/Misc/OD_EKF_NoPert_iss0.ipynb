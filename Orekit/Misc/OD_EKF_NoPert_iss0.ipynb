{
 "cells": [
  {
   "cell_type": "code",
   "execution_count": 1,
   "metadata": {},
   "outputs": [],
   "source": [
    "# Propagation from AZ/EL observations\n",
    "# Perturbation:\n",
    "# N/A\n",
    "# Maneuver: \n",
    "# No\n",
    "\n",
    "# IOD\n",
    "# Given from propagation_issX\n",
    "\n",
    "# Obserbation:\n",
    "# AZ/EL\n",
    "# TOD / IERS_2010\n",
    "\n",
    "# Output:\n",
    "# TBD\n",
    "\n",
    "# Remark: Implementation of the Orbdetpy methods Estimation.java"
   ]
  },
  {
   "cell_type": "code",
   "execution_count": 2,
   "metadata": {
    "jupyter": {
     "source_hidden": true
    },
    "tags": []
   },
   "outputs": [],
   "source": [
    "%matplotlib inline\n",
    "\n",
    "from math import radians, pi, degrees\n",
    "import pandas as pd\n",
    "import numpy as np\n",
    "import plotly.express as px\n",
    "from scipy import signal\n",
    "\n",
    "import orekit\n",
    "vm = orekit.initVM()\n",
    "\n",
    "from orekit.pyhelpers import setup_orekit_curdir, absolutedate_to_datetime\n",
    "setup_orekit_curdir()\n",
    "\n",
    "from org.orekit.orbits import KeplerianOrbit, PositionAngle\n",
    "from org.orekit.propagation.analytical import KeplerianPropagator\n",
    "from org.orekit.time import AbsoluteDate, TimeScalesFactory, TimeScale\n",
    "from org.orekit.utils import Constants\n",
    "from org.orekit.frames import FramesFactory, TopocentricFrame\n",
    "from org.orekit.bodies import OneAxisEllipsoid, GeodeticPoint\n",
    "from org.hipparchus.geometry.euclidean.threed import Vector3D\n",
    "from org.orekit.attitudes import LofOffset\n",
    "from org.orekit.bodies import CelestialBodyFactory, OneAxisEllipsoid\n",
    "from org.orekit.forces.drag import IsotropicDrag\n",
    "from org.orekit.forces.gravity.potential import GravityFieldFactory\n",
    "from org.orekit.forces.maneuvers import ImpulseManeuver\n",
    "from org.orekit.frames import FramesFactory, LOFType, EOPHistory\n",
    "from org.orekit.models.earth.atmosphere import HarrisPriester\n",
    "from org.orekit.orbits import CircularOrbit, OrbitType, PositionAngle\n",
    "from org.orekit.propagation import PropagationType, SpacecraftState\n",
    "from org.orekit.propagation.events import DateDetector, EventEnablingPredicateFilter, PythonEnablingPredicate,\\\n",
    "     PositionAngleDetector, PythonEventDetector, AbstractDetector, EventDetector\n",
    "from org.orekit.propagation.conversion import DormandPrince853IntegratorBuilder, DSSTPropagatorBuilder, \\\n",
    "     ClassicalRungeKuttaIntegratorBuilder, EulerIntegratorBuilder\n",
    "from org.orekit.propagation.semianalytical.dsst.forces import DSSTAtmosphericDrag, DSSTNewtonianAttraction, DSSTZonal\n",
    "from org.orekit.time import AbsoluteDate, TimeScalesFactory\n",
    "from org.orekit.utils import Constants, IERSConventions, PVCoordinatesProvider\n",
    "from orekit.pyhelpers import absolutedate_to_datetime\n",
    "from org.hipparchus.linear import RealMatrix\n",
    "from org.hipparchus.linear import QRDecomposer, AbstractRealMatrix\n",
    "from org.hipparchus.optim.nonlinear.vector.leastsquares import GaussNewtonOptimizer\n",
    "from org.orekit.estimation.leastsquares import BatchLSEstimator\n",
    "from org.orekit.propagation.numerical import NumericalPropagator\n",
    "from org.orekit.propagation.conversion import AbstractPropagatorBuilder, PropagatorBuilder\n",
    "\n",
    "from org.orekit.estimation.measurements import AngularAzEl\n",
    "from org.orekit.estimation.measurements import ObservableSatellite\n",
    "from org.orekit.estimation.measurements import GroundStation\n",
    "from org.orekit.estimation.sequential import KalmanEstimatorBuilder\n",
    "from org.orekit.estimation.sequential import KalmanEstimator\n",
    "from org.orekit.estimation.sequential import KalmanEstimation,AbstractCovarianceMatrixProvider\n",
    "from org.orekit.estimation.measurements import *\n",
    "from org.orekit.estimation.iod import IodGooding, IodLaplace\n",
    "\n",
    "from orekit.pyhelpers import absolutedate_to_datetime, datetime_to_absolutedate, JArray_double2D\n",
    "from collections import namedtuple\n",
    "from org.orekit.time import Month\n",
    "from orekit import JArray\n",
    "\n",
    "from org.orekit.estimation.sequential import KalmanEstimator, KalmanEstimatorBuilder, CovarianceMatrixProvider, ConstantProcessNoise\n",
    "from org.orekit.orbits import Orbit\n",
    "from org.hipparchus.linear import MatrixUtils\n",
    "\n",
    "from org.orekit.propagation.conversion import DormandPrince853IntegratorBuilder\n",
    "from org.orekit.propagation.conversion import NumericalPropagatorBuilder\n",
    "from org.orekit.orbits import PositionAngle\n",
    "\n",
    "from org.orekit.forces.gravity.potential import GravityFieldFactory\n",
    "from org.orekit.forces.gravity import HolmesFeatherstoneAttractionModel\n",
    "\n",
    "from org.orekit.utils import ParameterDriver\n",
    "\n",
    "from org.hipparchus.linear import Array2DRowRealMatrix  \n",
    "from org.orekit.estimation.sequential import KalmanEstimatorBuilder, KalmanEstimation\n",
    "from org.orekit.orbits import CartesianOrbit, Orbit\n",
    "from org.orekit.utils import TimeStampedPVCoordinates"
   ]
  },
  {
   "cell_type": "code",
   "execution_count": 3,
   "metadata": {},
   "outputs": [],
   "source": [
    "def initCov(initialCov, initData, matSize):\n",
    "    for i in range(0,matSize):\n",
    "        initialCov.setEntry(i, i, 1.0);\n",
    "        for j in range(0,i):\n",
    "            initialCov.setEntry(i, j, initData[j]);\n",
    "            initialCov.setEntry(j, i, initData[j]);\n",
    "            #print(initData[j])\n",
    "    return initialCov\n",
    "\n",
    "def getAzElDate(datetime, ref):\n",
    "    year = int(datetime[1:5])\n",
    "    month = int(datetime[6:8])\n",
    "    day = int(datetime[9:11])\n",
    "    hour = int(datetime[12:14])\n",
    "    minute = int(datetime[15:17])\n",
    "    second = int(datetime[18:20])\n",
    "    return AbsoluteDate(year, Month.getMonth(month), day, hour, minute, 0.0, ref)"
   ]
  },
  {
   "cell_type": "raw",
   "metadata": {
    "jupyter": {
     "source_hidden": true
    },
    "tags": []
   },
   "source": [
    "from org.orekit.frames import Frame, Transform\n",
    "from org.orekit.utils import PVCoordinates\n",
    "\n",
    "file = pd.read_csv(\"export_visible_NoPert.csv\")\n",
    "az = file['azimuth']\n",
    "el = file['elevation']\n",
    "datetime = file['pv']\n",
    "idx = datetime[0].find(',')\n",
    "\n",
    "initialDate = AbsoluteDate(2020, 1, 1, 0, 0, 00.000, utc)\n",
    "inertialFrame =  FramesFactory.getTOD(IERSConventions.IERS_2010, False)\n",
    "\n",
    "longitude = radians(21.038)\n",
    "latitude  = radians(67.8790708)\n",
    "altitude  = 527.0\n",
    "station = GeodeticPoint(latitude, longitude, altitude)\n",
    "stationFrame = TopocentricFrame(earth, station, \"Kiruna\")\n",
    "\n",
    "time = []\n",
    "los = [] \n",
    "\n",
    "for i in range(3):\n",
    "    time.append(datetime[i])\n",
    "    los.append(Vector3D([float(az[i]),float(el[i]),0.0]))\n",
    "\n",
    "frame = Frame(inertialFrame,Transform(initialDate, Vector3D([0.0,0.0,0.0])),'Josh')\n",
    "print(type(frame))\n",
    "\n",
    "position = stationFrame.getPVCoordinates(initialDate, inertialFrame).getPosition()\n",
    "velocity = stationFrame.getPVCoordinates(initialDate, inertialFrame).getVelocity()\n",
    "test = PVCoordinates( position,\n",
    "                      velocity)\n",
    "print(type(test))\n",
    "print(type(frame))\n",
    "\n",
    "IodLaplace.estimate(frame, test, time[0], los[0], time[1], los[1], time[2], los[2])\n"
   ]
  },
  {
   "cell_type": "code",
   "execution_count": 4,
   "metadata": {},
   "outputs": [],
   "source": [
    "# ADS Inputs\n",
    "a = 7500000.0  \n",
    "e = 0.2\n",
    "i = radians(98.0)     \n",
    "omega = radians(0.2)   # perigee argument\n",
    "raan = radians(90.0)  # right ascension of ascending node\n",
    "lv = radians(0.0)#0.1)    # True anomaly\n",
    "\n",
    "\n",
    "#mass = 625.0\n",
    "utc = TimeScalesFactory.getUTC()\n",
    "initialDate = AbsoluteDate(2020, 1, 1, 0, 0, 00.000, utc)\n",
    "\n",
    "## Inertial frame where the satellite is defined\n",
    "inertialFrame =  FramesFactory.getTOD(IERSConventions.IERS_2010, False)\n",
    "earth = OneAxisEllipsoid(Constants.WGS84_EARTH_EQUATORIAL_RADIUS, \n",
    "                         Constants.WGS84_EARTH_FLATTENING, \n",
    "                         inertialFrame)\n",
    "\n",
    "## Orbit construction as Keplerian\n",
    "initialOrbit = KeplerianOrbit(a, e, i, omega, raan, lv,\n",
    "                              PositionAngle.TRUE,\n",
    "                              inertialFrame, initialDate, Constants.WGS84_EARTH_MU)\n",
    "\n",
    "# Orbit propagator parameters\n",
    "prop_min_step = 10.0 # s\n",
    "prop_max_step = 24*3600.0 # s\n",
    "prop_position_error = 1000.0 # m\n",
    "\n",
    "# Estimator parameters\n",
    "estimator_position_scale = 1.0 # m\n",
    "estimator_convergence_thres = 1e-3\n",
    "estimator_max_iterations = 25\n",
    "estimator_max_evaluations = 35\n"
   ]
  },
  {
   "cell_type": "code",
   "execution_count": 5,
   "metadata": {},
   "outputs": [],
   "source": [
    "# 182\n",
    "\n",
    "integratorBuilder = DormandPrince853IntegratorBuilder(prop_min_step, prop_max_step, prop_position_error)\n",
    "kepPropagatorBuilder = NumericalPropagatorBuilder(initialOrbit,\n",
    "                                                   integratorBuilder,\n",
    "                                                   PositionAngle.MEAN,\n",
    "                                                   estimator_position_scale)\n",
    "\n",
    "# Earth gravity field with degree 20 and order 20\n",
    "gravityProvider = GravityFieldFactory.getConstantNormalizedProvider(20,20)\n",
    "gravityAttractionModel = HolmesFeatherstoneAttractionModel(inertialFrame, gravityProvider)\n",
    "kepPropagatorBuilder.addForceModel(gravityAttractionModel)\n"
   ]
  },
  {
   "cell_type": "code",
   "execution_count": 6,
   "metadata": {},
   "outputs": [],
   "source": [
    "\n",
    "if 1:\n",
    "    plst = kepPropagatorBuilder.getPropagationParametersDrivers()\n",
    "\n",
    "    dragCoefficient = ParameterDriver('Cd', 2.0, 1.0, 1.0, 3.0)\n",
    "    dragCoefficient.setSelected(True)\n",
    "    plst.add(dragCoefficient)\n",
    "\n",
    "    rpCoeffReflection = ParameterDriver('Cr', 1.5, 1.0, 1.0, 2.0)\n",
    "    rpCoeffReflection.setSelected(True)\n",
    "    plst.add(rpCoeffReflection)\n",
    "\n",
    "    estmDMCAcceleration = ParameterDriver('DMC', 0.1, 1.0, -1.0e-2, -1.0e-2)\n",
    "    estmDMCAcceleration.setSelected(True)\n",
    "    plst.add(estmDMCAcceleration)\n",
    "\n"
   ]
  },
  {
   "cell_type": "code",
   "execution_count": null,
   "metadata": {},
   "outputs": [],
   "source": []
  },
  {
   "cell_type": "code",
   "execution_count": null,
   "metadata": {},
   "outputs": [],
   "source": [
    " "
   ]
  },
  {
   "cell_type": "code",
   "execution_count": 7,
   "metadata": {},
   "outputs": [
    {
     "name": "stdout",
     "output_type": "stream",
     "text": [
      "9\n"
     ]
    }
   ],
   "source": [
    "# Creation of Noise matrix\n",
    "def initCovLower2(initialCov, initData, matSize):\n",
    "    for i in range(0,matSize):\n",
    "        initialCov.setEntry(i, i, initData[i]);\n",
    "        for j in range(0,i):\n",
    "            initialCov.setEntry(i, j, initData[j]);\n",
    "            initialCov.setEntry(j, i, initData[j]);\n",
    "            #print(initData[j])\n",
    "    return initialCov\n",
    "\n",
    "def initCov2(initialCov, initData, matSize):\n",
    "    for i in range(0,matSize):\n",
    "        initialCov.setEntry(i, i, initData[i]);\n",
    "        for j in range(0,matSize):\n",
    "            initialCov.setEntry(i, j, initData[j]);\n",
    "            initialCov.setEntry(j, i, initData[j]);\n",
    "            #print(initData[j])\n",
    "    return initialCov\n",
    "\n",
    "def initDiag2(initialCov, initData, matSize):\n",
    "    for i in range(0,matSize):\n",
    "        initialCov.setEntry(i, i, initData[i]);\n",
    "    return initialCov\n",
    "\n",
    "\n",
    "matSize = 9\n",
    "Q = MatrixUtils.createRealDiagonalMatrix([10000.0, 0.2, 0.3, 0.3,0.3,0.3, 10.0, 10.0, 10.0])\n",
    "Q = MatrixUtils.createRealDiagonalMatrix([10.0, 10.0, 10.0, 10.0, 10.0, 10.0, 10.0, 10.0, 10.0])\n",
    "Q = MatrixUtils.createRealDiagonalMatrix([1e-9, 1e-9, 1e-9, 1e-9, 1e-9, 1e-9, 10.0, 10.0, 10.0])\n",
    "Q = MatrixUtils.createRealDiagonalMatrix([1e-12, 1e-12, 1e-12, 1e-12, 1e-12, 1e-12, 1e-12, 1e-12, 1e-12])\n",
    "# Good results\n",
    "Q = MatrixUtils.createRealDiagonalMatrix([1e-1, 1e-1, 1e-1, 1e-1, 1e-1, 1e-1, 1e-1, 1e-1, 1e-1])\n",
    "\n",
    "initialCov = Array2DRowRealMatrix(matSize,matSize)\n",
    "initData = [25e6, 25e6, 25e6, 1e2, 1e2, 1e2, 1.00, 0.25, 1e-1, 1e-1, 1e-1]\n",
    "initData = [25e6, 0.5, 0.5, 0.5, 0.5, 0.5, 1.00, 0.25, 1e-1, 1e-1,1e-1]\n",
    "# Good results\n",
    "initData = [1e14, 1e-0, 1e-0, 1e-0, 1e-0, 1e-0, 1e-0, 1e-0, 1e-0, 1e-0 ,1e-0]\n",
    "initialCov = initDiag2(initialCov, initData, matSize)\n",
    "initialCov = initCovLower2(initialCov, initData, matSize)\n",
    " \n",
    "print(initialCov.getRowDimension())\n",
    "\n",
    "# Build the Kalman filter\n",
    "processNoise = ConstantProcessNoise(initialCov, Q)\n",
    "\n",
    "kalman = KalmanEstimatorBuilder().addPropagationConfiguration(kepPropagatorBuilder, processNoise) # KalmanEstimatorBuilder\n",
    "\n",
    "filter = kalman.build() # KalmanEstimator\n"
   ]
  },
  {
   "cell_type": "code",
   "execution_count": 8,
   "metadata": {},
   "outputs": [
    {
     "data": {
      "text/plain": [
       "<Array2DRowRealMatrix: Array2DRowRealMatrix{{100000000000000.0,100000000000000.0,100000000000000.0,100000000000000.0,100000000000000.0,100000000000000.0,100000000000000.0,100000000000000.0,100000000000000.0},{100000000000000.0,1.0,1.0,1.0,1.0,1.0,1.0,1.0,1.0},{100000000000000.0,1.0,1.0,1.0,1.0,1.0,1.0,1.0,1.0},{100000000000000.0,1.0,1.0,1.0,1.0,1.0,1.0,1.0,1.0},{100000000000000.0,1.0,1.0,1.0,1.0,1.0,1.0,1.0,1.0},{100000000000000.0,1.0,1.0,1.0,1.0,1.0,1.0,1.0,1.0},{100000000000000.0,1.0,1.0,1.0,1.0,1.0,1.0,1.0,1.0},{100000000000000.0,1.0,1.0,1.0,1.0,1.0,1.0,1.0,1.0},{100000000000000.0,1.0,1.0,1.0,1.0,1.0,1.0,1.0,1.0}}>"
      ]
     },
     "execution_count": 8,
     "metadata": {},
     "output_type": "execute_result"
    }
   ],
   "source": [
    "initialCov"
   ]
  },
  {
   "cell_type": "code",
   "execution_count": 9,
   "metadata": {
    "tags": []
   },
   "outputs": [
    {
     "name": "stdout",
     "output_type": "stream",
     "text": [
      "Problem iteration:  16\n",
      "Problem iteration:  17\n",
      "Problem iteration:  18\n",
      "Problem iteration:  19\n",
      "Problem iteration:  20\n",
      "Problem iteration:  21\n",
      "Problem iteration:  22\n",
      "Problem iteration:  23\n",
      "Problem iteration:  24\n",
      "Problem iteration:  50\n",
      "Problem iteration:  51\n",
      "Problem iteration:  52\n",
      "Problem iteration:  53\n",
      "Problem iteration:  54\n",
      "Problem iteration:  55\n",
      "Problem iteration:  56\n",
      "Problem iteration:  57\n",
      "Problem iteration:  58\n",
      "Problem iteration:  59\n",
      "Problem iteration:  60\n",
      "Problem iteration:  61\n",
      "Problem iteration:  62\n",
      "Problem iteration:  63\n",
      "Problem iteration:  64\n",
      "Problem iteration:  65\n",
      "Problem iteration:  66\n",
      "Problem iteration:  67\n",
      "Problem iteration:  68\n",
      "Problem iteration:  69\n",
      "Problem iteration:  70\n",
      "Problem iteration:  71\n",
      "Problem iteration:  72\n",
      "Problem iteration:  73\n",
      "Problem iteration:  74\n",
      "Problem iteration:  75\n",
      "Problem iteration:  76\n",
      "Problem iteration:  77\n",
      "Problem iteration:  78\n",
      "Problem iteration:  79\n",
      "Problem iteration:  80\n",
      "Problem iteration:  81\n",
      "Problem iteration:  82\n",
      "Problem iteration:  83\n",
      "Problem iteration:  84\n",
      "Problem iteration:  85\n",
      "Problem iteration:  86\n",
      "Problem iteration:  87\n",
      "Problem iteration:  88\n",
      "Problem iteration:  89\n",
      "Problem iteration:  90\n",
      "2020-01-01T05:33:00.000 {11,431,212.452392094; 0.8862137557; 2.0052093529; -84.326538541; 2.9421314261; 86.502456041; 2.7394682819; 1.9975047375; -0.01}\n"
     ]
    },
    {
     "data": {
      "text/plain": [
       "<RealMatrix: Array2DRowRealMatrix{{643058996448.7687,95351.1088939638,99791.9155160107,127595.0297195998,90490.4929172242,-141782.6714450807,36253.9462386462,36253.9462386462,36253.9462386453},{95351.1089315285,1.1855756835,0.0061831015,1.1490000866,-0.1163408177,-0.2054852858,0.0052792051,0.0052792051,0.0052792051},{99791.915571771,0.0061831015,0.7220183432,0.3704483609,0.8180811445,-0.1758592687,0.0056351586,0.0056351586,0.0056351586},{127595.0297944722,1.1490000866,0.3704483609,1.3230153658,0.288738429,-0.5428019258,0.0071030613,0.0071030613,0.0071030613},{90490.4929718752,-0.1163408177,0.8180811445,0.288738429,0.9458337663,-0.0519242914,0.0051226993,0.0051226993,0.0051226993},{-141782.671567586,-0.2054852858,-0.1758592687,-0.5428019258,-0.0519242914,2.7404956726,-0.0079628927,-0.0079628927,-0.0079628927},{36253.9487137777,0.0052792055,0.005635159,0.0071030618,0.0051226997,-0.0079628933,5.0239872356,0.0239872356,0.0239872356},{36253.9487137777,0.0052792055,0.005635159,0.0071030618,0.0051226997,-0.0079628933,0.0239872356,5.0239872356,0.0239872356},{36253.9487137651,0.0052792055,0.005635159,0.0071030618,0.0051226997,-0.0079628933,0.0239872356,0.0239872356,5.0239872356}}>"
      ]
     },
     "execution_count": 9,
     "metadata": {},
     "output_type": "execute_result"
    }
   ],
   "source": [
    "# Build ObservedMeasurement\n",
    "#Open and collect data from csv\n",
    "file = pd.read_csv(\"export_visible_NoPert.csv\")\n",
    "az = file['azimuth']\n",
    "el = file['elevation']\n",
    "datetime = file['pv']\n",
    "idx = datetime[0].find(',')\n",
    "\n",
    "errDeg = 0.001 #10*0.000277778 #1 arcsec\n",
    "azBaseWeight = 1.0\n",
    "elBaseWeight = 1.0\n",
    "\n",
    "frame = FramesFactory.getTOD(IERSConventions.IERS_2010, False)\n",
    "\n",
    "earth = OneAxisEllipsoid(Constants.WGS84_EARTH_EQUATORIAL_RADIUS, \n",
    "                         Constants.WGS84_EARTH_FLATTENING, \n",
    "                         frame)\n",
    "longitude = radians(21.038)\n",
    "latitude  = radians(67.8790708)\n",
    "altitude  = 527.0\n",
    "station = GeodeticPoint(latitude, longitude, altitude)\n",
    "stationFrame = TopocentricFrame(earth, station, \"Kiruna\")\n",
    "\n",
    "ObsSat= ObservableSatellite(0) # From R5\n",
    "EKF_a = []  \n",
    "EKF_e = [] \n",
    "EKF_i = []     \n",
    "EKF_omega = []  \n",
    "EKF_raan = []  \n",
    "EKF_lv = [] \n",
    "newCovMatrix = []\n",
    "\n",
    "Elt1 = []\n",
    "Elt2 = []\n",
    "Elt3 = []\n",
    "Elt4 = []\n",
    "Elt5 = []\n",
    "Elt6 = []\n",
    "\n",
    "Kk = []\n",
    "\n",
    "iFail = 0\n",
    "FAIL_MAX = 50\n",
    "\n",
    "#for j in range(0,len(az),3):\n",
    "for j in range(0,len(az)):\n",
    "    date = getAzElDate(datetime[j], utc)\n",
    "    orekitAzEl = AngularAzEl(GroundStation(stationFrame),\n",
    "                    date,\n",
    "\t\t\t\t\tJArray('double')([radians(az[j]),radians(el[j])]),\n",
    "                    JArray('double')([radians(errDeg),radians(errDeg)]),\n",
    "                    JArray('double')([azBaseWeight,elBaseWeight]),\n",
    "                    ObsSat)\n",
    "    try:\n",
    "        filter.estimationStep(orekitAzEl)\n",
    "        newEstimatedState = filter.getPhysicalEstimatedState()\n",
    "\n",
    "        EKF_a.append(newEstimatedState.getEntry(0))\n",
    "        EKF_e.append(newEstimatedState.getEntry(1))\n",
    "        EKF_i.append(newEstimatedState.getEntry(2))\n",
    "        EKF_omega.append(newEstimatedState.getEntry(3))\n",
    "        EKF_raan.append(newEstimatedState.getEntry(4))\n",
    "        EKF_lv.append(newEstimatedState.getEntry(5))\n",
    "        \n",
    "        newCovMatrix.append(filter.getPhysicalEstimatedCovarianceMatrix())\n",
    "           \n",
    "        Elt1.append(newCovMatrix[-1].getEntry(1, 1))\n",
    "        Elt2.append(newCovMatrix[-1].getEntry(2, 2))\n",
    "        Elt3.append(newCovMatrix[-1].getEntry(3, 3))\n",
    "        Elt4.append(newCovMatrix[-1].getEntry(4, 4))\n",
    "        Elt5.append(newCovMatrix[-1].getEntry(5, 5))\n",
    "        Elt6.append(newCovMatrix[-1].getEntry(6, 6))\n",
    "        \n",
    "        #Kk.append(filter.getPhysicalKalmanGain())\n",
    "\n",
    "    except:\n",
    "        print('Problem iteration: ', j)\n",
    "        iFail += 1\n",
    "        if iFail >= FAIL_MAX:\n",
    "            break        \n",
    "\n",
    "\n",
    "#print(orekitAzEl.getDate())\n",
    "a = filter.getCurrentDate()\n",
    "print(a,newEstimatedState)\n",
    "newCovMatrix[-1]"
   ]
  },
  {
   "cell_type": "code",
   "execution_count": 10,
   "metadata": {
    "tags": []
   },
   "outputs": [
    {
     "data": {
      "image/png": "[encoded data removed]",
      "text/plain": [
       "<Figure size 432x288 with 1 Axes>"
      ]
     },
     "metadata": {
      "needs_background": "light"
     },
     "output_type": "display_data"
    },
    {
     "data": {
      "image/png": "[encoded data removed]",
      "text/plain": [
       "<Figure size 432x288 with 1 Axes>"
      ]
     },
     "metadata": {
      "needs_background": "light"
     },
     "output_type": "display_data"
    },
    {
     "data": {
      "image/png": "[encoded data removed]",
      "text/plain": [
       "<Figure size 432x288 with 1 Axes>"
      ]
     },
     "metadata": {
      "needs_background": "light"
     },
     "output_type": "display_data"
    },
    {
     "data": {
      "image/png": "[encoded data removed]",
      "text/plain": [
       "<Figure size 432x288 with 1 Axes>"
      ]
     },
     "metadata": {
      "needs_background": "light"
     },
     "output_type": "display_data"
    },
    {
     "data": {
      "image/png": "[encoded data removed]",
      "text/plain": [
       "<Figure size 432x288 with 1 Axes>"
      ]
     },
     "metadata": {
      "needs_background": "light"
     },
     "output_type": "display_data"
    },
    {
     "data": {
      "image/png": "[encoded data removed]",
      "text/plain": [
       "<Figure size 432x288 with 1 Axes>"
      ]
     },
     "metadata": {
      "needs_background": "light"
     },
     "output_type": "display_data"
    },
    {
     "data": {
      "text/plain": [
       "[<matplotlib.lines.Line2D at 0x7ff921ab1250>]"
      ]
     },
     "execution_count": 10,
     "metadata": {},
     "output_type": "execute_result"
    },
    {
     "data": {
      "image/png": "[encoded data removed]",
      "text/plain": [
       "<Figure size 432x288 with 6 Axes>"
      ]
     },
     "metadata": {
      "needs_background": "light"
     },
     "output_type": "display_data"
    }
   ],
   "source": [
    "import matplotlib.pyplot as plt\n",
    "plt.plot(EKF_a)\n",
    "plt.title('a')\n",
    "plt.show()\n",
    "plt.plot(EKF_e)\n",
    "plt.title('e')\n",
    "plt.show()\n",
    "plt.plot(EKF_i)\n",
    "plt.title('i')\n",
    "plt.show()\n",
    "plt.plot(EKF_omega)\n",
    "plt.title('omega')\n",
    "plt.show()\n",
    "plt.plot(EKF_raan)\n",
    "plt.title('raan')\n",
    "plt.show()\n",
    "plt.plot(EKF_lv)\n",
    "plt.title('true anomaly')\n",
    "plt.show()\n",
    "\n",
    "fig, axs = plt.subplots(6)\n",
    "fig.suptitle('Variances')\n",
    "axs[0].plot(Elt1[:])\n",
    "axs[1].plot(Elt2[:])\n",
    "axs[2].plot(Elt3[:])\n",
    "axs[3].plot(Elt4[:])\n",
    "axs[4].plot(Elt5[:])\n",
    "axs[5].plot(Elt6[:])"
   ]
  },
  {
   "cell_type": "code",
   "execution_count": 11,
   "metadata": {},
   "outputs": [
    {
     "data": {
      "text/plain": [
       "<Vector3D: {1; 2; 3}>"
      ]
     },
     "execution_count": 11,
     "metadata": {},
     "output_type": "execute_result"
    }
   ],
   "source": [
    "Vector3D([1.0,2.0,3.0])"
   ]
  },
  {
   "cell_type": "code",
   "execution_count": null,
   "metadata": {},
   "outputs": [],
   "source": []
  }
 ],
 "metadata": {
  "kernelspec": {
   "display_name": "Python 3",
   "language": "python",
   "name": "python3"
  },
  "language_info": {
   "codemirror_mode": {
    "name": "ipython",
    "version": 3
   },
   "file_extension": ".py",
   "mimetype": "text/x-python",
   "name": "python",
   "nbconvert_exporter": "python",
   "pygments_lexer": "ipython3",
   "version": "3.8.5"
  }
 },
 "nbformat": 4,
 "nbformat_minor": 4
}
