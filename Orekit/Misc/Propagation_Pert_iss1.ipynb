{
 "cells": [
  {
   "cell_type": "code",
   "execution_count": 17,
   "metadata": {},
   "outputs": [],
   "source": [
    "# Propagation from initial Keplerian orbit\n",
    "# Perturbation:\n",
    "# Drag\n",
    "# Atmosphere \n",
    "# Elliptic Earth\n",
    "# IERS_2010\n",
    "# Maneuver: \n",
    "# No\n",
    "\n",
    "\n",
    "# Obserbation:\n",
    "# AZ/EL\n",
    "# EME2000\n",
    "\n",
    "# Output:\n",
    "# pvs_kep.cvs\n",
    "# export_all.csv\n",
    "# export_visible.csv\n",
    "\n"
   ]
  },
  {
   "cell_type": "code",
   "execution_count": 18,
   "metadata": {},
   "outputs": [],
   "source": [
    "%matplotlib inline\n",
    "\n",
    "from math import radians, pi\n",
    "import pandas as pd\n",
    "import numpy as np\n",
    "import plotly.express as px\n",
    "\n",
    "\n",
    "import orekit\n",
    "vm = orekit.initVM()\n",
    "\n",
    "from orekit.pyhelpers import setup_orekit_curdir, absolutedate_to_datetime\n",
    "setup_orekit_curdir()\n",
    "\n",
    "\n",
    "from org.orekit.orbits import KeplerianOrbit, PositionAngle\n",
    "from org.orekit.propagation.analytical import KeplerianPropagator\n",
    "from org.orekit.time import AbsoluteDate, TimeScalesFactory\n",
    "from org.orekit.utils import Constants\n",
    "from org.orekit.frames import FramesFactory, TopocentricFrame\n",
    "from org.orekit.bodies import OneAxisEllipsoid, GeodeticPoint\n",
    "from org.hipparchus.geometry.euclidean.threed import Vector3D\n",
    "from org.orekit.attitudes import LofOffset\n",
    "from org.orekit.bodies import CelestialBodyFactory, OneAxisEllipsoid\n",
    "from org.orekit.forces.drag import IsotropicDrag\n",
    "from org.orekit.forces.gravity.potential import GravityFieldFactory\n",
    "from org.orekit.forces.maneuvers import ImpulseManeuver\n",
    "from org.orekit.frames import FramesFactory, LOFType\n",
    "from org.orekit.models.earth.atmosphere import HarrisPriester\n",
    "from org.orekit.orbits import CircularOrbit, OrbitType, PositionAngle\n",
    "from org.orekit.propagation import PropagationType, SpacecraftState\n",
    "from org.orekit.propagation.events import DateDetector, EventEnablingPredicateFilter, PythonEnablingPredicate,\\\n",
    "     PositionAngleDetector, PythonEventDetector, AbstractDetector, EventDetector\n",
    "from org.orekit.propagation.conversion import DormandPrince853IntegratorBuilder, DSSTPropagatorBuilder\n",
    "from org.orekit.propagation.semianalytical.dsst.forces import DSSTAtmosphericDrag, DSSTNewtonianAttraction, DSSTZonal\n",
    "from org.orekit.time import AbsoluteDate, TimeScalesFactory\n",
    "from org.orekit.utils import Constants, IERSConventions, PVCoordinatesProvider\n",
    "from orekit.pyhelpers import absolutedate_to_datetime\n",
    "\n",
    "from org.orekit.propagation.numerical import NumericalPropagator\n",
    "#from org.orekit.propagation.conversion import DormandPrince853Integrator\n",
    "\n",
    "#from .inputs import Inputs\n",
    "#from .utils import JULIAN_DAYS_PER_YEAR, KILOMETERS, normalize_around_0_radians, normalize_around_pi, seconds_in_day"
   ]
  },
  {
   "cell_type": "code",
   "execution_count": 19,
   "metadata": {},
   "outputs": [],
   "source": [
    "utc = TimeScalesFactory.getUTC()\n",
    "\n",
    "# Given by ADS\n",
    "a = 7000.0 * 1000  \n",
    "e = 0.0016 \n",
    "i = radians(98.0)     \n",
    "omega = radians(0.2)   # perigee argument\n",
    "raan = radians(90.0)  # right ascension of ascending node\n",
    "lv = radians(0.1)    # True anomaly\n",
    "\n",
    "mass = 625.0\n",
    "\n",
    "epochDate = AbsoluteDate(2020, 1, 1, 0, 0, 00.000, utc)\n",
    "initialDate = epochDate\n",
    "\n",
    "## Inertial frame where the satellite is defined\n",
    "inertialFrame = FramesFactory.getEME2000()\n",
    "earth = OneAxisEllipsoid(Constants.WGS84_EARTH_EQUATORIAL_RADIUS, \n",
    "                         Constants.WGS84_EARTH_FLATTENING, \n",
    "                         inertialFrame)\n",
    "\n",
    "## Orbit construction as Keplerian\n",
    "initialOrbit = KeplerianOrbit(a, e, i, omega, raan, lv,\n",
    "                              PositionAngle.TRUE,\n",
    "                              inertialFrame, epochDate, Constants.WGS84_EARTH_MU)"
   ]
  },
  {
   "cell_type": "code",
   "execution_count": 20,
   "metadata": {},
   "outputs": [],
   "source": [
    "cross_section_drag = 3. # TODO : the user must be able to set this\n",
    "drag_coeff = 2.2\n",
    "frame = FramesFactory.getITRF(IERSConventions.IERS_2010, False)\n",
    "earth = OneAxisEllipsoid(Constants.WGS84_EARTH_EQUATORIAL_RADIUS, Constants.WGS84_EARTH_FLATTENING, frame)\n",
    "atmosphere = HarrisPriester(CelestialBodyFactory.getSun(), earth)\n",
    "drag_sensitive = IsotropicDrag(cross_section_drag, drag_coeff)\n",
    "drag_force = DSSTAtmosphericDrag(atmosphere, drag_sensitive, Constants.WGS84_EARTH_MU)\n",
    "# central body attraction\n",
    "central_body = DSSTNewtonianAttraction(Constants.WGS84_EARTH_MU)\n",
    "\n",
    "# J2 perturbation\n",
    "zonal_central_body = DSSTZonal(GravityFieldFactory.getUnnormalizedProvider(6, 6))\n",
    "\n",
    "def propagator_reference(initial_orbit, mass):\n",
    "    builder = DSSTPropagatorBuilder(initial_orbit,\n",
    "                                    DormandPrince853IntegratorBuilder(600.0, 86400.0, 100.0),\n",
    "                                    1.0, PropagationType.MEAN, PropagationType.MEAN)\n",
    "    builder.setMass(mass)\n",
    "    propagator = builder.buildPropagator(builder.getSelectedNormalizedParameters())\n",
    "    propagator.setEphemerisMode()\n",
    "    return propagator\n",
    "\n",
    "def propagator_with_drag_and_J2(initial_orbit, mass):\n",
    "    propagator = propagator_reference(initial_orbit, mass)\n",
    "    propagator.addForceModel(drag_force)\n",
    "    propagator.addForceModel(central_body)\n",
    "    propagator.addForceModel(zonal_central_body)\n",
    "    return propagator\n",
    "\n",
    "propagator = propagator_with_drag_and_J2(initialOrbit, mass)"
   ]
  },
  {
   "cell_type": "code",
   "execution_count": 21,
   "metadata": {},
   "outputs": [
    {
     "data": {
      "text/plain": [
       "<SpacecraftState: SpacecraftState{orbit=equinoctial parameters: {a: 7000000.0; ex: -5.5850422643578815E-6; ey: 0.0015999902522524647; hx: 7.043974938717241E-17; hy: 1.1503684072210094; lv: 90.3;}, attitude=org.orekit.attitudes.Attitude@234df1dc, mass=625.0, additional={}}>"
      ]
     },
     "execution_count": 21,
     "metadata": {},
     "output_type": "execute_result"
    }
   ],
   "source": [
    "propagator.getInitialState()"
   ]
  },
  {
   "cell_type": "code",
   "execution_count": 22,
   "metadata": {
    "tags": []
   },
   "outputs": [
    {
     "name": "stdout",
     "output_type": "stream",
     "text": [
      "SpacecraftState{orbit=equinoctial parameters: {a: 6999982.996350595; ex: 1.1655335788687002E-4; ey: 0.0014677083824698968; hx: -0.04014499458916317; hy: 1.1496676298301423; lv: 10751.97352166454;}, attitude=org.orekit.attitudes.Attitude@6e432c80, mass=625.0, additional={}}\n",
      "{2020-01-03T00:00:00.000, P(-438725.1556875569, -5388389.640747946, -4457776.688854379), V(-972.0146649543924, 4818.139577065543, -5715.647954179297), A(0.5066952270792557, 6.2349712206205, 5.158297728522529)}\n",
      "2880\n",
      "2880\n",
      "kep    SpacecraftState{orbit=equinoctial parameters: ...\n",
      "Name: 1, dtype: object\n"
     ]
    }
   ],
   "source": [
    "propagator.setSlaveMode();\n",
    "duration = 2*24*3600\n",
    "finalDate = initialDate.shiftedBy(float(duration))\n",
    "stepT = 60 #seconds\n",
    "\n",
    "extrapDate = initialDate\n",
    "pvs = []\n",
    "states = []\n",
    "\n",
    "for cpt in range(int(duration/stepT)):\n",
    "    extrapDate = extrapDate.shiftedBy(float(stepT))\n",
    "    currentState = propagator.propagate(extrapDate)\n",
    "    states.append(currentState)\n",
    "    pvs.append(propagator.getPVCoordinates(extrapDate, inertialFrame))\n",
    "    \n",
    "\n",
    "print(currentState)\n",
    "print(pvs[-1])\n",
    "print(len(states))\n",
    "print(len(pvs))\n",
    "KepElt = pd.DataFrame(data=states, columns=['kep'])\n",
    "\n",
    "print(KepElt.iloc[1])\n",
    "KepElt.head()\n",
    "KepElt.to_csv('pvs_kep.csv')"
   ]
  },
  {
   "cell_type": "code",
   "execution_count": 23,
   "metadata": {},
   "outputs": [
    {
     "name": "stdout",
     "output_type": "stream",
     "text": [
      "Measurement length:  2880\n"
     ]
    },
    {
     "data": {
      "text/html": [
       "<div>\n",
       "<style scoped>\n",
       "    .dataframe tbody tr th:only-of-type {\n",
       "        vertical-align: middle;\n",
       "    }\n",
       "\n",
       "    .dataframe tbody tr th {\n",
       "        vertical-align: top;\n",
       "    }\n",
       "\n",
       "    .dataframe thead th {\n",
       "        text-align: right;\n",
       "    }\n",
       "</style>\n",
       "<table border=\"1\" class=\"dataframe\">\n",
       "  <thead>\n",
       "    <tr style=\"text-align: right;\">\n",
       "      <th></th>\n",
       "      <th>pv</th>\n",
       "      <th>Position</th>\n",
       "      <th>datetime</th>\n",
       "      <th>elevation</th>\n",
       "      <th>azimuth</th>\n",
       "      <th>groundpoint</th>\n",
       "      <th>latitude</th>\n",
       "      <th>longitude</th>\n",
       "      <th>day</th>\n",
       "      <th>hour</th>\n",
       "    </tr>\n",
       "    <tr>\n",
       "      <th>Timestamp</th>\n",
       "      <th></th>\n",
       "      <th></th>\n",
       "      <th></th>\n",
       "      <th></th>\n",
       "      <th></th>\n",
       "      <th></th>\n",
       "      <th></th>\n",
       "      <th></th>\n",
       "      <th></th>\n",
       "      <th></th>\n",
       "    </tr>\n",
       "  </thead>\n",
       "  <tbody>\n",
       "    <tr>\n",
       "      <th>2020-01-01 00:01:00</th>\n",
       "      <td>{2020-01-01T00:01:00.000, P(67987.74167401834,...</td>\n",
       "      <td>{67,987.7416740183; 6,971,689.140261343; 484,3...</td>\n",
       "      <td>2020-01-01 00:01:00</td>\n",
       "      <td>-29.726307</td>\n",
       "      <td>214.669565</td>\n",
       "      <td>{lat: 3.9987193275 deg, lon: -10.6666513716 de...</td>\n",
       "      <td>3.998719</td>\n",
       "      <td>-10.666651</td>\n",
       "      <td>1</td>\n",
       "      <td>0</td>\n",
       "    </tr>\n",
       "    <tr>\n",
       "      <th>2020-01-01 00:02:00</th>\n",
       "      <td>{2020-01-01T00:02:00.000, P(130598.48096960953...</td>\n",
       "      <td>{130,598.4809696095; 6,925,451.973611494; 930,...</td>\n",
       "      <td>2020-01-01 00:02:00</td>\n",
       "      <td>-27.741398</td>\n",
       "      <td>216.375570</td>\n",
       "      <td>{lat: 7.6984289623 deg, lon: -11.43185061 deg,...</td>\n",
       "      <td>7.698429</td>\n",
       "      <td>-11.431851</td>\n",
       "      <td>1</td>\n",
       "      <td>0</td>\n",
       "    </tr>\n",
       "    <tr>\n",
       "      <th>2020-01-01 00:03:00</th>\n",
       "      <td>{2020-01-01T00:03:00.000, P(192663.26809597286...</td>\n",
       "      <td>{192,663.2680959729; 6,850,187.4208124755; 1,3...</td>\n",
       "      <td>2020-01-01 00:03:00</td>\n",
       "      <td>-25.740312</td>\n",
       "      <td>218.179449</td>\n",
       "      <td>{lat: 11.396636468 deg, lon: -12.2060099799 de...</td>\n",
       "      <td>11.396636</td>\n",
       "      <td>-12.206010</td>\n",
       "      <td>1</td>\n",
       "      <td>0</td>\n",
       "    </tr>\n",
       "    <tr>\n",
       "      <th>2020-01-01 00:04:00</th>\n",
       "      <td>{2020-01-01T00:04:00.000, P(253922.69202520858...</td>\n",
       "      <td>{253,922.6920252086; 6,746,212.408868302; 1,80...</td>\n",
       "      <td>2020-01-01 00:04:00</td>\n",
       "      <td>-23.720982</td>\n",
       "      <td>220.101233</td>\n",
       "      <td>{lat: 15.0926107249 deg, lon: -12.9938178932 d...</td>\n",
       "      <td>15.092611</td>\n",
       "      <td>-12.993818</td>\n",
       "      <td>1</td>\n",
       "      <td>0</td>\n",
       "    </tr>\n",
       "    <tr>\n",
       "      <th>2020-01-01 00:05:00</th>\n",
       "      <td>{2020-01-01T00:05:00.000, P(314120.7555264245,...</td>\n",
       "      <td>{314,120.7555264245; 6,613,964.715380033; 2,23...</td>\n",
       "      <td>2020-01-01 00:05:00</td>\n",
       "      <td>-21.681038</td>\n",
       "      <td>222.165038</td>\n",
       "      <td>{lat: 18.7856085366 deg, lon: -13.8004377314 d...</td>\n",
       "      <td>18.785609</td>\n",
       "      <td>-13.800438</td>\n",
       "      <td>1</td>\n",
       "      <td>0</td>\n",
       "    </tr>\n",
       "  </tbody>\n",
       "</table>\n",
       "</div>"
      ],
      "text/plain": [
       "                                                                    pv  \\\n",
       "Timestamp                                                                \n",
       "2020-01-01 00:01:00  {2020-01-01T00:01:00.000, P(67987.74167401834,...   \n",
       "2020-01-01 00:02:00  {2020-01-01T00:02:00.000, P(130598.48096960953...   \n",
       "2020-01-01 00:03:00  {2020-01-01T00:03:00.000, P(192663.26809597286...   \n",
       "2020-01-01 00:04:00  {2020-01-01T00:04:00.000, P(253922.69202520858...   \n",
       "2020-01-01 00:05:00  {2020-01-01T00:05:00.000, P(314120.7555264245,...   \n",
       "\n",
       "                                                              Position  \\\n",
       "Timestamp                                                                \n",
       "2020-01-01 00:01:00  {67,987.7416740183; 6,971,689.140261343; 484,3...   \n",
       "2020-01-01 00:02:00  {130,598.4809696095; 6,925,451.973611494; 930,...   \n",
       "2020-01-01 00:03:00  {192,663.2680959729; 6,850,187.4208124755; 1,3...   \n",
       "2020-01-01 00:04:00  {253,922.6920252086; 6,746,212.408868302; 1,80...   \n",
       "2020-01-01 00:05:00  {314,120.7555264245; 6,613,964.715380033; 2,23...   \n",
       "\n",
       "                               datetime  elevation     azimuth  \\\n",
       "Timestamp                                                        \n",
       "2020-01-01 00:01:00 2020-01-01 00:01:00 -29.726307  214.669565   \n",
       "2020-01-01 00:02:00 2020-01-01 00:02:00 -27.741398  216.375570   \n",
       "2020-01-01 00:03:00 2020-01-01 00:03:00 -25.740312  218.179449   \n",
       "2020-01-01 00:04:00 2020-01-01 00:04:00 -23.720982  220.101233   \n",
       "2020-01-01 00:05:00 2020-01-01 00:05:00 -21.681038  222.165038   \n",
       "\n",
       "                                                           groundpoint  \\\n",
       "Timestamp                                                                \n",
       "2020-01-01 00:01:00  {lat: 3.9987193275 deg, lon: -10.6666513716 de...   \n",
       "2020-01-01 00:02:00  {lat: 7.6984289623 deg, lon: -11.43185061 deg,...   \n",
       "2020-01-01 00:03:00  {lat: 11.396636468 deg, lon: -12.2060099799 de...   \n",
       "2020-01-01 00:04:00  {lat: 15.0926107249 deg, lon: -12.9938178932 d...   \n",
       "2020-01-01 00:05:00  {lat: 18.7856085366 deg, lon: -13.8004377314 d...   \n",
       "\n",
       "                      latitude  longitude  day  hour  \n",
       "Timestamp                                             \n",
       "2020-01-01 00:01:00   3.998719 -10.666651    1     0  \n",
       "2020-01-01 00:02:00   7.698429 -11.431851    1     0  \n",
       "2020-01-01 00:03:00  11.396636 -12.206010    1     0  \n",
       "2020-01-01 00:04:00  15.092611 -12.993818    1     0  \n",
       "2020-01-01 00:05:00  18.785609 -13.800438    1     0  "
      ]
     },
     "execution_count": 23,
     "metadata": {},
     "output_type": "execute_result"
    }
   ],
   "source": [
    "# Generate Station measurements\n",
    "\n",
    "# Input data: given by ADS\n",
    "# Longitude : 21.038 deg\n",
    "# Latitude : 67.8790708 deg\n",
    "# Altitude : 0.527 km\n",
    "\n",
    "# Ground station creation\n",
    "longitude = radians(21.038)\n",
    "latitude  = radians(67.8790708)\n",
    "altitude  = 527.0\n",
    "station1 = GeodeticPoint(latitude, longitude, altitude)\n",
    "sta1Frame = TopocentricFrame(earth, station1, \"Kiruna\")\n",
    "\n",
    "prop_data = []\n",
    "\n",
    "prop_data = pd.DataFrame(data=pvs, columns=['pv'])\n",
    "prop_data['Position'] = prop_data['pv'].apply(lambda x: x.getPosition())\n",
    "prop_data['datetime'] = prop_data['pv'].apply(lambda x: absolutedate_to_datetime(x.getDate()))\n",
    "prop_data['elevation'] = prop_data['pv'].apply(lambda x: sta1Frame.getElevation(x.getPosition(), inertialFrame, x.getDate())*180.0/pi )\n",
    "prop_data['azimuth'] = prop_data['pv'].apply(lambda x: sta1Frame.getAzimuth(x.getPosition(), inertialFrame, x.getDate())*180.0/pi )\n",
    "prop_data.set_index('datetime', inplace=True, drop=False)\n",
    "prop_data.index.name = 'Timestamp'\n",
    "prop_data['groundpoint'] = prop_data['pv'].apply(lambda pv: earth.transform(pv.position, inertialFrame, pv.date))\n",
    "prop_data['latitude'] = np.degrees(prop_data.groundpoint.apply(lambda gp: gp.latitude))\n",
    "prop_data['longitude'] = np.degrees(prop_data.groundpoint.apply(lambda gp: gp.longitude))\n",
    "prop_data['day'] = prop_data.datetime.dt.dayofyear\n",
    "prop_data['hour'] = prop_data.datetime.dt.hour\n",
    "\n",
    "#print(prop_data)\n",
    "print('Measurement length: ',len(prop_data))\n",
    "prop_data.head()\n",
    "\n",
    "#print(prop_data.iloc[:])\n"
   ]
  },
  {
   "cell_type": "code",
   "execution_count": 24,
   "metadata": {},
   "outputs": [
    {
     "data": {
      "image/png": "[encoded data removed]",
      "text/plain": [
       "<Figure size 432x288 with 1 Axes>"
      ]
     },
     "metadata": {
      "needs_background": "light"
     },
     "output_type": "display_data"
    },
    {
     "data": {
      "image/png": "[encoded data removed]",
      "text/plain": [
       "<Figure size 432x288 with 1 Axes>"
      ]
     },
     "metadata": {
      "needs_background": "light"
     },
     "output_type": "display_data"
    }
   ],
   "source": [
    "prop_data[prop_data.elevation>0][:].plot(y='elevation');\n",
    "prop_data[prop_data.elevation>0][:].plot(y='azimuth');\n",
    "\n",
    "prop_data.to_csv('export_all.csv')\n",
    "\n",
    "prop_data[prop_data.elevation>0][:].to_csv('export_visible.csv')\n"
   ]
  },
  {
   "cell_type": "code",
   "execution_count": null,
   "metadata": {
    "tags": []
   },
   "outputs": [],
   "source": []
  },
  {
   "cell_type": "code",
   "execution_count": null,
   "metadata": {},
   "outputs": [],
   "source": []
  },
  {
   "cell_type": "code",
   "execution_count": null,
   "metadata": {},
   "outputs": [],
   "source": []
  },
  {
   "cell_type": "code",
   "execution_count": null,
   "metadata": {},
   "outputs": [],
   "source": [
    "from org.orekit.estimation.sequential import KalmanEstimatorBuilder"
   ]
  },
  {
   "cell_type": "code",
   "execution_count": null,
   "metadata": {},
   "outputs": [],
   "source": []
  }
 ],
 "metadata": {
  "kernelspec": {
   "display_name": "Python 3",
   "language": "python",
   "name": "python3"
  },
  "language_info": {
   "codemirror_mode": {
    "name": "ipython",
    "version": 3
   },
   "file_extension": ".py",
   "mimetype": "text/x-python",
   "name": "python",
   "nbconvert_exporter": "python",
   "pygments_lexer": "ipython3",
   "version": "3.8.5"
  }
 },
 "nbformat": 4,
 "nbformat_minor": 4
}
