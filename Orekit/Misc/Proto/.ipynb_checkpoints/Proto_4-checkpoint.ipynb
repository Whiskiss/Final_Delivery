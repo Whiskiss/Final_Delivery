{
 "cells": [
  {
   "cell_type": "code",
   "execution_count": 1,
   "metadata": {},
   "outputs": [],
   "source": [
    "# Implementation of IOD Laplace method\n"
   ]
  },
  {
   "cell_type": "code",
   "execution_count": 1,
   "metadata": {},
   "outputs": [],
   "source": [
    "%matplotlib inline\n",
    "\n",
    "from math import radians, pi\n",
    "import pandas as pd\n",
    "import numpy as np\n",
    "import plotly.express as px\n",
    "\n",
    "\n",
    "import orekit\n",
    "vm = orekit.initVM()\n",
    "\n",
    "from orekit.pyhelpers import setup_orekit_curdir, absolutedate_to_datetime\n",
    "setup_orekit_curdir()\n",
    "\n",
    "\n",
    "from org.orekit.orbits import KeplerianOrbit, PositionAngle\n",
    "from org.orekit.propagation.analytical import KeplerianPropagator\n",
    "from org.orekit.time import AbsoluteDate, TimeScalesFactory, TimeScale\n",
    "from org.orekit.utils import Constants\n",
    "from org.orekit.frames import FramesFactory, TopocentricFrame\n",
    "from org.orekit.bodies import OneAxisEllipsoid, GeodeticPoint\n",
    "from org.hipparchus.geometry.euclidean.threed import Vector3D\n",
    "from org.orekit.attitudes import LofOffset\n",
    "from org.orekit.bodies import CelestialBodyFactory, OneAxisEllipsoid\n",
    "from org.orekit.forces.drag import IsotropicDrag\n",
    "from org.orekit.forces.gravity.potential import GravityFieldFactory\n",
    "from org.orekit.forces.maneuvers import ImpulseManeuver\n",
    "from org.orekit.frames import FramesFactory, LOFType, EOPHistory\n",
    "from org.orekit.models.earth.atmosphere import HarrisPriester\n",
    "from org.orekit.orbits import CircularOrbit, OrbitType, PositionAngle\n",
    "from org.orekit.propagation import PropagationType, SpacecraftState\n",
    "from org.orekit.propagation.events import DateDetector, EventEnablingPredicateFilter, PythonEnablingPredicate,\\\n",
    "     PositionAngleDetector, PythonEventDetector, AbstractDetector, EventDetector\n",
    "from org.orekit.propagation.conversion import DormandPrince853IntegratorBuilder, DSSTPropagatorBuilder, \\\n",
    "                        ClassicalRungeKuttaIntegratorBuilder, EulerIntegratorBuilder\n",
    "from org.orekit.propagation.semianalytical.dsst.forces import DSSTAtmosphericDrag, DSSTNewtonianAttraction, DSSTZonal\n",
    "from org.orekit.time import AbsoluteDate, TimeScalesFactory\n",
    "from org.orekit.utils import Constants, IERSConventions, PVCoordinatesProvider\n",
    "from orekit.pyhelpers import absolutedate_to_datetime\n",
    "from org.hipparchus.linear import RealMatrix\n",
    "from org.hipparchus.linear import QRDecomposer, AbstractRealMatrix\n",
    "from org.hipparchus.optim.nonlinear.vector.leastsquares import GaussNewtonOptimizer\n",
    "from org.orekit.estimation.leastsquares import BatchLSEstimator\n",
    "from org.orekit.propagation.numerical import NumericalPropagator\n",
    "from org.orekit.propagation.conversion import AbstractPropagatorBuilder\n",
    "\n",
    "from org.orekit.estimation.measurements import AngularAzEl\n",
    "from org.orekit.estimation.measurements import ObservableSatellite\n",
    "from org.orekit.estimation.measurements import GroundStation\n",
    "from org.orekit.estimation.sequential import KalmanEstimatorBuilder\n",
    "from org.orekit.estimation.sequential import KalmanEstimator\n",
    "from org.orekit.estimation.sequential import KalmanEstimation\n",
    "from org.orekit.estimation.measurements import *\n",
    "from org.orekit.estimation.iod import IodGooding, IodLaplace\n",
    "\n",
    "from orekit.pyhelpers import absolutedate_to_datetime, datetime_to_absolutedate\n",
    "from collections import namedtuple\n",
    "from org.orekit.time import Month\n",
    "from orekit import JArray\n",
    "\n",
    "from org.orekit.estimation.sequential import KalmanEstimator, KalmanEstimatorBuilder, CovarianceMatrixProvider, ConstantProcessNoise\n",
    "from org.orekit.orbits import Orbit\n"
   ]
  },
  {
   "cell_type": "code",
   "execution_count": 15,
   "metadata": {},
   "outputs": [],
   "source": [
    "utc = TimeScalesFactory.getUTC()\n",
    "\n",
    "# Given by ADS\n",
    "a = 7000000.0  \n",
    "e = 0.0016 \n",
    "i = radians(98.0)     \n",
    "omega = radians(0.2)   # perigee argument\n",
    "raan = radians(90.0)  # right ascension of ascending node\n",
    "lv = radians(0.0)#0.1)    # True anomaly\n",
    "\n",
    "mass = 625.0\n",
    "\n",
    "epochDate = AbsoluteDate(2020, 1, 1, 0, 0, 00.000, utc)\n",
    "initialDate = epochDate\n",
    "\n",
    "## Inertial frame where the satellite is defined\n",
    "inertialFrame =  FramesFactory.getTOD(IERSConventions.IERS_2010, False)\n",
    "earth = OneAxisEllipsoid(Constants.WGS84_EARTH_EQUATORIAL_RADIUS, \n",
    "                         Constants.WGS84_EARTH_FLATTENING, \n",
    "                         inertialFrame)\n",
    "\n",
    "## Orbit construction as Keplerian\n",
    "initialOrbit = KeplerianOrbit(a, e, i, omega, raan, lv,\n",
    "                              PositionAngle.TRUE,\n",
    "                              inertialFrame, epochDate, Constants.WGS84_EARTH_MU)"
   ]
  },
  {
   "cell_type": "code",
   "execution_count": 16,
   "metadata": {},
   "outputs": [
    {
     "ename": "InvalidArgsError",
     "evalue": "(<class 'org.orekit.estimation.iod.IodLaplace'>, 'estimate', (<FactoryManagedFrame: TOD/2010 accurate EOP>, <Vector3D: {2,248,325.0509823714; 864,762.4304047296; 5,886,515.395002344}>))",
     "output_type": "error",
     "traceback": [
      "\u001b[0;31m------------------------------------------------------\u001b[0m",
      "\u001b[0;31mInvalidArgsError\u001b[0m     Traceback (most recent call last)",
      "\u001b[0;32m<ipython-input-16-96e842660541>\u001b[0m in \u001b[0;36m<module>\u001b[0;34m\u001b[0m\n\u001b[1;32m     19\u001b[0m \u001b[0miod\u001b[0m \u001b[0;34m=\u001b[0m \u001b[0mIodLaplace\u001b[0m\u001b[0;34m(\u001b[0m\u001b[0mConstants\u001b[0m\u001b[0;34m.\u001b[0m\u001b[0mWGS84_EARTH_MU\u001b[0m\u001b[0;34m)\u001b[0m\u001b[0;34m\u001b[0m\u001b[0;34m\u001b[0m\u001b[0m\n\u001b[1;32m     20\u001b[0m \u001b[0;34m\u001b[0m\u001b[0m\n\u001b[0;32m---> 21\u001b[0;31m initialOrbit = iod.estimate(inertialFrame, \n\u001b[0m\u001b[1;32m     22\u001b[0m                            \u001b[0mpvs\u001b[0m\u001b[0;34m.\u001b[0m\u001b[0mgetPosition\u001b[0m\u001b[0;34m(\u001b[0m\u001b[0;34m)\u001b[0m\u001b[0;34m\u001b[0m\u001b[0;34m\u001b[0m\u001b[0m\n\u001b[1;32m     23\u001b[0m \u001b[0;34m\u001b[0m\u001b[0m\n",
      "\u001b[0;31mInvalidArgsError\u001b[0m: (<class 'org.orekit.estimation.iod.IodLaplace'>, 'estimate', (<FactoryManagedFrame: TOD/2010 accurate EOP>, <Vector3D: {2,248,325.0509823714; 864,762.4304047296; 5,886,515.395002344}>))"
     ]
    }
   ],
   "source": [
    "longitude = radians(21.038)\n",
    "latitude  = radians(67.8790708)\n",
    "altitude  = 527.0\n",
    "station = GeodeticPoint(latitude, longitude, altitude)\n",
    "stationFrame = TopocentricFrame(earth, station, \"Kiruna\")\n",
    "\n",
    "file = pd.read_csv(\"export_all_NoPert.csv\")\n",
    "datetime = file['pv']\n",
    "j=2\n",
    "year = int(datetime[j][1:5])\n",
    "month = int(datetime[j][6:8])\n",
    "day = int(datetime[j][9:11])\n",
    "hour = int(datetime[j][12:14])\n",
    "minute = int(datetime[j][15:17])\n",
    "second = int(datetime[j][18:20])\n",
    "date = AbsoluteDate(year, Month.getMonth(month), day, hour, minute, 0.0, utc)#TimeScalesFactory.getUT1(IERSConventions.IERS_2010, False))\n",
    "pvs = stationFrame.getPVCoordinates( date, inertialFrame)\n",
    "\n",
    "iod = IodLaplace(Constants.WGS84_EARTH_MU)\n",
    "\n",
    "initialOrbit = iod.estimate(inertialFrame, \n",
    "                           pvs.getPosition()\n",
    "                           \n",
    "                           \n",
    "                           )"
   ]
  },
  {
   "cell_type": "code",
   "execution_count": 17,
   "metadata": {},
   "outputs": [
    {
     "data": {
      "text/plain": [
       "<Vector3D: {2,248,325.0509823714; 864,762.4304047296; 5,886,515.395002344}>"
      ]
     },
     "execution_count": 17,
     "metadata": {},
     "output_type": "execute_result"
    }
   ],
   "source": [
    "a = stationFrame.getPVCoordinates( date, inertialFrame)\n",
    "a.getPosition()"
   ]
  },
  {
   "cell_type": "code",
   "execution_count": 18,
   "metadata": {},
   "outputs": [
    {
     "data": {
      "text/plain": [
       "<SpacecraftState: SpacecraftState{orbit=Keplerian parameters: {a: 7000000.0; e: 0.0016; i: 98.0; pa: 0.2; raan: 90.0; v: 0.0;}, attitude=org.orekit.attitudes.Attitude@4b45dcb8, mass=1000.0, additional={}}>"
      ]
     },
     "execution_count": 18,
     "metadata": {},
     "output_type": "execute_result"
    }
   ],
   "source": [
    "propagator = KeplerianPropagator(initialOrbit)\n",
    "propagator.getInitialState()"
   ]
  },
  {
   "cell_type": "code",
   "execution_count": 23,
   "metadata": {},
   "outputs": [],
   "source": [
    "# Estimator creation\n",
    "matrixDecomposer = QRDecomposer(1e-11)\n",
    "optimizer = GaussNewtonOptimizer(matrixDecomposer, False)\n",
    "\n",
    "builder = DSSTPropagatorBuilder(initialOrbit,\n",
    "                                #DormandPrince853IntegratorBuilder(1.0, 3600.0, 1000.0),\n",
    "                                EulerIntegratorBuilder(10.0),\n",
    "                                1.0, PropagationType.MEAN, PropagationType.MEAN)\n",
    "# builder.setMass(625.0)\n",
    "#propagator = builder.buildPropagator(builder.getSelectedNormalizedParameters())\n",
    "\n",
    "#Check if builder or propagator needs to be passer and what is the difference\n",
    "#estimator = KalmanEstimatorBuilder.build\n",
    "#estimator.propagator.\n",
    "#estimator.addPropagationConfiguration( builder, CovarianceMatrixProvider provider)\n",
    "estimator = BatchLSEstimator(optimizer, builder)\n",
    "estimator_convergence_thres = 1e-3\n",
    "estimator_max_iterations = 50\n",
    "estimator_max_evaluations = 50\n",
    "estimator.setParametersConvergenceThreshold(estimator_convergence_thres)\n",
    "estimator.setMaxIterations(estimator_max_iterations)\n",
    "estimator.setMaxEvaluations(estimator_max_evaluations)\n"
   ]
  },
  {
   "cell_type": "code",
   "execution_count": 24,
   "metadata": {},
   "outputs": [
    {
     "name": "stdout",
     "output_type": "stream",
     "text": [
      "2020-01-01T00:01:00.000 108.58652250710756 -35.866823344654065\n",
      "2020-01-01T00:02:00.000 107.7222382370008 -33.83257390950905\n"
     ]
    }
   ],
   "source": [
    "# Open and collect data from csv\n",
    "file = pd.read_csv(\"export_all_NoPert.csv\")\n",
    "az = file['azimuth']\n",
    "el = file['elevation']\n",
    "datetime = file['pv']\n",
    "idx = datetime[0].find(',')\n",
    "\n",
    "errDeg = 0.001 #10*0.000277778 #1 arcsec\n",
    "# TBD\n",
    "azBaseWeight = 1.0\n",
    "elBaseWeight = 1.0\n",
    "\n",
    "# Load values\n",
    "# Ground station creation\n",
    "#frame = FramesFactory.getTOD(False)\n",
    "#frame = FramesFactory.getITRF(IERSConventions.IERS_2010, False)\n",
    "frame = FramesFactory.getTOD(IERSConventions.IERS_2010, False)\n",
    "\n",
    "earth = OneAxisEllipsoid(Constants.WGS84_EARTH_EQUATORIAL_RADIUS, \n",
    "                         Constants.WGS84_EARTH_FLATTENING, \n",
    "                         frame)\n",
    "longitude = radians(21.038)\n",
    "latitude  = radians(67.8790708)\n",
    "altitude  = 527.0\n",
    "station = GeodeticPoint(latitude, longitude, altitude)\n",
    "stationFrame = TopocentricFrame(earth, station, \"Kiruna\")\n",
    "\n",
    "\n",
    "ObsSat= ObservableSatellite(0) # From R5\n",
    "for j in range(0,2):\n",
    "    year = int(datetime[j][1:5])\n",
    "    month = int(datetime[j][6:8])\n",
    "    day = int(datetime[j][9:11])\n",
    "    hour = int(datetime[j][12:14])\n",
    "    minute = int(datetime[j][15:17])\n",
    "    second = int(datetime[j][18:20])\n",
    "    date = AbsoluteDate(year, Month.getMonth(month), day, hour, minute, 0.0, utc)#TimeScalesFactory.getUT1(IERSConventions.IERS_2010, False))\n",
    "    orekitAzEl = AngularAzEl(GroundStation(stationFrame), #station.getNadir(),\n",
    "\t\t\t\t\t#datetime_to_absolutedate(datetime[j][1:idx]),\n",
    "                    date,\n",
    "\t\t\t\t\tJArray('double')([radians(az[j]),radians(el[j])]),\n",
    "                    JArray('double')([radians(errDeg),radians(errDeg)]),\n",
    "                    JArray('double')([azBaseWeight,elBaseWeight]),\n",
    "                    ObsSat)\n",
    "    print(date,az[j],el[j])\n",
    "    \n",
    "    estimator.addMeasurement(orekitAzEl)\n",
    "\n"
   ]
  },
  {
   "cell_type": "code",
   "execution_count": 25,
   "metadata": {},
   "outputs": [
    {
     "ename": "JavaError",
     "evalue": "<super: <class 'JavaError'>, <JavaError object>>\n    Java stacktrace:\norg.orekit.errors.OrekitException: NaN appears during integration near time 10\n\tat org.orekit.errors.OrekitException.unwrap(OrekitException.java:154)\n\tat org.orekit.propagation.integration.AbstractIntegratedPropagator.propagate(AbstractIntegratedPropagator.java:495)\n\tat org.orekit.propagation.integration.AbstractIntegratedPropagator.propagate(AbstractIntegratedPropagator.java:410)\n\tat org.orekit.propagation.PropagatorsParallelizer.propagate(PropagatorsParallelizer.java:141)\n\tat org.orekit.estimation.leastsquares.DSSTBatchLSModel.value(DSSTBatchLSModel.java:264)\n\tat org.hipparchus.optim.nonlinear.vector.leastsquares.LeastSquaresFactory$LocalLeastSquaresProblem.evaluate(LeastSquaresFactory.java:440)\n\tat org.orekit.estimation.leastsquares.BatchLSEstimator$TappedLSProblem.evaluate(BatchLSEstimator.java:616)\n\tat org.hipparchus.optim.nonlinear.vector.leastsquares.GaussNewtonOptimizer.optimize(GaussNewtonOptimizer.java:399)\n\tat org.orekit.estimation.leastsquares.BatchLSEstimator.estimate(BatchLSEstimator.java:436)\nCaused by: org.hipparchus.exception.MathIllegalStateException: NaN appears during integration near time 10\n\tat org.hipparchus.ode.nonstiff.RungeKuttaIntegrator.integrate(RungeKuttaIntegrator.java:159)\n\tat org.orekit.propagation.integration.AbstractIntegratedPropagator.propagate(AbstractIntegratedPropagator.java:469)\n\t... 7 more\n",
     "output_type": "error",
     "traceback": [
      "\u001b[0;31m------------------------------------------------------\u001b[0m",
      "\u001b[0;31mJavaError\u001b[0m            Traceback (most recent call last)",
      "\u001b[0;32m<ipython-input-25-2b58e30b43ff>\u001b[0m in \u001b[0;36m<module>\u001b[0;34m\u001b[0m\n\u001b[1;32m      1\u001b[0m \u001b[0;31m# Orbit estimation\u001b[0m\u001b[0;34m\u001b[0m\u001b[0;34m\u001b[0m\u001b[0;34m\u001b[0m\u001b[0m\n\u001b[0;32m----> 2\u001b[0;31m \u001b[0mestimatedPropagatorArray\u001b[0m \u001b[0;34m=\u001b[0m \u001b[0mestimator\u001b[0m\u001b[0;34m.\u001b[0m\u001b[0mestimate\u001b[0m\u001b[0;34m(\u001b[0m\u001b[0;34m)\u001b[0m\u001b[0;34m\u001b[0m\u001b[0;34m\u001b[0m\u001b[0m\n\u001b[0m",
      "\u001b[0;31mJavaError\u001b[0m: <super: <class 'JavaError'>, <JavaError object>>\n    Java stacktrace:\norg.orekit.errors.OrekitException: NaN appears during integration near time 10\n\tat org.orekit.errors.OrekitException.unwrap(OrekitException.java:154)\n\tat org.orekit.propagation.integration.AbstractIntegratedPropagator.propagate(AbstractIntegratedPropagator.java:495)\n\tat org.orekit.propagation.integration.AbstractIntegratedPropagator.propagate(AbstractIntegratedPropagator.java:410)\n\tat org.orekit.propagation.PropagatorsParallelizer.propagate(PropagatorsParallelizer.java:141)\n\tat org.orekit.estimation.leastsquares.DSSTBatchLSModel.value(DSSTBatchLSModel.java:264)\n\tat org.hipparchus.optim.nonlinear.vector.leastsquares.LeastSquaresFactory$LocalLeastSquaresProblem.evaluate(LeastSquaresFactory.java:440)\n\tat org.orekit.estimation.leastsquares.BatchLSEstimator$TappedLSProblem.evaluate(BatchLSEstimator.java:616)\n\tat org.hipparchus.optim.nonlinear.vector.leastsquares.GaussNewtonOptimizer.optimize(GaussNewtonOptimizer.java:399)\n\tat org.orekit.estimation.leastsquares.BatchLSEstimator.estimate(BatchLSEstimator.java:436)\nCaused by: org.hipparchus.exception.MathIllegalStateException: NaN appears during integration near time 10\n\tat org.hipparchus.ode.nonstiff.RungeKuttaIntegrator.integrate(RungeKuttaIntegrator.java:159)\n\tat org.orekit.propagation.integration.AbstractIntegratedPropagator.propagate(AbstractIntegratedPropagator.java:469)\n\t... 7 more\n"
     ]
    }
   ],
   "source": [
    "# Orbit estimation\n",
    "estimatedPropagatorArray = estimator.estimate()"
   ]
  },
  {
   "cell_type": "code",
   "execution_count": 22,
   "metadata": {},
   "outputs": [
    {
     "ename": "NameError",
     "evalue": "name 'estimatedPropagatorArray' is not defined",
     "output_type": "error",
     "traceback": [
      "\u001b[0;31m------------------------------------------------------\u001b[0m",
      "\u001b[0;31mNameError\u001b[0m            Traceback (most recent call last)",
      "\u001b[0;32m<ipython-input-22-bf50a8106b9b>\u001b[0m in \u001b[0;36m<module>\u001b[0;34m\u001b[0m\n\u001b[0;32m----> 1\u001b[0;31m \u001b[0mestimatedPropagator\u001b[0m \u001b[0;34m=\u001b[0m \u001b[0mestimatedPropagatorArray\u001b[0m\u001b[0;34m[\u001b[0m\u001b[0;36m0\u001b[0m\u001b[0;34m]\u001b[0m\u001b[0;34m\u001b[0m\u001b[0;34m\u001b[0m\u001b[0m\n\u001b[0m\u001b[1;32m      2\u001b[0m \u001b[0mestimatedInitialState\u001b[0m \u001b[0;34m=\u001b[0m \u001b[0mestimatedPropagator\u001b[0m\u001b[0;34m.\u001b[0m\u001b[0mgetInitialState\u001b[0m\u001b[0;34m(\u001b[0m\u001b[0;34m)\u001b[0m\u001b[0;34m\u001b[0m\u001b[0;34m\u001b[0m\u001b[0m\n\u001b[1;32m      3\u001b[0m \u001b[0mactualOdDate\u001b[0m \u001b[0;34m=\u001b[0m \u001b[0mestimatedInitialState\u001b[0m\u001b[0;34m.\u001b[0m\u001b[0mgetDate\u001b[0m\u001b[0;34m(\u001b[0m\u001b[0;34m)\u001b[0m\u001b[0;34m\u001b[0m\u001b[0;34m\u001b[0m\u001b[0m\n\u001b[1;32m      4\u001b[0m \u001b[0mestimatedOrbit_init\u001b[0m \u001b[0;34m=\u001b[0m \u001b[0mestimatedInitialState\u001b[0m\u001b[0;34m.\u001b[0m\u001b[0mgetOrbit\u001b[0m\u001b[0;34m(\u001b[0m\u001b[0;34m)\u001b[0m\u001b[0;34m\u001b[0m\u001b[0;34m\u001b[0m\u001b[0m\n",
      "\u001b[0;31mNameError\u001b[0m: name 'estimatedPropagatorArray' is not defined"
     ]
    }
   ],
   "source": [
    "estimatedPropagator = estimatedPropagatorArray[0]\n",
    "estimatedInitialState = estimatedPropagator.getInitialState()\n",
    "actualOdDate = estimatedInitialState.getDate()\n",
    "estimatedOrbit_init = estimatedInitialState.getOrbit()"
   ]
  },
  {
   "cell_type": "code",
   "execution_count": 30,
   "metadata": {},
   "outputs": [
    {
     "data": {
      "text/plain": [
       "0.0017280732814090472"
      ]
     },
     "execution_count": 30,
     "metadata": {},
     "output_type": "execute_result"
    }
   ],
   "source": [
    "estimatedOrbit_init.getE()"
   ]
  },
  {
   "cell_type": "code",
   "execution_count": 85,
   "metadata": {},
   "outputs": [
    {
     "ename": "TypeError",
     "evalue": "descriptor 'createMatrix' for 'AbstractRealMatrix' objects doesn't apply to a 'int' object",
     "output_type": "error",
     "traceback": [
      "\u001b[0;31m------------------------------------------------------\u001b[0m",
      "\u001b[0;31mTypeError\u001b[0m            Traceback (most recent call last)",
      "\u001b[0;32m<ipython-input-85-11b95641e163>\u001b[0m in \u001b[0;36m<module>\u001b[0;34m\u001b[0m\n\u001b[1;32m      1\u001b[0m \u001b[0mrowDimension\u001b[0m \u001b[0;34m=\u001b[0m \u001b[0;36m6\u001b[0m\u001b[0;34m\u001b[0m\u001b[0;34m\u001b[0m\u001b[0m\n\u001b[1;32m      2\u001b[0m \u001b[0mcolumnDimension\u001b[0m \u001b[0;34m=\u001b[0m \u001b[0;36m6\u001b[0m\u001b[0;34m\u001b[0m\u001b[0;34m\u001b[0m\u001b[0m\n\u001b[0;32m----> 3\u001b[0;31m \u001b[0mmat\u001b[0m \u001b[0;34m=\u001b[0m \u001b[0mAbstractRealMatrix\u001b[0m\u001b[0;34m.\u001b[0m\u001b[0mcreateMatrix\u001b[0m\u001b[0;34m(\u001b[0m\u001b[0mrowDimension\u001b[0m\u001b[0;34m,\u001b[0m \u001b[0mcolumnDimension\u001b[0m\u001b[0;34m)\u001b[0m\u001b[0;34m\u001b[0m\u001b[0;34m\u001b[0m\u001b[0m\n\u001b[0m\u001b[1;32m      4\u001b[0m \u001b[0mtest\u001b[0m \u001b[0;34m=\u001b[0m \u001b[0mConstantProcessNoise\u001b[0m\u001b[0;34m(\u001b[0m\u001b[0mmat\u001b[0m\u001b[0;34m)\u001b[0m\u001b[0;34m\u001b[0m\u001b[0;34m\u001b[0m\u001b[0m\n\u001b[1;32m      5\u001b[0m \u001b[0mprint\u001b[0m\u001b[0;34m(\u001b[0m\u001b[0mtest\u001b[0m\u001b[0;34m)\u001b[0m\u001b[0;34m\u001b[0m\u001b[0;34m\u001b[0m\u001b[0m\n",
      "\u001b[0;31mTypeError\u001b[0m: descriptor 'createMatrix' for 'AbstractRealMatrix' objects doesn't apply to a 'int' object"
     ]
    }
   ],
   "source": [
    "rowDimension = 6\n",
    "columnDimension = 6\n",
    "mat = AbstractRealMatrix.createMatrix(rowDimension, columnDimension)\n",
    "test = ConstantProcessNoise(mat)\n",
    "print(test)"
   ]
  },
  {
   "cell_type": "code",
   "execution_count": null,
   "metadata": {},
   "outputs": [],
   "source": []
  },
  {
   "cell_type": "code",
   "execution_count": 154,
   "metadata": {},
   "outputs": [
    {
     "data": {
      "text/plain": [
       "-2.9247779607693793"
      ]
     },
     "execution_count": 154,
     "metadata": {},
     "output_type": "execute_result"
    }
   ],
   "source": [
    "6.5%(2*pi)-pi"
   ]
  },
  {
   "cell_type": "code",
   "execution_count": 145,
   "metadata": {},
   "outputs": [
    {
     "data": {
      "text/plain": [
       "'2020-01-01T00:02:00.177'"
      ]
     },
     "execution_count": 145,
     "metadata": {},
     "output_type": "execute_result"
    }
   ],
   "source": []
  },
  {
   "cell_type": "code",
   "execution_count": null,
   "metadata": {},
   "outputs": [],
   "source": []
  },
  {
   "cell_type": "code",
   "execution_count": null,
   "metadata": {},
   "outputs": [],
   "source": []
  },
  {
   "cell_type": "code",
   "execution_count": null,
   "metadata": {},
   "outputs": [],
   "source": []
  },
  {
   "cell_type": "code",
   "execution_count": null,
   "metadata": {},
   "outputs": [],
   "source": []
  },
  {
   "cell_type": "code",
   "execution_count": null,
   "metadata": {},
   "outputs": [],
   "source": []
  },
  {
   "cell_type": "code",
   "execution_count": null,
   "metadata": {},
   "outputs": [],
   "source": []
  }
 ],
 "metadata": {
  "kernelspec": {
   "display_name": "Python 3",
   "language": "python",
   "name": "python3"
  },
  "language_info": {
   "codemirror_mode": {
    "name": "ipython",
    "version": 3
   },
   "file_extension": ".py",
   "mimetype": "text/x-python",
   "name": "python",
   "nbconvert_exporter": "python",
   "pygments_lexer": "ipython3",
   "version": "3.8.5"
  }
 },
 "nbformat": 4,
 "nbformat_minor": 4
}
