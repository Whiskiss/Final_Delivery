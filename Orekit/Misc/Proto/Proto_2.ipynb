{
 "cells": [
  {
   "cell_type": "code",
   "execution_count": null,
   "metadata": {},
   "outputs": [],
   "source": [
    "# Implementation of code example from\n",
    "# https://forum.orekit.org/t/kalman-model-estimator-usage-suggestions/1032"
   ]
  },
  {
   "cell_type": "code",
   "execution_count": null,
   "metadata": {},
   "outputs": [],
   "source": [
    "            ODEIntegratorBuilder integrator = new DormandPrince853IntegratorBuilder(0.001, 1000, 1);\n",
    "        PositionAngle angle = PositionAngle.MEAN;\n",
    "        double scale = 1; // scaling factor used for orbital parameters normalization (typically set to the expected standard deviation of the position)\n",
    "        NumericalPropagatorBuilder propagatorBuilder = new NumericalPropagatorBuilder(initialGuess, integrator, angle, scale);\n",
    "\n",
    "        // Define the univariate functions for the standard deviations      \n",
    "        UnivariateFunction[] lofCartesianOrbitalParametersEvolution = new UnivariateFunction[6];\n",
    "\n",
    "        // Evolution for position error\n",
    "        lofCartesianOrbitalParametersEvolution[0] = new PolynomialFunction(new double[] { 100, 0, 1e-4 });\n",
    "        lofCartesianOrbitalParametersEvolution[1] = new PolynomialFunction(new double[] { 100, 1e-1, 0 });\n",
    "        lofCartesianOrbitalParametersEvolution[2] = new PolynomialFunction(new double[] { 100, 0, 0 });\n",
    "\n",
    "        // Evolution for velocity error\n",
    "        lofCartesianOrbitalParametersEvolution[3] = new PolynomialFunction(new double[] { 1, 0, 1e-6 });\n",
    "        lofCartesianOrbitalParametersEvolution[4] = new PolynomialFunction(new double[] { 1, 1e-3, 0 });\n",
    "        lofCartesianOrbitalParametersEvolution[5] = new PolynomialFunction(new double[] { 1, 0, 0 });\n",
    "\n",
    "        UnivariateFunction[] propagationParametersEvolution = new UnivariateFunction[] \n",
    "        { \n",
    "            new PolynomialFunction(new double[] { 10, 1, 1e-4 }), \n",
    "            new PolynomialFunction(new double[] { 1000, 0, 0 }),\n",
    "        };\n",
    "\n",
    "        double threshold = 1e-10; // threshold to identify matrix singularity\n",
    "        RealMatrix cov = blse.getPhysicalCovariances(threshold);\n",
    "        UnivariateProcessNoise covarianceMatricesProvider = new UnivariateProcessNoise(cov, LOFType.TNW, angle, lofCartesianOrbitalParametersEvolution, propagationParametersEvolution);\n",
    "        \n",
    "        // Get estimatedMeasurementParameters\n",
    "        ParameterDriversList estimatedMeasurementParameters = new ParameterDriversList();\n",
    "\n",
    "        foreach (ObservedMeasurement ob in obs)\n",
    "            foreach (ParameterDriver driver in ob.getParametersDrivers().toArray())\n",
    "                estimatedMeasurementParameters.add(driver);\n",
    "\n",
    "        //foreach (DelegatingDriver delegating in propagatorBuilder.getOrbitalParametersDrivers().getDrivers().toArray())\n",
    "        //    foreach (ParameterDriver driver in delegating.getRawDrivers().toArray())\n",
    "        //        estimatedMeasurementParameters.add(driver);\n",
    "        //foreach (DelegatingDriver delegating in propagatorBuilder.getPropagationParametersDrivers().getDrivers().toArray())\n",
    "        //    foreach (ParameterDriver driver in delegating.getRawDrivers().toArray())\n",
    "        //        estimatedMeasurementParameters.add(driver);\n",
    "\n",
    "        KalmanEstimator kalman = new KalmanEstimatorBuilder()\n",
    "            .addPropagationConfiguration(propagatorBuilder, covarianceMatricesProvider)\n",
    "            .estimatedMeasurementsParameters(estimatedMeasurementParameters)\n",
    "            .build();"
   ]
  }
 ],
 "metadata": {
  "kernelspec": {
   "display_name": "Python 3",
   "language": "python",
   "name": "python3"
  },
  "language_info": {
   "codemirror_mode": {
    "name": "ipython",
    "version": 3
   },
   "file_extension": ".py",
   "mimetype": "text/x-python",
   "name": "python",
   "nbconvert_exporter": "python",
   "pygments_lexer": "ipython3",
   "version": "3.8.5"
  }
 },
 "nbformat": 4,
 "nbformat_minor": 4
}
