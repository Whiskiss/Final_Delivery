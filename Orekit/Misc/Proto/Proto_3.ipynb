{
 "cells": [
  {
   "cell_type": "code",
   "execution_count": 11,
   "metadata": {},
   "outputs": [],
   "source": [
    "# Python implementation of:\n",
    "# void testCircularAzimuthElevation() \n",
    "# from: KalmanEstimatorTest.java"
   ]
  },
  {
   "cell_type": "code",
   "execution_count": 39,
   "metadata": {
    "tags": []
   },
   "outputs": [
    {
     "ename": "ImportError",
     "evalue": "cannot import name 'JArray_double2D' from 'orekit' (/home/whiskiss/anaconda3/lib/python3.8/site-packages/orekit/__init__.py)",
     "output_type": "error",
     "traceback": [
      "\u001b[0;31m------------------------------------------------------\u001b[0m",
      "\u001b[0;31mImportError\u001b[0m          Traceback (most recent call last)",
      "\u001b[0;32m<ipython-input-39-ca128e7c2d3f>\u001b[0m in \u001b[0;36m<module>\u001b[0;34m\u001b[0m\n\u001b[1;32m     56\u001b[0m \u001b[0;32mfrom\u001b[0m \u001b[0morg\u001b[0m\u001b[0;34m.\u001b[0m\u001b[0morekit\u001b[0m\u001b[0;34m.\u001b[0m\u001b[0mtime\u001b[0m \u001b[0;32mimport\u001b[0m \u001b[0mMonth\u001b[0m\u001b[0;34m\u001b[0m\u001b[0;34m\u001b[0m\u001b[0m\n\u001b[1;32m     57\u001b[0m \u001b[0;32mfrom\u001b[0m \u001b[0morekit\u001b[0m \u001b[0;32mimport\u001b[0m \u001b[0mJArray\u001b[0m\u001b[0;34m\u001b[0m\u001b[0;34m\u001b[0m\u001b[0m\n\u001b[0;32m---> 58\u001b[0;31m \u001b[0;32mfrom\u001b[0m \u001b[0morekit\u001b[0m \u001b[0;32mimport\u001b[0m \u001b[0mJArray_double2D\u001b[0m\u001b[0;34m\u001b[0m\u001b[0;34m\u001b[0m\u001b[0m\n\u001b[0m\u001b[1;32m     59\u001b[0m \u001b[0;34m\u001b[0m\u001b[0m\n\u001b[1;32m     60\u001b[0m \u001b[0;32mfrom\u001b[0m \u001b[0morg\u001b[0m\u001b[0;34m.\u001b[0m\u001b[0morekit\u001b[0m\u001b[0;34m.\u001b[0m\u001b[0mestimation\u001b[0m\u001b[0;34m.\u001b[0m\u001b[0msequential\u001b[0m \u001b[0;32mimport\u001b[0m \u001b[0mKalmanEstimator\u001b[0m\u001b[0;34m,\u001b[0m \u001b[0mKalmanEstimatorBuilder\u001b[0m\u001b[0;34m,\u001b[0m \u001b[0mCovarianceMatrixProvider\u001b[0m\u001b[0;34m,\u001b[0m \u001b[0mConstantProcessNoise\u001b[0m\u001b[0;34m\u001b[0m\u001b[0;34m\u001b[0m\u001b[0m\n",
      "\u001b[0;31mImportError\u001b[0m: cannot import name 'JArray_double2D' from 'orekit' (/home/whiskiss/anaconda3/lib/python3.8/site-packages/orekit/__init__.py)"
     ]
    }
   ],
   "source": [
    "%matplotlib inline\n",
    "\n",
    "from math import radians, pi\n",
    "import pandas as pd\n",
    "import numpy as np\n",
    "import plotly.express as px\n",
    "\n",
    "\n",
    "import orekit\n",
    "vm = orekit.initVM()\n",
    "\n",
    "from orekit.pyhelpers import setup_orekit_curdir, absolutedate_to_datetime\n",
    "setup_orekit_curdir()\n",
    "\n",
    "\n",
    "from org.orekit.orbits import KeplerianOrbit, PositionAngle\n",
    "from org.orekit.propagation.analytical import KeplerianPropagator\n",
    "from org.orekit.time import AbsoluteDate, TimeScalesFactory, TimeScale\n",
    "from org.orekit.utils import Constants\n",
    "from org.orekit.frames import FramesFactory, TopocentricFrame\n",
    "from org.orekit.bodies import OneAxisEllipsoid, GeodeticPoint\n",
    "from org.hipparchus.geometry.euclidean.threed import Vector3D\n",
    "from org.orekit.attitudes import LofOffset\n",
    "from org.orekit.bodies import CelestialBodyFactory, OneAxisEllipsoid\n",
    "from org.orekit.forces.drag import IsotropicDrag\n",
    "from org.orekit.forces.gravity.potential import GravityFieldFactory\n",
    "from org.orekit.forces.maneuvers import ImpulseManeuver\n",
    "from org.orekit.frames import FramesFactory, LOFType, EOPHistory\n",
    "from org.orekit.models.earth.atmosphere import HarrisPriester\n",
    "from org.orekit.orbits import CircularOrbit, OrbitType, PositionAngle\n",
    "from org.orekit.propagation import PropagationType, SpacecraftState\n",
    "from org.orekit.propagation.events import DateDetector, EventEnablingPredicateFilter, PythonEnablingPredicate,\\\n",
    "     PositionAngleDetector, PythonEventDetector, AbstractDetector, EventDetector\n",
    "from org.orekit.propagation.conversion import DormandPrince853IntegratorBuilder, DSSTPropagatorBuilder\n",
    "from org.orekit.propagation.semianalytical.dsst.forces import DSSTAtmosphericDrag, DSSTNewtonianAttraction, DSSTZonal\n",
    "from org.orekit.time import AbsoluteDate, TimeScalesFactory\n",
    "from org.orekit.utils import Constants, IERSConventions, PVCoordinatesProvider\n",
    "from orekit.pyhelpers import absolutedate_to_datetime\n",
    "from org.hipparchus.linear import RealMatrix\n",
    "from org.hipparchus.linear import QRDecomposer, AbstractRealMatrix\n",
    "from org.hipparchus.optim.nonlinear.vector.leastsquares import GaussNewtonOptimizer\n",
    "from org.orekit.estimation.leastsquares import BatchLSEstimator\n",
    "from org.orekit.propagation.numerical import NumericalPropagator\n",
    "from org.orekit.propagation.conversion import AbstractPropagatorBuilder\n",
    "\n",
    "from org.orekit.estimation.measurements import AngularAzEl\n",
    "from org.orekit.estimation.measurements import ObservableSatellite\n",
    "from org.orekit.estimation.measurements import GroundStation\n",
    "from org.orekit.estimation.sequential import KalmanEstimatorBuilder\n",
    "from org.orekit.estimation.sequential import KalmanEstimator\n",
    "from org.orekit.estimation.sequential import KalmanEstimation\n",
    "from org.orekit.estimation.measurements import *\n",
    "\n",
    "from orekit.pyhelpers import absolutedate_to_datetime\n",
    "from collections import namedtuple\n",
    "from org.orekit.time import Month\n",
    "from orekit import JArray\n",
    "from orekit.pyhelpers import JArray_double2D\n",
    "\n",
    "from org.orekit.estimation.sequential import KalmanEstimator, KalmanEstimatorBuilder, CovarianceMatrixProvider, ConstantProcessNoise\n",
    "from org.orekit.orbits import Orbit\n"
   ]
  },
  {
   "cell_type": "code",
   "execution_count": 29,
   "metadata": {},
   "outputs": [],
   "source": [
    "utc = TimeScalesFactory.getUTC()\n",
    "\n",
    "# Given by ADS\n",
    "a = 7000.0 * 1000  \n",
    "e = 0.0016 \n",
    "i = radians(98.0)     \n",
    "omega = radians(0.2)   # perigee argument\n",
    "raan = radians(90.0)  # right ascension of ascending node\n",
    "lv = radians(0.1)    # True anomaly\n",
    "\n",
    "mass = 625.0\n",
    "\n",
    "epochDate = AbsoluteDate(2020, 1, 1, 0, 0, 00.000, utc)\n",
    "initialDate = epochDate\n",
    "\n",
    "## Inertial frame where the satellite is defined\n",
    "inertialFrame = FramesFactory.getEME2000()\n",
    "earth = OneAxisEllipsoid(Constants.WGS84_EARTH_EQUATORIAL_RADIUS, \n",
    "                         Constants.WGS84_EARTH_FLATTENING, \n",
    "                         inertialFrame)\n",
    "\n",
    "## Orbit construction as Keplerian\n",
    "initialOrbit = KeplerianOrbit(a, e, i, omega, raan, lv,\n",
    "                              PositionAngle.TRUE,\n",
    "                              inertialFrame, epochDate, Constants.WGS84_EARTH_MU)"
   ]
  },
  {
   "cell_type": "code",
   "execution_count": 30,
   "metadata": {},
   "outputs": [
    {
     "data": {
      "text/plain": [
       "<SpacecraftState: SpacecraftState{orbit=Keplerian parameters: {a: 7000000.0; e: 0.0016; i: 98.0; pa: 0.2; raan: 90.0; v: 0.1;}, attitude=org.orekit.attitudes.Attitude@5dd1c9f2, mass=1000.0, additional={}}>"
      ]
     },
     "execution_count": 30,
     "metadata": {},
     "output_type": "execute_result"
    }
   ],
   "source": [
    "propagator = KeplerianPropagator(initialOrbit)\n",
    "propagator.getInitialState()"
   ]
  },
  {
   "cell_type": "code",
   "execution_count": 31,
   "metadata": {},
   "outputs": [],
   "source": [
    "# Estimator creation\n",
    "\n",
    "matrixDecomposer = QRDecomposer(1e-11)\n",
    "optimizer = GaussNewtonOptimizer(matrixDecomposer, False)\n",
    "\n",
    "builder = DSSTPropagatorBuilder(initialOrbit,\n",
    "                                DormandPrince853IntegratorBuilder(1.0, 3600.0, 1000.0),\n",
    "                                1.0, PropagationType.OSCULATING, PropagationType.OSCULATING)\n",
    "builder.setMass(625.0)\n",
    "propagator = builder.buildPropagator(builder.getSelectedNormalizedParameters())\n",
    "\n",
    "#Check if builder or propagator needs to be passer and what is the difference\n",
    "#estimator = KalmanEstimatorBuilder.build\n",
    "#estimator.propagator.\n",
    "\n"
   ]
  },
  {
   "cell_type": "code",
   "execution_count": 33,
   "metadata": {},
   "outputs": [],
   "source": [
    "def JArray_double2D(x, y):\n",
    "    \"\"\"Returns an JCC wrapped 2D double array\n",
    "\n",
    "    Args:\n",
    "        x: Number of rows in the array\n",
    "        y: Number of columns in the array\n",
    "\n",
    "    Note that the rows and columns are returned as objects and\n",
    "    are likely needed to be casted manually.\n",
    "    \"\"\"\n",
    "\n",
    "    arr = JArray('object')(x)\n",
    "\n",
    "    for i in range(x):\n",
    "        arr[i] = JArray('double')(y)\n",
    "\n",
    "    return arr\n"
   ]
  },
  {
   "cell_type": "code",
   "execution_count": 34,
   "metadata": {},
   "outputs": [
    {
     "ename": "NameError",
     "evalue": "name 'MatrixUtils' is not defined",
     "output_type": "error",
     "traceback": [
      "\u001b[0;31m------------------------------------------------------\u001b[0m",
      "\u001b[0;31mNameError\u001b[0m            Traceback (most recent call last)",
      "\u001b[0;32m<ipython-input-34-dd39a9722b49>\u001b[0m in \u001b[0;36m<module>\u001b[0;34m\u001b[0m\n\u001b[1;32m      2\u001b[0m \u001b[0mdYdC\u001b[0m \u001b[0;34m=\u001b[0m  \u001b[0mJArray_double2D\u001b[0m\u001b[0;34m(\u001b[0m\u001b[0;36m6\u001b[0m\u001b[0;34m,\u001b[0m\u001b[0;36m6\u001b[0m\u001b[0;34m)\u001b[0m\u001b[0;34m\u001b[0m\u001b[0;34m\u001b[0m\u001b[0m\n\u001b[1;32m      3\u001b[0m \u001b[0minitialOrbit\u001b[0m\u001b[0;34m.\u001b[0m\u001b[0mgetJacobianWrtCartesian\u001b[0m\u001b[0;34m(\u001b[0m\u001b[0mPositionAngle\u001b[0m\u001b[0;34m.\u001b[0m\u001b[0mTRUE\u001b[0m\u001b[0;34m,\u001b[0m \u001b[0mdYdC\u001b[0m\u001b[0;34m)\u001b[0m\u001b[0;34m\u001b[0m\u001b[0;34m\u001b[0m\u001b[0m\n\u001b[0;32m----> 4\u001b[0;31m \u001b[0mJac\u001b[0m \u001b[0;34m=\u001b[0m \u001b[0mMatrixUtils\u001b[0m\u001b[0;34m.\u001b[0m\u001b[0mcreateRealMatrix\u001b[0m\u001b[0;34m(\u001b[0m\u001b[0mdYdC\u001b[0m\u001b[0;34m)\u001b[0m\u001b[0;34m\u001b[0m\u001b[0;34m\u001b[0m\u001b[0m\n\u001b[0m",
      "\u001b[0;31mNameError\u001b[0m: name 'MatrixUtils' is not defined"
     ]
    }
   ],
   "source": [
    "initialOrbit = orbitType.convertType(initialOrbit)\n",
    "dYdC =  JArray_double2D(6,6)\n",
    "initialOrbit.getJacobianWrtCartesian(PositionAngle.TRUE, dYdC)\n",
    "Jac = MatrixUtils.createRealMatrix(dYdC)"
   ]
  },
  {
   "cell_type": "code",
   "execution_count": null,
   "metadata": {},
   "outputs": [],
   "source": []
  },
  {
   "cell_type": "code",
   "execution_count": 23,
   "metadata": {},
   "outputs": [],
   "source": []
  },
  {
   "cell_type": "code",
   "execution_count": null,
   "metadata": {},
   "outputs": [],
   "source": [
    "// Jacobian of the orbital parameters w/r to Cartesian\n",
    "        final Orbit initialOrbit = orbitType.convertType(context.initialOrbit);\n",
    "        final double[][] dYdC = new double[6][6];\n",
    "        initialOrbit.getJacobianWrtCartesian(PositionAngle.TRUE, dYdC);\n",
    "        final RealMatrix Jac = MatrixUtils.createRealMatrix(dYdC);\n",
    "        \n",
    "        // Initial covariance matrix\n",
    "        final RealMatrix initialP = Jac.multiply(cartesianP.multiply(Jac.transpose()));\n",
    "\n",
    "        // Process noise matrix\n",
    "        final RealMatrix cartesianQ = MatrixUtils.createRealDiagonalMatrix(new double [] {\n",
    "            1.e-6, 1.e-6, 1.e-6, 1.e-12, 1.e-12, 1.e-12\n",
    "        });\n",
    "        final RealMatrix Q = Jac.multiply(cartesianQ.multiply(Jac.transpose()));\n",
    "        \n",
    "        // Build the Kalman filter\n",
    "        final KalmanEstimator kalman = new KalmanEstimatorBuilder().\n",
    "                        addPropagationConfiguration(propagatorBuilder, new ConstantProcessNoise(initialP, Q)).\n",
    "                        build();\n",
    "        \n",
    "        // Filter the measurements and check the results\n",
    "        final double   expectedDeltaPos  = 0.;\n",
    "        final double   posEps            = 4.78e-7;\n",
    "        final double   expectedDeltaVel  = 0.;\n",
    "        final double   velEps            = 1.54e-10;\n",
    "        final double[] expectedSigmasPos = {0.356902, 1.297507, 1.798551};\n",
    "        final double   sigmaPosEps       = 1e-6;\n",
    "        final double[] expectedSigmasVel = {2.468745e-4, 5.810027e-4, 3.887394e-4};\n",
    "        final double   sigmaVelEps       = 1e-10;\n",
    "        EstimationTestUtils.checkKalmanFit(context, kalman, measurements,\n",
    "                                           refOrbit, positionAngle,\n",
    "                                           expectedDeltaPos, posEps,\n",
    "                                           expectedDeltaVel, velEps,\n",
    "                                           expectedSigmasPos, sigmaPosEps,\n",
    "                                           expectedSigmasVel, sigmaVelEps);\n",
    "    }"
   ]
  }
 ],
 "metadata": {
  "kernelspec": {
   "display_name": "Python 3",
   "language": "python",
   "name": "python3"
  },
  "language_info": {
   "codemirror_mode": {
    "name": "ipython",
    "version": 3
   },
   "file_extension": ".py",
   "mimetype": "text/x-python",
   "name": "python",
   "nbconvert_exporter": "python",
   "pygments_lexer": "ipython3",
   "version": "3.8.5"
  }
 },
 "nbformat": 4,
 "nbformat_minor": 4
}
