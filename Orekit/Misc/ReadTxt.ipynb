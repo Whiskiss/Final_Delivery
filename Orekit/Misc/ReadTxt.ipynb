{
 "cells": [
  {
   "cell_type": "code",
   "execution_count": null,
   "metadata": {},
   "outputs": [],
   "source": [
    "# Read file"
   ]
  },
  {
   "cell_type": "code",
   "execution_count": 5,
   "metadata": {},
   "outputs": [],
   "source": [
    "f = open(\"LEO_1.txt\", \"r\")\n",
    "lines = f.readlines()"
   ]
  },
  {
   "cell_type": "code",
   "execution_count": 6,
   "metadata": {},
   "outputs": [],
   "source": [
    "lines = f.readlines()"
   ]
  },
  {
   "cell_type": "code",
   "execution_count": 63,
   "metadata": {},
   "outputs": [
    {
     "data": {
      "text/plain": [
       "-1"
      ]
     },
     "execution_count": 63,
     "metadata": {},
     "output_type": "execute_result"
    }
   ],
   "source": [
    "Az = []\n",
    "El = []\n",
    "year = []\n",
    "month = []\n",
    "day = []\n",
    "hour = []\n",
    "minute = [-1]\n",
    "for line in lines:\n",
    "    if line.find('MEAS:=')!=-1:\n",
    "        if line.find('AZ')!=-1:\n",
    "            lineNospace = line[52:].lstrip()\n",
    "            idx = lineNospace.find(' ')\n",
    "            Az.append(lineNospace[:idx])\n",
    "        elif line.find('EL')!=-1:\n",
    "            lineNospace = line[52:].lstrip()\n",
    "            idx = lineNospace.find(' ')\n",
    "            El.append(lineNospace[:idx])\n",
    "        if int(line[21:23]) != minute[-1]:\n",
    "            year.append(int(line[7:11]))\n",
    "            month.append(int(line[12:14]))\n",
    "            day.append(int(line[15:17]))\n",
    "            hour.append(int(line[18:20]))\n",
    "            minute.append(int(line[21:23]))\n",
    "minute.pop(0)"
   ]
  },
  {
   "cell_type": "code",
   "execution_count": 64,
   "metadata": {},
   "outputs": [],
   "source": [
    "line = lines[-3]"
   ]
  },
  {
   "cell_type": "code",
   "execution_count": 65,
   "metadata": {},
   "outputs": [
    {
     "data": {
      "text/plain": [
       "'MEAS:= 2020/01/01 11:54:00.000 EL  Kiruna     xxx KR       14.558533597332 ZZ\\n'"
      ]
     },
     "execution_count": 65,
     "metadata": {},
     "output_type": "execute_result"
    }
   ],
   "source": [
    "line"
   ]
  },
  {
   "cell_type": "code",
   "execution_count": null,
   "metadata": {},
   "outputs": [],
   "source": []
  }
 ],
 "metadata": {
  "kernelspec": {
   "display_name": "Python 3",
   "language": "python",
   "name": "python3"
  },
  "language_info": {
   "codemirror_mode": {
    "name": "ipython",
    "version": 3
   },
   "file_extension": ".py",
   "mimetype": "text/x-python",
   "name": "python",
   "nbconvert_exporter": "python",
   "pygments_lexer": "ipython3",
   "version": "3.8.5"
  }
 },
 "nbformat": 4,
 "nbformat_minor": 4
}
