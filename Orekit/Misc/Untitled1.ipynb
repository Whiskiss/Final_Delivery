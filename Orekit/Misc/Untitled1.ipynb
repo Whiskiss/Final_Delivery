{
 "cells": [
  {
   "cell_type": "code",
   "execution_count": 5,
   "metadata": {},
   "outputs": [],
   "source": [
    "from typing import List\n",
    "import math\n",
    "import numpy as np\n",
    "import orekit\n",
    "\n",
    "vm = orekit.initVM()\n",
    "\n",
    "from orekit.pyhelpers import setup_orekit_curdir, absolutedate_to_datetime\n",
    "setup_orekit_curdir()"
   ]
  },
  {
   "cell_type": "code",
   "execution_count": 13,
   "metadata": {},
   "outputs": [
    {
     "ename": "ImportError",
     "evalue": "attempted relative import with no known parent package",
     "output_type": "error",
     "traceback": [
      "\u001b[0;31m---------------------------------------------------------------------------\u001b[0m",
      "\u001b[0;31mImportError\u001b[0m                               Traceback (most recent call last)",
      "\u001b[0;32m<ipython-input-13-e539a53340a8>\u001b[0m in \u001b[0;36m<module>\u001b[0;34m\u001b[0m\n\u001b[1;32m     18\u001b[0m \u001b[0;34m\u001b[0m\u001b[0m\n\u001b[1;32m     19\u001b[0m \u001b[0;31m#from .inputs import Inputs\u001b[0m\u001b[0;34m\u001b[0m\u001b[0;34m\u001b[0m\u001b[0;34m\u001b[0m\u001b[0m\n\u001b[0;32m---> 20\u001b[0;31m \u001b[0;32mfrom\u001b[0m \u001b[0;34m.\u001b[0m\u001b[0mutils\u001b[0m \u001b[0;32mimport\u001b[0m \u001b[0mJULIAN_DAYS_PER_YEAR\u001b[0m\u001b[0;34m,\u001b[0m \u001b[0mKILOMETERS\u001b[0m\u001b[0;34m,\u001b[0m \u001b[0mnormalize_around_0_radians\u001b[0m\u001b[0;34m,\u001b[0m \u001b[0mnormalize_around_pi\u001b[0m\u001b[0;34m,\u001b[0m \u001b[0mseconds_in_day\u001b[0m\u001b[0;34m\u001b[0m\u001b[0;34m\u001b[0m\u001b[0m\n\u001b[0m",
      "\u001b[0;31mImportError\u001b[0m: attempted relative import with no known parent package"
     ]
    }
   ],
   "source": [
    "from org.hipparchus.geometry.euclidean.threed import Vector3D\n",
    "from org.orekit.attitudes import LofOffset\n",
    "from org.orekit.bodies import CelestialBodyFactory, OneAxisEllipsoid\n",
    "from org.orekit.forces.drag import IsotropicDrag\n",
    "from org.orekit.forces.gravity.potential import GravityFieldFactory\n",
    "from org.orekit.forces.maneuvers import ImpulseManeuver\n",
    "from org.orekit.frames import FramesFactory, LOFType\n",
    "from org.orekit.models.earth.atmosphere import HarrisPriester\n",
    "from org.orekit.orbits import CircularOrbit, OrbitType, PositionAngle\n",
    "from org.orekit.propagation import PropagationType, SpacecraftState\n",
    "from org.orekit.propagation.events import DateDetector, EventEnablingPredicateFilter, PythonEnablingPredicate,\\\n",
    "     PositionAngleDetector, PythonEventDetector, AbstractDetector, EventDetector\n",
    "from org.orekit.propagation.conversion import DormandPrince853IntegratorBuilder, DSSTPropagatorBuilder\n",
    "from org.orekit.propagation.semianalytical.dsst.forces import DSSTAtmosphericDrag, DSSTNewtonianAttraction, DSSTZonal\n",
    "from org.orekit.time import AbsoluteDate, TimeScalesFactory\n",
    "from org.orekit.utils import Constants, IERSConventions, PVCoordinatesProvider\n",
    "from orekit.pyhelpers import absolutedate_to_datetime\n",
    "\n",
    "from .inputs import Inputs\n",
    "from .utils import JULIAN_DAYS_PER_YEAR, KILOMETERS, normalize_around_0_radians, normalize_around_pi, seconds_in_day"
   ]
  },
  {
   "cell_type": "code",
   "execution_count": 12,
   "metadata": {},
   "outputs": [
    {
     "ename": "NameError",
     "evalue": "name 'Inputs' is not defined",
     "output_type": "error",
     "traceback": [
      "\u001b[0;31m---------------------------------------------------------------------------\u001b[0m",
      "\u001b[0;31mNameError\u001b[0m                                 Traceback (most recent call last)",
      "\u001b[0;32m<ipython-input-12-064703a2d1d1>\u001b[0m in \u001b[0;36m<module>\u001b[0;34m\u001b[0m\n\u001b[0;32m----> 1\u001b[0;31m \u001b[0;32mdef\u001b[0m \u001b[0mpropagate\u001b[0m\u001b[0;34m(\u001b[0m\u001b[0minputs\u001b[0m\u001b[0;34m:\u001b[0m \u001b[0mInputs\u001b[0m\u001b[0;34m)\u001b[0m\u001b[0;34m:\u001b[0m\u001b[0;34m\u001b[0m\u001b[0;34m\u001b[0m\u001b[0m\n\u001b[0m\u001b[1;32m      2\u001b[0m     \u001b[0mpropagator\u001b[0m \u001b[0;34m=\u001b[0m \u001b[0mpropagator_with_drag_and_J2\u001b[0m\u001b[0;34m(\u001b[0m\u001b[0minputs\u001b[0m\u001b[0;34m.\u001b[0m\u001b[0minitial_orbit\u001b[0m\u001b[0;34m,\u001b[0m \u001b[0minputs\u001b[0m\u001b[0;34m.\u001b[0m\u001b[0mmass\u001b[0m\u001b[0;34m)\u001b[0m\u001b[0;34m\u001b[0m\u001b[0;34m\u001b[0m\u001b[0m\n\u001b[1;32m      3\u001b[0m \u001b[0;34m\u001b[0m\u001b[0m\n\u001b[1;32m      4\u001b[0m     \u001b[0mmaneuvers\u001b[0m \u001b[0;34m=\u001b[0m \u001b[0mrecompute_maneuvers\u001b[0m\u001b[0;34m(\u001b[0m\u001b[0minputs\u001b[0m\u001b[0;34m)\u001b[0m\u001b[0;34m\u001b[0m\u001b[0;34m\u001b[0m\u001b[0m\n\u001b[1;32m      5\u001b[0m     \u001b[0;32mfor\u001b[0m \u001b[0mmaneuver\u001b[0m \u001b[0;32min\u001b[0m \u001b[0mmaneuvers\u001b[0m\u001b[0;34m:\u001b[0m\u001b[0;34m\u001b[0m\u001b[0;34m\u001b[0m\u001b[0m\n",
      "\u001b[0;31mNameError\u001b[0m: name 'Inputs' is not defined"
     ]
    }
   ],
   "source": [
    "def propagate(inputs: Inputs):\n",
    "    propagator = propagator_with_drag_and_J2(inputs.initial_orbit, inputs.mass)\n",
    "\n",
    "    maneuvers = recompute_maneuvers(inputs)\n",
    "    for maneuver in maneuvers:\n",
    "        propagator.addEventDetector(maneuver)\n",
    "\n",
    "    propagator.propagate(inputs.initial_orbit.getDate().shiftedBy(inputs.duration))\n",
    "    ephemeris = propagator.getGeneratedEphemeris()\n",
    "\n",
    "    times_at_each_step = [inputs.initial_orbit.getDate().shiftedBy(float(dt)) for dt in np.append(np.arange(0.0, inputs.duration, inputs.step), inputs.duration)]\n",
    "    \n",
    "    orbits_at_maneuvers = [CircularOrbit(ephemeris.propagate(date).getOrbit()) for date in times_at_maneuvers]\n",
    "    orbits_at_each_step = [CircularOrbit(ephemeris.propagate(date).getOrbit()) for date in times_at_each_step]\n",
    "\n",
    "    return {'dates': [absolutedate_to_datetime(orbit.getDate()) for orbit in orbits_at_maneuvers],\n",
    "            'semiMajorAxis': [orbit.getA() for orbit in orbits_at_maneuvers],\n",
    "            'eccentricityX': [orbit.getCircularEx() for orbit in orbits_at_maneuvers],\n",
    "            'eccentricityY': [orbit.getCircularEy() for orbit in orbits_at_maneuvers],\n",
    "            'inclination': [orbit.getI() for orbit in orbits_at_maneuvers],\n",
    "            'raan': [orbit.getRightAscensionOfAscendingNode() for orbit in orbits_at_maneuvers]}\n",
    "\n",
    "def new_maneuver(maneuver_pso, maneuver_approximate_date, mass, isp, orbital_period, deltaV_T, deltaV_W) -> ImpulseManeuver:\n",
    "    predicate = CloseToDatePredicate(maneuver_approximate_date, orbital_period/2.)\n",
    "    detector = EventEnablingPredicateFilter(PositionAngleDetector(OrbitType.CIRCULAR, PositionAngle.TRUE, maneuver_pso),\n",
    "                                             predicate)\n",
    "    vector_deltaV_T = Vector3D.scalarMultiply(Vector3D.PLUS_I, deltaV_T)\n",
    "    vector_deltaV_W = Vector3D.scalarMultiply(Vector3D.PLUS_K, deltaV_W)\n",
    "    return DateRecordingImpulseManeuver(detector, LofOffset(FramesFactory.getEME2000(), LOFType.TNW), vector_deltaV_T.add(vector_deltaV_W), isp)\n",
    "    # return ImpulseManeuver(detector, LofOffset(FramesFactory.getEME2000(), LOFType.TNW), vector_deltaV_T.add(vector_deltaV_W), isp)\n",
    "\n",
    "\n",
    "\n",
    "# drag using Harris Priester\n",
    "cross_section_drag = 3. # TODO : the user must be able to set this\n",
    "drag_coeff = 2.2\n",
    "frame = FramesFactory.getITRF(IERSConventions.IERS_2010, False)\n",
    "earth = OneAxisEllipsoid(Constants.WGS84_EARTH_EQUATORIAL_RADIUS, Constants.WGS84_EARTH_FLATTENING, frame)\n",
    "atmosphere = HarrisPriester(CelestialBodyFactory.getSun(), earth)\n",
    "drag_sensitive = IsotropicDrag(cross_section_drag, drag_coeff)\n",
    "drag_force = DSSTAtmosphericDrag(atmosphere, drag_sensitive, Constants.WGS84_EARTH_MU)\n",
    "\n",
    "# central body attraction\n",
    "central_body = DSSTNewtonianAttraction(Constants.WGS84_EARTH_MU)\n",
    "\n",
    "# J2 perturbation\n",
    "zonal_central_body = DSSTZonal(GravityFieldFactory.getUnnormalizedProvider(6, 6))\n",
    "\n",
    "def propagator_reference(initial_orbit, mass):\n",
    "    builder = DSSTPropagatorBuilder(initial_orbit,\n",
    "                                    DormandPrince853IntegratorBuilder(600.0, 86400.0, 100.0),\n",
    "                                    1.0, PropagationType.MEAN, PropagationType.MEAN)\n",
    "    builder.setMass(mass)\n",
    "    propagator = builder.buildPropagator(builder.getSelectedNormalizedParameters())\n",
    "    propagator.setEphemerisMode()\n",
    "    return propagator\n",
    "\n",
    "def propagator_with_drag_and_J2(initial_orbit, mass):\n",
    "    propagator = propagator_reference(initial_orbit, mass)\n",
    "    propagator.addForceModel(drag_force)\n",
    "    propagator.addForceModel(central_body)\n",
    "    propagator.addForceModel(zonal_central_body)\n",
    "    return propagator"
   ]
  },
  {
   "cell_type": "code",
   "execution_count": 14,
   "metadata": {},
   "outputs": [
    {
     "ename": "ImportError",
     "evalue": "cannot import name 'JULIAN_DAYS_PER_YEAR' from 'org.orekit.utils' (/home/whiskiss/anaconda3/lib/python3.8/site-packages/orekit/_orekit.cpython-38-x86_64-linux-gnu.so)",
     "output_type": "error",
     "traceback": [
      "\u001b[0;31m---------------------------------------------------------------------------\u001b[0m",
      "\u001b[0;31mImportError\u001b[0m                               Traceback (most recent call last)",
      "\u001b[0;32m<ipython-input-14-52a20ecc4c01>\u001b[0m in \u001b[0;36m<module>\u001b[0;34m\u001b[0m\n\u001b[0;32m----> 1\u001b[0;31m \u001b[0;32mfrom\u001b[0m \u001b[0morg\u001b[0m\u001b[0;34m.\u001b[0m\u001b[0morekit\u001b[0m\u001b[0;34m.\u001b[0m\u001b[0mutils\u001b[0m \u001b[0;32mimport\u001b[0m \u001b[0mJULIAN_DAYS_PER_YEAR\u001b[0m\u001b[0;34m,\u001b[0m \u001b[0mKILOMETERS\u001b[0m\u001b[0;34m,\u001b[0m \u001b[0mnormalize_around_0_radians\u001b[0m\u001b[0;34m,\u001b[0m \u001b[0mnormalize_around_pi\u001b[0m\u001b[0;34m,\u001b[0m \u001b[0mseconds_in_day\u001b[0m\u001b[0;34m\u001b[0m\u001b[0;34m\u001b[0m\u001b[0m\n\u001b[0m",
      "\u001b[0;31mImportError\u001b[0m: cannot import name 'JULIAN_DAYS_PER_YEAR' from 'org.orekit.utils' (/home/whiskiss/anaconda3/lib/python3.8/site-packages/orekit/_orekit.cpython-38-x86_64-linux-gnu.so)"
     ]
    }
   ],
   "source": [
    "from org.orekit.utils import JULIAN_DAYS_PER_YEAR, KILOMETERS, normalize_around_0_radians, normalize_around_pi, seconds_in_day"
   ]
  },
  {
   "cell_type": "code",
   "execution_count": null,
   "metadata": {},
   "outputs": [],
   "source": []
  }
 ],
 "metadata": {
  "kernelspec": {
   "display_name": "Python 3",
   "language": "python",
   "name": "python3"
  },
  "language_info": {
   "codemirror_mode": {
    "name": "ipython",
    "version": 3
   },
   "file_extension": ".py",
   "mimetype": "text/x-python",
   "name": "python",
   "nbconvert_exporter": "python",
   "pygments_lexer": "ipython3",
   "version": "3.8.5"
  }
 },
 "nbformat": 4,
 "nbformat_minor": 4
}
