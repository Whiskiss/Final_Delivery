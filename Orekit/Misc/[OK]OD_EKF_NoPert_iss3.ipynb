{
 "cells": [
  {
   "cell_type": "code",
   "execution_count": 1,
   "metadata": {},
   "outputs": [],
   "source": [
    "# Propagation from AZ/EL observations\n",
    "# Perturbation:\n",
    "# N/A\n",
    "# Maneuver: \n",
    "# No\n",
    "\n",
    "# IOD\n",
    "# Given from propagation_issX\n",
    "\n",
    "# Obserbation:\n",
    "# AZ/EL\n",
    "# TOD / IERS_2010\n",
    "\n",
    "# Output:\n",
    "# TBD\n",
    "\n",
    "# Remark: Implementation of the Orbdetpy methods Estimation.java"
   ]
  },
  {
   "cell_type": "code",
   "execution_count": 2,
   "metadata": {
    "jupyter": {
     "source_hidden": true
    },
    "tags": []
   },
   "outputs": [],
   "source": [
    "%matplotlib inline\n",
    "\n",
    "from math import radians, pi, degrees\n",
    "import pandas as pd\n",
    "import numpy as np\n",
    "import plotly.express as px\n",
    "\n",
    "\n",
    "import orekit\n",
    "vm = orekit.initVM()\n",
    "\n",
    "from orekit.pyhelpers import setup_orekit_curdir, absolutedate_to_datetime\n",
    "setup_orekit_curdir()\n",
    "\n",
    "from org.orekit.orbits import KeplerianOrbit, PositionAngle\n",
    "from org.orekit.propagation.analytical import KeplerianPropagator\n",
    "from org.orekit.time import AbsoluteDate, TimeScalesFactory, TimeScale\n",
    "from org.orekit.utils import Constants\n",
    "from org.orekit.frames import FramesFactory, TopocentricFrame\n",
    "from org.orekit.bodies import OneAxisEllipsoid, GeodeticPoint\n",
    "from org.hipparchus.geometry.euclidean.threed import Vector3D\n",
    "from org.orekit.attitudes import LofOffset\n",
    "from org.orekit.bodies import CelestialBodyFactory, OneAxisEllipsoid\n",
    "from org.orekit.forces.drag import IsotropicDrag\n",
    "from org.orekit.forces.gravity.potential import GravityFieldFactory\n",
    "from org.orekit.forces.maneuvers import ImpulseManeuver\n",
    "from org.orekit.frames import FramesFactory, LOFType, EOPHistory\n",
    "from org.orekit.models.earth.atmosphere import HarrisPriester\n",
    "from org.orekit.orbits import CircularOrbit, OrbitType, PositionAngle\n",
    "from org.orekit.propagation import PropagationType, SpacecraftState\n",
    "from org.orekit.propagation.events import DateDetector, EventEnablingPredicateFilter, PythonEnablingPredicate,\\\n",
    "     PositionAngleDetector, PythonEventDetector, AbstractDetector, EventDetector\n",
    "from org.orekit.propagation.conversion import DormandPrince853IntegratorBuilder, DSSTPropagatorBuilder, \\\n",
    "     ClassicalRungeKuttaIntegratorBuilder, EulerIntegratorBuilder\n",
    "from org.orekit.propagation.semianalytical.dsst.forces import DSSTAtmosphericDrag, DSSTNewtonianAttraction, DSSTZonal\n",
    "from org.orekit.time import AbsoluteDate, TimeScalesFactory\n",
    "from org.orekit.utils import Constants, IERSConventions, PVCoordinatesProvider\n",
    "from orekit.pyhelpers import absolutedate_to_datetime\n",
    "from org.hipparchus.linear import RealMatrix\n",
    "from org.hipparchus.linear import QRDecomposer, AbstractRealMatrix\n",
    "from org.hipparchus.optim.nonlinear.vector.leastsquares import GaussNewtonOptimizer\n",
    "from org.orekit.estimation.leastsquares import BatchLSEstimator\n",
    "from org.orekit.propagation.numerical import NumericalPropagator\n",
    "from org.orekit.propagation.conversion import AbstractPropagatorBuilder, PropagatorBuilder\n",
    "\n",
    "from org.orekit.estimation.measurements import AngularAzEl\n",
    "from org.orekit.estimation.measurements import ObservableSatellite\n",
    "from org.orekit.estimation.measurements import GroundStation\n",
    "from org.orekit.estimation.sequential import KalmanEstimatorBuilder\n",
    "from org.orekit.estimation.sequential import KalmanEstimator\n",
    "from org.orekit.estimation.sequential import KalmanEstimation,AbstractCovarianceMatrixProvider\n",
    "from org.orekit.estimation.measurements import *\n",
    "from org.orekit.estimation.iod import IodGooding, IodLaplace\n",
    "\n",
    "from orekit.pyhelpers import absolutedate_to_datetime, datetime_to_absolutedate, JArray_double2D\n",
    "from collections import namedtuple\n",
    "from org.orekit.time import Month\n",
    "from orekit import JArray\n",
    "\n",
    "from org.orekit.estimation.sequential import KalmanEstimator, KalmanEstimatorBuilder, CovarianceMatrixProvider, ConstantProcessNoise\n",
    "from org.orekit.orbits import Orbit\n",
    "from org.hipparchus.linear import MatrixUtils\n",
    "\n",
    "from org.orekit.propagation.conversion import DormandPrince853IntegratorBuilder\n",
    "from org.orekit.propagation.conversion import NumericalPropagatorBuilder\n",
    "from org.orekit.orbits import PositionAngle\n",
    "\n",
    "from org.orekit.forces.gravity.potential import GravityFieldFactory\n",
    "from org.orekit.forces.gravity import HolmesFeatherstoneAttractionModel\n",
    "\n",
    "from org.orekit.utils import ParameterDriver\n",
    "\n",
    "from org.hipparchus.linear import Array2DRowRealMatrix  \n",
    "from org.orekit.estimation.sequential import KalmanEstimatorBuilder, KalmanEstimation\n",
    "from org.orekit.orbits import CartesianOrbit, Orbit\n",
    "from org.orekit.utils import TimeStampedPVCoordinates"
   ]
  },
  {
   "cell_type": "code",
   "execution_count": 3,
   "metadata": {},
   "outputs": [],
   "source": [
    "def initCov(initialCov, initData, matSize):\n",
    "    for i in range(0,matSize):\n",
    "        initialCov.setEntry(i, i, 1.0);\n",
    "        for j in range(0,i):\n",
    "            initialCov.setEntry(i, j, initData[j]);\n",
    "            initialCov.setEntry(j, i, initData[j]);\n",
    "            #print(initData[j])\n",
    "    return initialCov\n",
    "\n",
    "def getAzElDate(datetime, ref):\n",
    "    year = int(datetime[1:5])\n",
    "    month = int(datetime[6:8])\n",
    "    day = int(datetime[9:11])\n",
    "    hour = int(datetime[12:14])\n",
    "    minute = int(datetime[15:17])\n",
    "    second = int(datetime[18:20])\n",
    "    return AbsoluteDate(year, Month.getMonth(month), day, hour, minute, 0.0, ref)"
   ]
  },
  {
   "cell_type": "code",
   "execution_count": 4,
   "metadata": {},
   "outputs": [],
   "source": [
    "# ADS Inputs\n",
    "a = 6500000.0  \n",
    "e = 0.25\n",
    "i = radians(98.0)     \n",
    "omega = radians(0.2)   # perigee argument\n",
    "raan = radians(90.0)  # right ascension of ascending node\n",
    "lv = radians(3.0)#0.1)    # True anomaly\n",
    "\n",
    "\n",
    "#mass = 625.0\n",
    "utc = TimeScalesFactory.getUTC()\n",
    "initialDate = AbsoluteDate(2020, 1, 1, 0, 0, 00.000, utc)\n",
    "\n",
    "## Inertial frame where the satellite is defined\n",
    "inertialFrame =  FramesFactory.getTOD(IERSConventions.IERS_2010, False)\n",
    "earth = OneAxisEllipsoid(Constants.WGS84_EARTH_EQUATORIAL_RADIUS, \n",
    "                         Constants.WGS84_EARTH_FLATTENING, \n",
    "                         inertialFrame)\n",
    "\n",
    "## Orbit construction as Keplerian\n",
    "initialOrbit = KeplerianOrbit(a, e, i, omega, raan, lv,\n",
    "                              PositionAngle.TRUE,\n",
    "                              inertialFrame, initialDate, Constants.WGS84_EARTH_MU)\n",
    "\n",
    "# Orbit propagator parameters\n",
    "prop_min_step = 60.0 # s\n",
    "prop_max_step = 300.0 # s\n",
    "prop_position_error = 100.0 # m\n",
    "\n",
    "# Estimator parameters\n",
    "estimator_position_scale = 1.0 # m\n",
    "estimator_convergence_thres = 1e-3\n",
    "estimator_max_iterations = 25\n",
    "estimator_max_evaluations = 35\n"
   ]
  },
  {
   "cell_type": "code",
   "execution_count": 5,
   "metadata": {},
   "outputs": [],
   "source": [
    "# 182\n",
    "\n",
    "integratorBuilder = DormandPrince853IntegratorBuilder(prop_min_step, prop_max_step, prop_position_error)\n",
    "kepPropagatorBuilder = NumericalPropagatorBuilder(initialOrbit,\n",
    "                                                   integratorBuilder,\n",
    "                                                   PositionAngle.MEAN,\n",
    "                                                   estimator_position_scale)\n",
    "\n",
    "# Earth gravity field with degree 20 and order 20\n",
    "gravityProvider = GravityFieldFactory.getConstantNormalizedProvider(20,20)\n",
    "gravityAttractionModel = HolmesFeatherstoneAttractionModel(inertialFrame, gravityProvider)\n",
    "kepPropagatorBuilder.addForceModel(gravityAttractionModel)\n"
   ]
  },
  {
   "cell_type": "code",
   "execution_count": 6,
   "metadata": {},
   "outputs": [],
   "source": [
    "\n",
    "plst = kepPropagatorBuilder.getPropagationParametersDrivers()\n",
    "\n",
    "dragCoefficient = ParameterDriver('Cd', 2.0, 1.0, 1.0, 3.0)\n",
    "dragCoefficient.setSelected(True)\n",
    "plst.add(dragCoefficient)\n",
    "\n",
    "rpCoeffReflection = ParameterDriver('Cr', 1.5, 1.0, 1.0, 2.0)\n",
    "rpCoeffReflection.setSelected(True)\n",
    "plst.add(rpCoeffReflection)\n",
    "\n",
    "estmDMCAcceleration = ParameterDriver('DMC', 0.1, 1.0, -1.0e-2, -1.0e-2)\n",
    "estmDMCAcceleration.setSelected(True)\n",
    "plst.add(estmDMCAcceleration)\n",
    "\n"
   ]
  },
  {
   "cell_type": "code",
   "execution_count": null,
   "metadata": {},
   "outputs": [],
   "source": []
  },
  {
   "cell_type": "code",
   "execution_count": null,
   "metadata": {},
   "outputs": [],
   "source": [
    " "
   ]
  },
  {
   "cell_type": "code",
   "execution_count": 7,
   "metadata": {},
   "outputs": [
    {
     "name": "stdout",
     "output_type": "stream",
     "text": [
      "9\n"
     ]
    }
   ],
   "source": [
    "# Creation of Noise matrix\n",
    "def initCovLower2(initialCov, initData, matSize):\n",
    "    for i in range(0,matSize):\n",
    "        initialCov.setEntry(i, i, initData[i]);\n",
    "        for j in range(0,i):\n",
    "            initialCov.setEntry(i, j, initData[j]);\n",
    "            initialCov.setEntry(j, i, initData[j]);\n",
    "            #print(initData[j])\n",
    "    return initialCov\n",
    "\n",
    "def initCov2(initialCov, initData, matSize):\n",
    "    for i in range(0,matSize):\n",
    "        initialCov.setEntry(i, i, initData[i]);\n",
    "        for j in range(0,matSize):\n",
    "            initialCov.setEntry(i, j, initData[j]);\n",
    "            #initialCov.setEntry(j, i, initData[j]);\n",
    "            #print(initData[j])\n",
    "    return initialCov\n",
    "\n",
    "\n",
    "matSize = 9\n",
    "Q = MatrixUtils.createRealDiagonalMatrix([10000.0, 0.2, 0.3, 0.3,0.3,0.3, 10.0, 10.0, 10.0])\n",
    "Q = MatrixUtils.createRealDiagonalMatrix([10.0, 10.0, 10.0, 10.0, 10.0, 10.0, 10.0, 10.0, 10.0])\n",
    "Q = MatrixUtils.createRealDiagonalMatrix([1e-9, 1e-9, 1e-9, 1e-9, 1e-9, 1e-9, 10.0, 10.0, 10.0])\n",
    "Q = MatrixUtils.createRealDiagonalMatrix([1e-12, 1e-12, 1e-12, 1e-12, 1e-12, 1e-12, 10.0, 10.0, 10.0])\n",
    "\n",
    "initialCov = Array2DRowRealMatrix(matSize,matSize)\n",
    "initData = [25e6, 25e6, 25e6, 1e2, 1e2, 1e2, 1.00, 0.25, 1e-1, 1e-1, 1e-1]\n",
    "initData = [25e6, 0.5, 0.5, 0.5, 0.5, 0.5, 1.00, 0.25, 1e-1, 1e-1,1e-1]\n",
    "initData = [1e6, 0.0001, 0.0001, 0.0001, 0.0001, 0.0001, 1.00, 0.25, 1e-1, 1e-1,1e-1]\n",
    "\n",
    "initialCov = initCovLower2(initialCov, initData, matSize)\n",
    "\n",
    " \n",
    "print(initialCov.getRowDimension())\n",
    "\n",
    "# Build the Kalman filter\n",
    "processNoise = ConstantProcessNoise(initialCov, Q)\n",
    "kalman = KalmanEstimatorBuilder().addPropagationConfiguration(kepPropagatorBuilder, processNoise) # KalmanEstimatorBuilder\n",
    "\n",
    "filter = kalman.build() # KalmanEstimator\n"
   ]
  },
  {
   "cell_type": "code",
   "execution_count": 8,
   "metadata": {
    "tags": []
   },
   "outputs": [
    {
     "name": "stdout",
     "output_type": "stream",
     "text": [
      "2020-01-03T00:00:00.000 {6,999,659.882729793; 0.2004434458; 1.7102510214; 0.0021195731; 1.570890886; 186.282746958; 1.978768869; 1.478768869; -0.01}\n"
     ]
    }
   ],
   "source": [
    "# Build ObservedMeasurement\n",
    "#Open and collect data from csv\n",
    "file = pd.read_csv(\"export_all_NoPert.csv\")\n",
    "az = file['azimuth']\n",
    "el = file['elevation']\n",
    "datetime = file['pv']\n",
    "idx = datetime[0].find(',')\n",
    "\n",
    "errDeg = 0.001 #10*0.000277778 #1 arcsec\n",
    "azBaseWeight = 1.0\n",
    "elBaseWeight = 1.0\n",
    "\n",
    "frame = FramesFactory.getTOD(IERSConventions.IERS_2010, False)\n",
    "\n",
    "earth = OneAxisEllipsoid(Constants.WGS84_EARTH_EQUATORIAL_RADIUS, \n",
    "                         Constants.WGS84_EARTH_FLATTENING, \n",
    "                         frame)\n",
    "longitude = radians(21.038)\n",
    "latitude  = radians(67.8790708)\n",
    "altitude  = 527.0\n",
    "station = GeodeticPoint(latitude, longitude, altitude)\n",
    "stationFrame = TopocentricFrame(earth, station, \"Kiruna\")\n",
    "\n",
    "ObsSat= ObservableSatellite(0) # From R5\n",
    "EKF_a = []  \n",
    "EKF_e = [] \n",
    "EKF_i = []     \n",
    "EKF_omega = []  \n",
    "EKF_raan = []  \n",
    "EKF_lv = [] \n",
    "newCovMatrix = []\n",
    "\n",
    "Elt1 = []\n",
    "Elt2 = []\n",
    "Elt3 = []\n",
    "Elt4 = []\n",
    "Elt5 = []\n",
    "Elt6 = []\n",
    "\n",
    "Kk = []\n",
    "\n",
    "iFail = 0\n",
    "FAIL_MAX = 50\n",
    "\n",
    "#for j in range(0,len(az),3):\n",
    "for j in range(0,len(az)):\n",
    "        \n",
    "    date = getAzElDate(datetime[j], utc)\n",
    "    orekitAzEl = AngularAzEl(GroundStation(stationFrame),\n",
    "                    date,\n",
    "\t\t\t\t\tJArray('double')([radians(az[j]),radians(el[j])]),\n",
    "                    JArray('double')([radians(errDeg),radians(errDeg)]),\n",
    "                    JArray('double')([azBaseWeight,elBaseWeight]),\n",
    "                    ObsSat)\n",
    "    try:\n",
    "        filter.estimationStep(orekitAzEl)\n",
    "        \n",
    "        newEstimatedState = filter.getPhysicalEstimatedState()\n",
    "\n",
    "        EKF_a.append(newEstimatedState.getEntry(0))\n",
    "        EKF_e.append(newEstimatedState.getEntry(1))\n",
    "        EKF_i.append(newEstimatedState.getEntry(2))\n",
    "        EKF_omega.append(newEstimatedState.getEntry(3))\n",
    "        EKF_raan.append(newEstimatedState.getEntry(4))\n",
    "        EKF_lv.append(newEstimatedState.getEntry(5))\n",
    "        \n",
    "        newCovMatrix.append(filter.getPhysicalEstimatedCovarianceMatrix())\n",
    "           \n",
    "        Elt1.append(newCovMatrix[-1].getEntry(1, 1))\n",
    "        Elt2.append(newCovMatrix[-1].getEntry(2, 2))\n",
    "        Elt3.append(newCovMatrix[-1].getEntry(3, 3))\n",
    "        Elt4.append(newCovMatrix[-1].getEntry(4, 4))\n",
    "        Elt5.append(newCovMatrix[-1].getEntry(5, 5))\n",
    "        Elt6.append(newCovMatrix[-1].getEntry(6, 6))\n",
    "        \n",
    "        #Kk.append(filter.getPhysicalKalmanGain())\n",
    "\n",
    "    except:\n",
    "        print('Problem iteration: ', j)\n",
    "        iFail += 1\n",
    "        if iFail >= FAIL_MAX:\n",
    "            break        \n",
    "        #print(ValueError)\n",
    "    #a = filter.getCurrentDate()\n",
    "    #print(a,newEstimatedState)\n",
    "\n",
    "#print(orekitAzEl.getDate())\n",
    "a = filter.getCurrentDate()\n",
    "print(a,newEstimatedState)\n"
   ]
  },
  {
   "cell_type": "code",
   "execution_count": 9,
   "metadata": {},
   "outputs": [
    {
     "data": {
      "image/png": "[encoded data removed]",
      "text/plain": [
       "<Figure size 432x288 with 1 Axes>"
      ]
     },
     "metadata": {
      "needs_background": "light"
     },
     "output_type": "display_data"
    },
    {
     "data": {
      "image/png": "[encoded data removed]",
      "text/plain": [
       "<Figure size 432x288 with 1 Axes>"
      ]
     },
     "metadata": {
      "needs_background": "light"
     },
     "output_type": "display_data"
    },
    {
     "data": {
      "image/png": "[encoded data removed]",
      "text/plain": [
       "<Figure size 432x288 with 1 Axes>"
      ]
     },
     "metadata": {
      "needs_background": "light"
     },
     "output_type": "display_data"
    },
    {
     "data": {
      "image/png": "[encoded data removed]",
      "text/plain": [
       "<Figure size 432x288 with 1 Axes>"
      ]
     },
     "metadata": {
      "needs_background": "light"
     },
     "output_type": "display_data"
    },
    {
     "data": {
      "image/png": "[encoded data removed]",
      "text/plain": [
       "<Figure size 432x288 with 1 Axes>"
      ]
     },
     "metadata": {
      "needs_background": "light"
     },
     "output_type": "display_data"
    },
    {
     "data": {
      "image/png": "[encoded data removed]",
      "text/plain": [
       "<Figure size 432x288 with 1 Axes>"
      ]
     },
     "metadata": {
      "needs_background": "light"
     },
     "output_type": "display_data"
    },
    {
     "data": {
      "text/plain": [
       "[<matplotlib.lines.Line2D at 0x7fd4fb328bb0>]"
      ]
     },
     "execution_count": 9,
     "metadata": {},
     "output_type": "execute_result"
    },
    {
     "data": {
      "image/png": "[encoded data removed]",
      "text/plain": [
       "<Figure size 432x288 with 6 Axes>"
      ]
     },
     "metadata": {
      "needs_background": "light"
     },
     "output_type": "display_data"
    }
   ],
   "source": [
    "import matplotlib.pyplot as plt\n",
    "plt.plot(EKF_a)\n",
    "plt.title('a')\n",
    "plt.show()\n",
    "plt.plot(EKF_e)\n",
    "plt.title('e')\n",
    "plt.show()\n",
    "plt.plot(EKF_i)\n",
    "plt.title('i')\n",
    "plt.show()\n",
    "plt.plot(EKF_omega)\n",
    "plt.title('omega')\n",
    "plt.show()\n",
    "plt.plot(EKF_raan)\n",
    "plt.title('raan')\n",
    "plt.show()\n",
    "plt.plot(EKF_lv)\n",
    "plt.title('true anomaly')\n",
    "plt.show()\n",
    "\n",
    "fig, axs = plt.subplots(6)\n",
    "fig.suptitle('Variances')\n",
    "axs[0].plot(Elt1[:])\n",
    "axs[1].plot(Elt2[:])\n",
    "axs[2].plot(Elt3[:])\n",
    "axs[3].plot(Elt4[:])\n",
    "axs[4].plot(Elt5[:])\n",
    "axs[5].plot(Elt6[:])"
   ]
  },
  {
   "cell_type": "code",
   "execution_count": 10,
   "metadata": {},
   "outputs": [
    {
     "ename": "SyntaxError",
     "evalue": "invalid syntax (<ipython-input-10-07d38ef0e709>, line 2)",
     "output_type": "error",
     "traceback": [
      "\u001b[0;36m  File \u001b[0;32m\"<ipython-input-10-07d38ef0e709>\"\u001b[0;36m, line \u001b[0;32m2\u001b[0m\n\u001b[0;31m    test = KalmanEstimation.\u001b[0m\n\u001b[0m                            ^\u001b[0m\n\u001b[0;31mSyntaxError\u001b[0m\u001b[0;31m:\u001b[0m invalid syntax\n"
     ]
    }
   ],
   "source": [
    "from org.orekit.estimation.sequential import KalmanEstimation\n",
    "test = KalmanEstimation."
   ]
  },
  {
   "cell_type": "code",
   "execution_count": null,
   "metadata": {},
   "outputs": [],
   "source": [
    "filter.getEstimatedMeasurementsParameters().filter(False)"
   ]
  },
  {
   "cell_type": "code",
   "execution_count": null,
   "metadata": {},
   "outputs": [],
   "source": [
    "newCovMatrix[-1]\n"
   ]
  },
  {
   "cell_type": "code",
   "execution_count": null,
   "metadata": {},
   "outputs": [],
   "source": [
    "filter_log = []\n",
    "rej_count = []\n",
    "class filt_step_observer(PythonKalmanObserver):\n",
    "    def evaluationPerformed(self, est):\n",
    "        kal_epoch = absolutedate_to_datetime(est.currentDate)\n",
    "        kal_meas_corr = list(est.getCorrectedMeasurement().getEstimatedValue())\n",
    "        obs_meas = list(est.getPredictedMeasurement().getObservedValue())\n",
    "\n",
    "        # Residuals\n",
    "        resids_corr = [kal-obs for kal, obs in zip(kal_meas_corr, obs_meas)]\n",
    "\n",
    "        # Kalman process Corrected Measurement Status\n",
    "        status = est.correctedMeasurement.getStatus().toString()\n",
    "\n",
    "        # Cd and Cr\n",
    "        coeff = {i.getName(): i.getValue() for i in est.getEstimatedPropagationParameters().getDrivers()}\n",
    "        est_cd = coeff['drag coefficient'] if any('drag' in s for s in list(coeff.keys())) else c_d\n",
    "        est_cr = coeff['reflection coefficient'] if any('reflection' in s for s in list(coeff.keys())) else c_r\n",
    "\n",
    "        # State Covariance\n",
    "        est_state_cov_mat = est.getPhysicalEstimatedCovarianceMatrix()\n",
    "        est_state_covar = [est_state_cov_mat.getEntry(x, x) for x in range(est_state_cov_mat.getRowDimension())]\n",
    "\n",
    "        # Create the Output Dict\n",
    "        output_dict = {'Epoch': kal_epoch, 'Status': status, 'Cd': est_cd, 'Cr': est_cr, 'State_Covariance': est_state_covar}\n",
    "\n",
    "        # Measurement Type\n",
    "        m_type = est.correctedMeasurement.observedMeasurement.getClass()\n",
    "        s_type = ['Val1', 'Val2', 'Val3', 'Val4', 'Val5', 'Val6']\n",
    "        if m_type in (Position.class_, PV.class_):\n",
    "            output_dict['Tracker'] = 'GPS'\n",
    "            output_dict['Meas_Type'] = 'NavSol'\n",
    "            sigma = tle_meas_white_noise_sigma\n",
    "        else:\n",
    "            trkr = list(est.correctedMeasurement.observedMeasurement.getParametersDrivers())[0]\n",
    "            output_dict['Tracker'] = trkr.toString().split('-offset')[0].upper()\n",
    "            if m_type == Range.class_:\n",
    "                output_dict['Meas_Type'] = 'Range'\n",
    "                sigma = range_white_noise_sigma\n",
    "            elif m_type == RangeRate.class_:\n",
    "                output_dict['Meas_Type'] = 'Doppler'\n",
    "                sigma = rangerate_white_noise_sigma\n",
    "            elif m_type == AngularAzEl.class_:\n",
    "                output_dict['Meas_Type'] = 'AzEl'\n",
    "                sigma = angles_white_noise_sigma\n",
    "\n",
    "        # Add Corrected residuals to output\n",
    "        for m_pairs in list(zip(s_type, resids_corr)):\n",
    "            output_dict[m_pairs[0] + '_corr'] = m_pairs[1]\n",
    "        for m_pairs in list(zip(s_type, resids_corr)):\n",
    "            output_dict[m_pairs[0] + '_ratios'] = m_pairs[1] / sigma\n",
    "\n",
    "        # Add to the log\n",
    "        filter_log.append(output_dict)\n",
    "\n",
    "        # Update the progressbar\n",
    "        pbar.update()\n",
    "\n",
    "        # Exit if filter is diverging\n",
    "        if status == 'REJECTED':\n",
    "            rej_count.append(status)\n",
    "            if len(rej_count) > filter_diverge_threshold:\n",
    "                print(f'\\n\\nFATAL ERROR: Filter has rejected {filter_diverge_threshold} measurements in a row - exiting\\n', flush=True)\n",
    "                raise ValueError\n",
    "        else:\n",
    "            rej_count.clear()"
   ]
  },
  {
   "cell_type": "code",
   "execution_count": null,
   "metadata": {},
   "outputs": [],
   "source": [
    "from org.hipparchus.linear import Array2DRowRealMatrix\n",
    "initialCov = Array2DRowRealMatrix(6,6)\n",
    "# From Orbdetpy, Settings.java\n",
    "#     public double[] estmCovariance = new double[]{25E6, 25E6, 25E6, 1E2, 1E2, 1E2, 1.00, 0.25, 1E-6, 1E-6, 1E-6};\n",
    "initData = [25e6, 25e6, 25e6, 1e2, 1e2, 1e2]\n",
    "for i in range(len(initData)):\n",
    "    InitialCov.addToEntry(i, i, initData[i])"
   ]
  },
  {
   "cell_type": "code",
   "execution_count": null,
   "metadata": {},
   "outputs": [],
   "source": [
    "initialOrbit\n",
    "initialCov\n",
    "mesurementsFrame"
   ]
  },
  {
   "cell_type": "code",
   "execution_count": null,
   "metadata": {},
   "outputs": [],
   "source": [
    "# R14\n",
    "def performEKF(mesurementsFrame, initialOrbit, initialCOV):\n",
    "    # Init lists to get the evolution of the filter\n",
    "    listPropagators = np.array([])\n",
    "    listOrbits = np.array([])\n",
    "    listStates = np.array([])\n",
    "    listCOVmatrixes = np.array([])\n",
    "\n",
    "    # Init process noise matrix\n",
    "    Q = MatrixUtils.createRealDiagonalMatrix([1e-0, 1e-0, 1e-0, 1e-0, 1e-0, 1e-0])\n",
    "\n",
    "    # Init Keplerian Propagator Builder\n",
    "    integratorBuilder = DormandPrince853IntegratorBuilder(PROP_MIN_STEP, PROP_MAX_STEP, PROP_POS_TOLERANCE)\n",
    "    kepPropagatorBuilder = NumericalPropagatorBuilder(CartesianOrbit(orbitEstimate), integratorBuilder, PositionAngle.MEAN, estimator_position_scale)\n",
    "\n",
    "    # Build the Kalman filter\n",
    "    kalman = KalmanEstimatorBuilder().addPropagationConfiguration(kepPropagatorBuilder,\n",
    "             ConstantProcessNoise(initialCOV, Q)).estimatedMeasurementsParameters(ParameterDriversList()).build()\n",
    "\n",
    "    # Process filtering\n",
    "    for date, meas in mesurements.iterrows():\n",
    "        kalman.estimationStep(meas['rangeMes'])\n",
    "        kalman.estimationStep(meas['rangeRateMes'])\n",
    "        newPropagator = kalman.estimationStep(meas['angularAzElMes'])[0]\n",
    "\n",
    "    newEstimatedOrbit = newPropagator.getInitialState().getOrbit()\n",
    "    newEstimatedState = kalman.getPhysicalEstimatedState()\n",
    "    newCovMatrix = kalman.getPhysicalEstimatedCovarianceMatrix()\n",
    "\n",
    "    listPropagators = np.append(listPropagators, newPropagator)\n",
    "    listOrbits = np.append(listOrbits, newEstimatedOrbit)\n",
    "    listStates = np.append(listStates, newEstimatedState)\n",
    "    listCovmatrixes = np.append(listCovmatrixes, kalman.getPhysicalEstimatedCovarianceMatrix())\n",
    "\n",
    "    return listPropagators, listOrbits, listStates, listCovmatrixes"
   ]
  },
  {
   "cell_type": "code",
   "execution_count": null,
   "metadata": {},
   "outputs": [],
   "source": []
  },
  {
   "cell_type": "code",
   "execution_count": null,
   "metadata": {},
   "outputs": [],
   "source": [
    "ovarianceMatricesProvider = UnivariateProcessNoise(cov, LOFType.TNW, angle, lofCartesianOrbitalParametersEvolution, propagationParametersEvolution);\n",
    "        "
   ]
  },
  {
   "cell_type": "code",
   "execution_count": null,
   "metadata": {},
   "outputs": [],
   "source": [
    "def RealMatrix getInitialCovariance():\n",
    "    {\n",
    "\tint states = parameters.size() + 6;\n",
    "\tRealMatrix cov = MatrixUtils.createRealIdentityMatrix(states);\n",
    "\tfor (int i = 0, k = 0; i < states; i++)\n",
    "\t{\n",
    "\t    if (2*estmCovariance.length == states*(states + 1))\n",
    "\t    {\n",
    "\t\t// Initialize with the given lower triangular entries\n",
    "\t\tfor (int j = 0; j <= i; j++, k++)\n",
    "\t\t{\n",
    "\t\t    cov.setEntry(i, j, estmCovariance[k]); \n",
    "\t\t    cov.setEntry(j, i, estmCovariance[k]); \n",
    "\t\t}\n",
    "\t    }\n",
    "\t    else\n",
    "\t    {\n",
    "\t\t// Initialize with the given diagonal entries\n",
    "\t\tif (i < estmCovariance.length)\n",
    "\t\t    cov.setEntry(i, i, estmCovariance[i]); \n",
    "\t    }\n",
    "\t}\n",
    "\treturn(cov);\n",
    "    }"
   ]
  },
  {
   "cell_type": "code",
   "execution_count": null,
   "metadata": {},
   "outputs": [],
   "source": []
  },
  {
   "cell_type": "code",
   "execution_count": null,
   "metadata": {},
   "outputs": [],
   "source": [
    "matrixDecomposer = QRDecomposer(1e-11)\n",
    "optimizer = GaussNewtonOptimizer(matrixDecomposer, False)\n",
    "\n",
    "\n",
    "estimator = BatchLSEstimator(optimizer, propagatorBuilder)\n",
    "estimator.setParametersConvergenceThreshold(estimator_convergence_thres)\n",
    "estimator.setMaxIterations(estimator_max_iterations)\n",
    "estimator.setMaxEvaluations(estimator_max_evaluations)"
   ]
  },
  {
   "cell_type": "code",
   "execution_count": null,
   "metadata": {},
   "outputs": [],
   "source": [
    "# Fetching range data\n",
    "\n",
    "#Open and collect data from csv\n",
    "file = pd.read_csv(\"export_all_NoPert.csv\")\n",
    "az = file['azimuth']\n",
    "el = file['elevation']\n",
    "datetime = file['pv']\n",
    "idx = datetime[0].find(',')\n",
    "\n",
    "errDeg = 0.001 #10*0.000277778 #1 arcsec\n",
    "# TBD\n",
    "azBaseWeight = 1.0\n",
    "elBaseWeight = 1.0\n",
    "\n",
    "# Load values\n",
    "# Ground station creation\n",
    "#frame = FramesFactory.getTOD(False)\n",
    "#frame = FramesFactory.getITRF(IERSConventions.IERS_2010, False)\n",
    "frame = FramesFactory.getTOD(IERSConventions.IERS_2010, False)\n",
    "\n",
    "earth = OneAxisEllipsoid(Constants.WGS84_EARTH_EQUATORIAL_RADIUS, \n",
    "                         Constants.WGS84_EARTH_FLATTENING, \n",
    "                         frame)\n",
    "longitude = radians(21.038)\n",
    "latitude  = radians(67.8790708)\n",
    "altitude  = 527.0\n",
    "station = GeodeticPoint(latitude, longitude, altitude)\n",
    "stationFrame = TopocentricFrame(earth, station, \"Kiruna\")\n",
    "\n",
    "\n",
    "ObsSat= ObservableSatellite(0) # From R5\n",
    "for j in range(0,100):\n",
    "    year = int(datetime[j][1:5])\n",
    "    month = int(datetime[j][6:8])\n",
    "    day = int(datetime[j][9:11])\n",
    "    hour = int(datetime[j][12:14])\n",
    "    minute = int(datetime[j][15:17])\n",
    "    second = int(datetime[j][18:20])\n",
    "    date = AbsoluteDate(year, Month.getMonth(month), day, hour, minute, 0.0, utc)#TimeScalesFactory.getUT1(IERSConventions.IERS_2010, False))\n",
    "    orekitAzEl = AngularAzEl(GroundStation(stationFrame),\n",
    "\t\t\t\t\t#datetime_to_absolutedate(datetime[j][1:idx]),\n",
    "                    date,\n",
    "\t\t\t\t\tJArray('double')([radians(az[j]),radians(el[j])]),\n",
    "                    JArray('double')([radians(errDeg),radians(errDeg)]),\n",
    "                    JArray('double')([azBaseWeight,elBaseWeight]),\n",
    "                    ObsSat)\n",
    "    estimator.addMeasurement(orekitAzEl)\n",
    "\n"
   ]
  },
  {
   "cell_type": "code",
   "execution_count": null,
   "metadata": {},
   "outputs": [],
   "source": [
    "# Orbit estimation\n",
    "estimatedPropagatorArray = estimator.estimate()"
   ]
  },
  {
   "cell_type": "code",
   "execution_count": null,
   "metadata": {},
   "outputs": [],
   "source": [
    "estimatedPropagator = estimatedPropagatorArray[0]\n",
    "estimatedInitialState = estimatedPropagator.getInitialState()\n",
    "actualOdDate = estimatedInitialState.getDate()\n",
    "estimatedOrbit_init = estimatedInitialState.getOrbit()"
   ]
  },
  {
   "cell_type": "code",
   "execution_count": null,
   "metadata": {},
   "outputs": [],
   "source": [
    "print(estimatedPropagator)\n",
    "print(estimatedInitialState)\n",
    "print(actualOdDate)\n",
    "print(estimatedOrbit_init)\n",
    "print(estimatedPropagator.getEventsDetectors())"
   ]
  },
  {
   "cell_type": "code",
   "execution_count": null,
   "metadata": {},
   "outputs": [],
   "source": [
    "# Run the filter\n",
    "print(f'\\nFilter starting at {meas.get(0).date.toString()}', flush=True)\n",
    "with tqdm(total=meas.size(), desc='Running the Filter') as pbar:\n",
    "    try:\n",
    "        final_state = filt.processMeasurements(meas)\n",
    "    except:\n",
    "        write_ephem = False\n",
    "        filter_out_path = False\n",
    "        predict_time = False\n",
    "        show_rejected = True"
   ]
  },
  {
   "cell_type": "code",
   "execution_count": null,
   "metadata": {},
   "outputs": [],
   "source": [
    "filter_log = []\n",
    "rej_count = []\n",
    "class filt_step_observer(PythonKalmanObserver):\n",
    "    def evaluationPerformed(self, est):\n",
    "        kal_epoch = absolutedate_to_datetime(est.currentDate)\n",
    "        kal_meas_corr = list(est.getCorrectedMeasurement().getEstimatedValue())\n",
    "        obs_meas = list(est.getPredictedMeasurement().getObservedValue())\n",
    "\n",
    "        # Residuals\n",
    "        resids_corr = [kal-obs for kal, obs in zip(kal_meas_corr, obs_meas)]\n",
    "\n",
    "        # Kalman process Corrected Measurement Status\n",
    "        status = est.correctedMeasurement.getStatus().toString()\n",
    "\n",
    "        # Cd and Cr\n",
    "        coeff = {i.getName(): i.getValue() for i in est.getEstimatedPropagationParameters().getDrivers()}\n",
    "        est_cd = coeff['drag coefficient'] if any('drag' in s for s in list(coeff.keys())) else c_d\n",
    "        est_cr = coeff['reflection coefficient'] if any('reflection' in s for s in list(coeff.keys())) else c_r\n",
    "\n",
    "        # State Covariance\n",
    "        est_state_cov_mat = est.getPhysicalEstimatedCovarianceMatrix()\n",
    "        est_state_covar = [est_state_cov_mat.getEntry(x, x) for x in range(est_state_cov_mat.getRowDimension())]\n",
    "\n",
    "        # Create the Output Dict\n",
    "        output_dict = {'Epoch': kal_epoch, 'Status': status, 'Cd': est_cd, 'Cr': est_cr, 'State_Covariance': est_state_covar}\n",
    "\n",
    "        # Measurement Type\n",
    "        m_type = est.correctedMeasurement.observedMeasurement.getClass()\n",
    "        s_type = ['Val1', 'Val2', 'Val3', 'Val4', 'Val5', 'Val6']\n",
    "        if m_type in (Position.class_, PV.class_):\n",
    "            output_dict['Tracker'] = 'GPS'\n",
    "            output_dict['Meas_Type'] = 'NavSol'\n",
    "            sigma = tle_meas_white_noise_sigma\n",
    "        else:\n",
    "            trkr = list(est.correctedMeasurement.observedMeasurement.getParametersDrivers())[0]\n",
    "            output_dict['Tracker'] = trkr.toString().split('-offset')[0].upper()\n",
    "            if m_type == Range.class_:\n",
    "                output_dict['Meas_Type'] = 'Range'\n",
    "                sigma = range_white_noise_sigma\n",
    "            elif m_type == RangeRate.class_:\n",
    "                output_dict['Meas_Type'] = 'Doppler'\n",
    "                sigma = rangerate_white_noise_sigma\n",
    "            elif m_type == AngularAzEl.class_:\n",
    "                output_dict['Meas_Type'] = 'AzEl'\n",
    "                sigma = angles_white_noise_sigma\n",
    "\n",
    "        # Add Corrected residuals to output\n",
    "        for m_pairs in list(zip(s_type, resids_corr)):\n",
    "            output_dict[m_pairs[0] + '_corr'] = m_pairs[1]\n",
    "        for m_pairs in list(zip(s_type, resids_corr)):\n",
    "            output_dict[m_pairs[0] + '_ratios'] = m_pairs[1] / sigma\n",
    "\n",
    "        # Add to the log\n",
    "        filter_log.append(output_dict)\n",
    "\n",
    "        # Update the progressbar\n",
    "        pbar.update()\n",
    "\n",
    "        # Exit if filter is diverging\n",
    "        if status == 'REJECTED':\n",
    "            rej_count.append(status)\n",
    "            if len(rej_count) > filter_diverge_threshold:\n",
    "                print(f'\\n\\nFATAL ERROR: Filter has rejected {filter_diverge_threshold} measurements in a row - exiting\\n', flush=True)\n",
    "                raise ValueError\n",
    "        else:\n",
    "            rej_count.clear()"
   ]
  },
  {
   "cell_type": "code",
   "execution_count": null,
   "metadata": {},
   "outputs": [],
   "source": []
  },
  {
   "cell_type": "code",
   "execution_count": null,
   "metadata": {},
   "outputs": [],
   "source": []
  },
  {
   "cell_type": "code",
   "execution_count": null,
   "metadata": {},
   "outputs": [],
   "source": []
  },
  {
   "cell_type": "code",
   "execution_count": null,
   "metadata": {},
   "outputs": [],
   "source": []
  },
  {
   "cell_type": "code",
   "execution_count": null,
   "metadata": {},
   "outputs": [],
   "source": []
  },
  {
   "cell_type": "code",
   "execution_count": null,
   "metadata": {},
   "outputs": [],
   "source": []
  },
  {
   "cell_type": "code",
   "execution_count": null,
   "metadata": {},
   "outputs": [],
   "source": []
  },
  {
   "cell_type": "code",
   "execution_count": null,
   "metadata": {},
   "outputs": [],
   "source": []
  },
  {
   "cell_type": "code",
   "execution_count": null,
   "metadata": {},
   "outputs": [],
   "source": []
  },
  {
   "cell_type": "code",
   "execution_count": null,
   "metadata": {},
   "outputs": [],
   "source": []
  },
  {
   "cell_type": "code",
   "execution_count": null,
   "metadata": {},
   "outputs": [],
   "source": []
  }
 ],
 "metadata": {
  "kernelspec": {
   "display_name": "Python 3",
   "language": "python",
   "name": "python3"
  },
  "language_info": {
   "codemirror_mode": {
    "name": "ipython",
    "version": 3
   },
   "file_extension": ".py",
   "mimetype": "text/x-python",
   "name": "python",
   "nbconvert_exporter": "python",
   "pygments_lexer": "ipython3",
   "version": "3.8.5"
  }
 },
 "nbformat": 4,
 "nbformat_minor": 4
}
