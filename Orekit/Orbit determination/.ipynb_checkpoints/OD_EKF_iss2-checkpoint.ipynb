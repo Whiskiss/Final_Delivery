{
 "cells": [
  {
   "cell_type": "code",
   "execution_count": 1,
   "metadata": {},
   "outputs": [],
   "source": [
    "# Orbit determination from AZ/EL observations\n",
    "# Perturbation:\n",
    "# N/A\n",
    "# Maneuver: \n",
    "# No\n",
    "\n",
    "# IOD\n",
    "# Given from propagation_issX\n",
    "\n",
    "# Obserbation:\n",
    "# AZ/EL\n",
    "# TOD / IERS_2010\n",
    "\n",
    "# Output:\n",
    "# Plot\n",
    "\n",
    "# Remark: Implementation of the Orbdetpy methods Estimation.java\n",
    "# Re-initialization of the filter at each iteration to control the covariance matrix"
   ]
  },
  {
   "cell_type": "code",
   "execution_count": 2,
   "metadata": {
    "jupyter": {
     "source_hidden": true
    },
    "tags": []
   },
   "outputs": [],
   "source": [
    "# Library dependencies\n",
    "%matplotlib inline\n",
    "\n",
    "\n",
    "from math import radians, pi, degrees\n",
    "import pandas as pd\n",
    "import numpy as np\n",
    "import plotly.express as px\n",
    "\n",
    "\n",
    "import orekit\n",
    "vm = orekit.initVM()\n",
    "\n",
    "from orekit.pyhelpers import setup_orekit_curdir, absolutedate_to_datetime\n",
    "setup_orekit_curdir()\n",
    "\n",
    "from org.orekit.orbits import KeplerianOrbit, PositionAngle\n",
    "from org.orekit.propagation.analytical import KeplerianPropagator\n",
    "from org.orekit.time import AbsoluteDate, TimeScalesFactory, TimeScale\n",
    "from org.orekit.utils import Constants\n",
    "from org.orekit.frames import FramesFactory, TopocentricFrame\n",
    "from org.orekit.bodies import OneAxisEllipsoid, GeodeticPoint\n",
    "from org.hipparchus.geometry.euclidean.threed import Vector3D\n",
    "from org.orekit.attitudes import LofOffset\n",
    "from org.orekit.bodies import CelestialBodyFactory, OneAxisEllipsoid\n",
    "from org.orekit.forces.drag import IsotropicDrag\n",
    "from org.orekit.forces.gravity.potential import GravityFieldFactory\n",
    "from org.orekit.forces.maneuvers import ImpulseManeuver\n",
    "from org.orekit.frames import FramesFactory, LOFType, EOPHistory\n",
    "from org.orekit.models.earth.atmosphere import HarrisPriester\n",
    "from org.orekit.orbits import CircularOrbit, OrbitType, PositionAngle\n",
    "from org.orekit.propagation import PropagationType, SpacecraftState\n",
    "from org.orekit.propagation.events import DateDetector, EventEnablingPredicateFilter, PythonEnablingPredicate,\\\n",
    "     PositionAngleDetector, PythonEventDetector, AbstractDetector, EventDetector\n",
    "from org.orekit.propagation.conversion import DormandPrince853IntegratorBuilder, DSSTPropagatorBuilder, \\\n",
    "     ClassicalRungeKuttaIntegratorBuilder, EulerIntegratorBuilder\n",
    "from org.orekit.propagation.semianalytical.dsst.forces import DSSTAtmosphericDrag, DSSTNewtonianAttraction, DSSTZonal\n",
    "from org.orekit.time import AbsoluteDate, TimeScalesFactory\n",
    "from org.orekit.utils import Constants, IERSConventions, PVCoordinatesProvider\n",
    "from orekit.pyhelpers import absolutedate_to_datetime\n",
    "from org.hipparchus.linear import RealMatrix\n",
    "from org.hipparchus.linear import QRDecomposer, AbstractRealMatrix\n",
    "from org.hipparchus.optim.nonlinear.vector.leastsquares import GaussNewtonOptimizer\n",
    "from org.orekit.estimation.leastsquares import BatchLSEstimator\n",
    "from org.orekit.propagation.numerical import NumericalPropagator\n",
    "from org.orekit.propagation.conversion import AbstractPropagatorBuilder, PropagatorBuilder\n",
    "\n",
    "from org.orekit.estimation.measurements import AngularAzEl\n",
    "from org.orekit.estimation.measurements import ObservableSatellite\n",
    "from org.orekit.estimation.measurements import GroundStation\n",
    "from org.orekit.estimation.sequential import KalmanEstimatorBuilder\n",
    "from org.orekit.estimation.sequential import KalmanEstimator\n",
    "from org.orekit.estimation.sequential import KalmanEstimation,AbstractCovarianceMatrixProvider\n",
    "from org.orekit.estimation.measurements import *\n",
    "from org.orekit.estimation.iod import IodGooding, IodLaplace\n",
    "\n",
    "from orekit.pyhelpers import absolutedate_to_datetime, datetime_to_absolutedate, JArray_double2D\n",
    "from collections import namedtuple\n",
    "from org.orekit.time import Month\n",
    "from orekit import JArray\n",
    "\n",
    "from org.orekit.estimation.sequential import KalmanEstimator, KalmanEstimatorBuilder, CovarianceMatrixProvider, ConstantProcessNoise\n",
    "from org.orekit.orbits import Orbit\n",
    "from org.hipparchus.linear import MatrixUtils\n",
    "\n",
    "from org.orekit.propagation.conversion import DormandPrince853IntegratorBuilder\n",
    "from org.orekit.propagation.conversion import NumericalPropagatorBuilder\n",
    "from org.orekit.orbits import PositionAngle\n",
    "\n",
    "from org.orekit.forces.gravity.potential import GravityFieldFactory\n",
    "from org.orekit.forces.gravity import HolmesFeatherstoneAttractionModel\n",
    "\n",
    "from org.orekit.utils import ParameterDriver\n",
    "\n",
    "from org.hipparchus.linear import Array2DRowRealMatrix  \n",
    "from org.orekit.estimation.sequential import KalmanEstimatorBuilder, KalmanEstimation\n",
    "from org.orekit.orbits import CartesianOrbit, Orbit\n",
    "from org.orekit.utils import TimeStampedPVCoordinates"
   ]
  },
  {
   "cell_type": "code",
   "execution_count": 3,
   "metadata": {
    "tags": []
   },
   "outputs": [],
   "source": [
    "# Functions declaration\n",
    "\n",
    "# Creation of the initial covariance matrix\n",
    "def initCov(initialCov, initData, matSize):\n",
    "    for i in range(0,matSize):\n",
    "        initialCov.setEntry(i, i, 1.0);\n",
    "        for j in range(0,i):\n",
    "            initialCov.setEntry(i, j, initData[j]);\n",
    "            initialCov.setEntry(j, i, initData[j]);\n",
    "            #print(initData[j])\n",
    "    return initialCov\n",
    "\n",
    "def initCovLower2(initialCov, initData, matSize):\n",
    "    for i in range(0,matSize):\n",
    "        initialCov.setEntry(i, i, initData[i]);\n",
    "        for j in range(0,i):\n",
    "            initialCov.setEntry(i, j, initData[j]);\n",
    "            initialCov.setEntry(j, i, initData[j]);\n",
    "            #print(initData[j])\n",
    "    return initialCov\n",
    "\n",
    "def initCov2(initialCov, initData, matSize):\n",
    "    for i in range(0,matSize):\n",
    "        initialCov.setEntry(i, i, initData[i]);\n",
    "        for j in range(0,matSize):\n",
    "            initialCov.setEntry(i, j, initData[j]);\n",
    "            #initialCov.setEntry(j, i, initData[j]);\n",
    "            #print(initData[j])\n",
    "    return initialCov\n",
    "\n",
    "# get measurement epoch\n",
    "def getAzElDate(datetime, ref):\n",
    "    year = int(datetime[1:5])\n",
    "    month = int(datetime[6:8])\n",
    "    day = int(datetime[9:11])\n",
    "    hour = int(datetime[12:14])\n",
    "    minute = int(datetime[15:17])\n",
    "    second = int(datetime[18:20])\n",
    "    return AbsoluteDate(year, Month.getMonth(month), day, hour, minute, 0.0, ref)\n",
    "\n",
    "def forceModel(initialOrbit,degree,order):\n",
    "    # Orbit propagator parameters\n",
    "    prop_min_step = 60.0 # s\n",
    "    prop_max_step = 300.0 # s\n",
    "    prop_position_error = 100.0 # m\n",
    "\n",
    "    # Estimator parameters\n",
    "    estimator_position_scale = 1.0 # m\n",
    "    estimator_convergence_thres = 1e-3\n",
    "    estimator_max_iterations = 25\n",
    "    estimator_max_evaluations = 35\n",
    "\n",
    "    integratorBuilder = DormandPrince853IntegratorBuilder(prop_min_step, prop_max_step, prop_position_error)\n",
    "    kepPropagatorBuilder = NumericalPropagatorBuilder(initialOrbit,\n",
    "                                                       integratorBuilder,\n",
    "                                                       PositionAngle.MEAN,\n",
    "                                                       estimator_position_scale)\n",
    "\n",
    "    \n",
    "    gravityProvider = GravityFieldFactory.getNormalizedProvider(degree,order)\n",
    "    gravityAttractionModel = HolmesFeatherstoneAttractionModel(inertialFrame, gravityProvider)\n",
    "    kepPropagatorBuilder.addForceModel(gravityAttractionModel)   \n",
    "\n",
    "    return kepPropagatorBuilder\n",
    "\n",
    "def generateEKF(a,e,i,omega,raan,lv,initialDate,covMat):\n",
    "    initialOrbit = KeplerianOrbit(a, e, i, omega, raan, lv,\n",
    "                                  PositionAngle.TRUE,\n",
    "                                  inertialFrame, initialDate, Constants.WGS84_EARTH_MU)\n",
    "\n",
    "    kepPropagatorBuilder = forceModel(initialOrbit,1,1)      \n",
    "    \n",
    "    plst = kepPropagatorBuilder.getPropagationParametersDrivers()\n",
    "\n",
    "    dragCoefficient = ParameterDriver('Cd', 2.0, 1.0, 1.0, 3.0)\n",
    "    dragCoefficient.setSelected(True)\n",
    "    plst.add(dragCoefficient)\n",
    "\n",
    "    rpCoeffReflection = ParameterDriver('Cr', 1.5, 1.0, 1.0, 2.0)\n",
    "    rpCoeffReflection.setSelected(True)\n",
    "    plst.add(rpCoeffReflection)\n",
    "\n",
    "    estmDMCAcceleration = ParameterDriver('DMC', 0.1, 1.0, -1.0e-2, -1.0e-2)\n",
    "    estmDMCAcceleration.setSelected(True)\n",
    "    plst.add(estmDMCAcceleration)\n",
    "    \n",
    "    # Initial covariance matrix generation\n",
    "    matSize = 9\n",
    "    initialCov = covMat\n",
    "\n",
    "    processNoise = ConstantProcessNoise(initialCov, Q)\n",
    "    kalman = KalmanEstimatorBuilder().addPropagationConfiguration(kepPropagatorBuilder, processNoise) # KalmanEstimatorBuilder\n",
    "    filter = kalman.build() # KalmanEstimator\n",
    "    ObsSat= ObservableSatellite(0) # From R5\n",
    "    \n",
    "    return filter"
   ]
  },
  {
   "cell_type": "code",
   "execution_count": 4,
   "metadata": {
    "tags": []
   },
   "outputs": [],
   "source": [
    "# dataset file name to process\n",
    "strFile = \"export_all_NoPert_Man.csv\""
   ]
  },
  {
   "cell_type": "code",
   "execution_count": 4,
   "metadata": {
    "tags": []
   },
   "outputs": [],
   "source": [
    "# Initial state, date and space object information provision (Given by ADS)\n",
    "a = 7000000.0  \n",
    "e = 0.20\n",
    "i = radians(68.0)     \n",
    "omega = radians(280.0)   # perigee argument\n",
    "raan = radians(0.0)  # right ascension of ascending node\n",
    "lv = radians(3.0)#0.1)    # True anomaly\n",
    "\n",
    "mass = 625.0\n",
    "\n",
    "utc = TimeScalesFactory.getUTC()\n",
    "initialDate = AbsoluteDate(2020, 1, 1, 0, 0, 00.000, utc)"
   ]
  },
  {
   "cell_type": "code",
   "execution_count": 5,
   "metadata": {},
   "outputs": [],
   "source": [
    "# Simulation configuration\n",
    "## Definition of the reference frame\n",
    "inertialFrame =  FramesFactory.getTOD(IERSConventions.IERS_2010, False)\n",
    "\n",
    "## Definition of the initial orbit structure: Keplerian\n",
    "initialOrbit = KeplerianOrbit(a, e, i, omega, raan, lv,\n",
    "                              PositionAngle.TRUE,\n",
    "                              inertialFrame, initialDate, Constants.WGS84_EARTH_MU)\n",
    "\n",
    "kepPropagatorBuilder = forceModel(initialOrbit,1,1)\n"
   ]
  },
  {
   "cell_type": "code",
   "execution_count": 6,
   "metadata": {},
   "outputs": [],
   "source": [
    "# Configuration of the parameter drivers\n",
    "plst = kepPropagatorBuilder.getPropagationParametersDrivers()\n",
    "\n",
    "dragCoefficient = ParameterDriver('Cd', 2.0, 1.0, 1.0, 3.0)\n",
    "dragCoefficient.setSelected(True)\n",
    "plst.add(dragCoefficient)\n",
    "\n",
    "rpCoeffReflection = ParameterDriver('Cr', 1.5, 1.0, 1.0, 2.0)\n",
    "rpCoeffReflection.setSelected(True)\n",
    "plst.add(rpCoeffReflection)\n",
    "\n",
    "estmDMCAcceleration = ParameterDriver('DMC', 0.001, 1.0, -1.0e-2, 1.0e-2)\n",
    "estmDMCAcceleration.setSelected(True)\n",
    "plst.add(estmDMCAcceleration)"
   ]
  },
  {
   "cell_type": "code",
   "execution_count": 7,
   "metadata": {},
   "outputs": [],
   "source": [
    "# Ground station configuration\n",
    "errDeg = 0.001 \n",
    "azBaseWeight = 1.0\n",
    "elBaseWeight = 1.0\n",
    "\n",
    "frame = FramesFactory.getTOD(IERSConventions.IERS_2010, False)\n",
    "earth = OneAxisEllipsoid(Constants.WGS84_EARTH_EQUATORIAL_RADIUS, \n",
    "                         Constants.WGS84_EARTH_FLATTENING, \n",
    "                         frame)\n",
    "\n",
    "longitude = radians(21.038)\n",
    "latitude  = radians(67.8790708)\n",
    "altitude  = 527.0\n",
    "station = GeodeticPoint(latitude, longitude, altitude)\n",
    "stationFrame = TopocentricFrame(earth, station, \"Kiruna\")"
   ]
  },
  {
   "cell_type": "code",
   "execution_count": 8,
   "metadata": {},
   "outputs": [],
   "source": [
    "# Initial covariance matrix generation\n",
    "matSize = 9\n",
    "Q = MatrixUtils.createRealDiagonalMatrix([1e-12, 1e-12, 1e-12, 1e-12, 1e-12, 1e-12, 10.0, 10.0, 10.0])\n",
    "\n",
    "initialCov = Array2DRowRealMatrix(matSize,matSize)\n",
    "initData = [1e6, 0.0001, 0.0001, 0.0001, 0.0001, 0.0001, 1.00, 0.25, 1e-1, 1e-1,1e-1]\n",
    "\n",
    "initialCov = initCovLower2(initialCov, initData, matSize)"
   ]
  },
  {
   "cell_type": "code",
   "execution_count": 9,
   "metadata": {},
   "outputs": [],
   "source": [
    "# Extended Kalman Filter definition\n",
    "processNoise = ConstantProcessNoise(initialCov, Q)\n",
    "kalman = KalmanEstimatorBuilder().addPropagationConfiguration(kepPropagatorBuilder, processNoise) # KalmanEstimatorBuilder\n",
    "filter = kalman.build() # KalmanEstimator\n",
    "ObsSat= ObservableSatellite(0) # From R5"
   ]
  },
  {
   "cell_type": "code",
   "execution_count": 10,
   "metadata": {
    "tags": []
   },
   "outputs": [],
   "source": [
    "# Data file loading\n",
    "#Open and collect data from csv\n",
    "file = pd.read_csv(\"export_all_NoPert.csv\")\n",
    "az = file['azimuth']\n",
    "el = file['elevation']\n",
    "datetime = file['pv']\n",
    "idx = datetime[0].find(',')"
   ]
  },
  {
   "cell_type": "code",
   "execution_count": 11,
   "metadata": {
    "tags": []
   },
   "outputs": [],
   "source": [
    "# EKF variables initialization\n",
    "EKF_a = []  \n",
    "EKF_e = [] \n",
    "EKF_i = []     \n",
    "EKF_omega = []  \n",
    "EKF_raan = []  \n",
    "EKF_lv = [] \n",
    "newCovMatrix = []\n",
    "\n",
    "Elt1 = []\n",
    "Elt2 = []\n",
    "Elt3 = []\n",
    "Elt4 = []\n",
    "Elt5 = []\n",
    "Elt6 = []\n",
    "\n",
    "Kk = []\n",
    "\n",
    "iFail = 0\n",
    "FAIL_MAX = 50"
   ]
  },
  {
   "cell_type": "code",
   "execution_count": 12,
   "metadata": {
    "tags": []
   },
   "outputs": [
    {
     "name": "stdout",
     "output_type": "stream",
     "text": [
      "Problem iteration:  57\n",
      "Problem iteration:  58\n",
      "Problem iteration:  59\n",
      "Problem iteration:  60\n",
      "Problem iteration:  61\n",
      "Problem iteration:  62\n",
      "Problem iteration:  63\n",
      "Problem iteration:  64\n",
      "Problem iteration:  65\n",
      "Problem iteration:  66\n",
      "Problem iteration:  68\n",
      "Problem iteration:  69\n",
      "Problem iteration:  70\n",
      "Problem iteration:  71\n",
      "Problem iteration:  72\n",
      "Problem iteration:  73\n",
      "Problem iteration:  74\n",
      "Problem iteration:  75\n",
      "Problem iteration:  76\n",
      "Problem iteration:  77\n",
      "Problem iteration:  78\n",
      "Problem iteration:  79\n",
      "Problem iteration:  80\n",
      "Problem iteration:  81\n",
      "Problem iteration:  82\n",
      "Problem iteration:  83\n",
      "Problem iteration:  84\n",
      "Problem iteration:  85\n",
      "Problem iteration:  86\n",
      "Problem iteration:  87\n",
      "Problem iteration:  88\n",
      "Problem iteration:  89\n",
      "Problem iteration:  90\n",
      "Problem iteration:  91\n",
      "Problem iteration:  92\n",
      "Problem iteration:  93\n",
      "Problem iteration:  94\n",
      "Problem iteration:  95\n",
      "Problem iteration:  97\n",
      "Problem iteration:  98\n",
      "Problem iteration:  99\n",
      "Problem iteration:  100\n",
      "Problem iteration:  101\n",
      "Problem iteration:  102\n",
      "Problem iteration:  103\n",
      "Problem iteration:  104\n",
      "Problem iteration:  105\n",
      "Problem iteration:  106\n",
      "Problem iteration:  107\n",
      "Problem iteration:  108\n",
      "2020-01-01T01:49:00.000 {1,979,015.108005518; 0.0002316723; 0.2528520644; 4.9637115409; 0.5246088494; 6.5774883492; 2.0000079425; 1.5000079425; -0.01}\n"
     ]
    }
   ],
   "source": [
    "# EKF data processing\n",
    "for j in range(0,min(9999,len(az))):\n",
    "    if not j==0:\n",
    "        filter = generateEKF( EKF_a[-1],\n",
    "                             EKF_e[-1],\n",
    "                             EKF_i[-1],\n",
    "                             EKF_omega[-1],\n",
    "                             EKF_raan[-1],\n",
    "                             EKF_lv[-1],\n",
    "                             date,newCovMatrix[-1])\n",
    "        \n",
    "        \n",
    "    date = getAzElDate(datetime[j], utc)\n",
    "    orekitAzEl = AngularAzEl(GroundStation(stationFrame),\n",
    "                    date,\n",
    "\t\t\t\t\tJArray('double')([radians(az[j]),radians(el[j])]),\n",
    "                    JArray('double')([radians(errDeg),radians(errDeg)]),\n",
    "                    JArray('double')([azBaseWeight,elBaseWeight]),\n",
    "                    ObsSat)\n",
    "    try:\n",
    "        filter.estimationStep(orekitAzEl)\n",
    "        \n",
    "        newEstimatedState = filter.getPhysicalEstimatedState()\n",
    "\n",
    "        EKF_a.append(newEstimatedState.getEntry(0))\n",
    "        EKF_e.append(newEstimatedState.getEntry(1))\n",
    "        EKF_i.append(newEstimatedState.getEntry(2))\n",
    "        EKF_omega.append(newEstimatedState.getEntry(3))\n",
    "        EKF_raan.append(newEstimatedState.getEntry(4))\n",
    "        EKF_lv.append(newEstimatedState.getEntry(5))\n",
    "        \n",
    "        newCovMatrix.append(filter.getPhysicalEstimatedCovarianceMatrix())\n",
    "           \n",
    "        Elt1.append(newCovMatrix[-1].getEntry(1, 1))\n",
    "        Elt2.append(newCovMatrix[-1].getEntry(2, 2))\n",
    "        Elt3.append(newCovMatrix[-1].getEntry(3, 3))\n",
    "        Elt4.append(newCovMatrix[-1].getEntry(4, 4))\n",
    "        Elt5.append(newCovMatrix[-1].getEntry(5, 5))\n",
    "        Elt6.append(newCovMatrix[-1].getEntry(6, 6))\n",
    "\n",
    "    except:\n",
    "        print('Problem iteration: ', j)\n",
    "        iFail += 1\n",
    "        # Computation fail limiter\n",
    "        if iFail >= FAIL_MAX:\n",
    "            break        \n",
    "\n",
    "a = filter.getCurrentDate()\n",
    "print(a,newEstimatedState)"
   ]
  },
  {
   "cell_type": "code",
   "execution_count": 13,
   "metadata": {},
   "outputs": [
    {
     "data": {
      "image/png": "[encoded data removed]",
      "text/plain": [
       "<Figure size 432x288 with 1 Axes>"
      ]
     },
     "metadata": {
      "needs_background": "light"
     },
     "output_type": "display_data"
    },
    {
     "data": {
      "image/png": "[encoded data removed]",
      "text/plain": [
       "<Figure size 432x288 with 1 Axes>"
      ]
     },
     "metadata": {
      "needs_background": "light"
     },
     "output_type": "display_data"
    },
    {
     "data": {
      "image/png": "[encoded data removed]",
      "text/plain": [
       "<Figure size 432x288 with 1 Axes>"
      ]
     },
     "metadata": {
      "needs_background": "light"
     },
     "output_type": "display_data"
    },
    {
     "data": {
      "image/png": "[encoded data removed]",
      "text/plain": [
       "<Figure size 432x288 with 1 Axes>"
      ]
     },
     "metadata": {
      "needs_background": "light"
     },
     "output_type": "display_data"
    },
    {
     "data": {
      "image/png": "[encoded data removed]",
      "text/plain": [
       "<Figure size 432x288 with 1 Axes>"
      ]
     },
     "metadata": {
      "needs_background": "light"
     },
     "output_type": "display_data"
    },
    {
     "data": {
      "image/png": "[encoded data removed]",
      "text/plain": [
       "<Figure size 432x288 with 1 Axes>"
      ]
     },
     "metadata": {
      "needs_background": "light"
     },
     "output_type": "display_data"
    },
    {
     "data": {
      "text/plain": [
       "[<matplotlib.lines.Line2D at 0x7f071f80e4f0>]"
      ]
     },
     "execution_count": 13,
     "metadata": {},
     "output_type": "execute_result"
    },
    {
     "data": {
      "image/png": "[encoded data removed]",
      "text/plain": [
       "<Figure size 432x288 with 6 Axes>"
      ]
     },
     "metadata": {
      "needs_background": "light"
     },
     "output_type": "display_data"
    }
   ],
   "source": [
    "# Plot\n",
    "import matplotlib.pyplot as plt\n",
    "plt.plot(EKF_a)\n",
    "plt.title('a')\n",
    "plt.show()\n",
    "plt.plot(EKF_e)\n",
    "plt.title('e')\n",
    "plt.show()\n",
    "plt.plot(EKF_i)\n",
    "plt.title('i')\n",
    "plt.show()\n",
    "plt.plot(EKF_omega)\n",
    "plt.title('omega')\n",
    "plt.show()\n",
    "plt.plot(EKF_raan)\n",
    "plt.title('raan')\n",
    "plt.show()\n",
    "plt.plot(EKF_lv)\n",
    "plt.title('true anomaly')\n",
    "plt.show()\n",
    "\n",
    "fig, axs = plt.subplots(6)\n",
    "fig.suptitle('Variances')\n",
    "axs[0].plot(Elt1[:])\n",
    "axs[1].plot(Elt2[:])\n",
    "axs[2].plot(Elt3[:])\n",
    "axs[3].plot(Elt4[:])\n",
    "axs[4].plot(Elt5[:])\n",
    "axs[5].plot(Elt6[:])"
   ]
  },
  {
   "cell_type": "code",
   "execution_count": 14,
   "metadata": {},
   "outputs": [],
   "source": [
    "# Unused\n",
    "\n",
    "# R14\n",
    "def performEKF(mesurementsFrame, initialOrbit, initialCOV):\n",
    "    # Init lists to get the evolution of the filter\n",
    "    listPropagators = np.array([])\n",
    "    listOrbits = np.array([])\n",
    "    listStates = np.array([])\n",
    "    listCOVmatrixes = np.array([])\n",
    "\n",
    "    # Init process noise matrix\n",
    "    Q = MatrixUtils.createRealDiagonalMatrix([1e-0, 1e-0, 1e-0, 1e-0, 1e-0, 1e-0])\n",
    "\n",
    "    # Init Keplerian Propagator Builder\n",
    "    integratorBuilder = DormandPrince853IntegratorBuilder(PROP_MIN_STEP, PROP_MAX_STEP, PROP_POS_TOLERANCE)\n",
    "    kepPropagatorBuilder = NumericalPropagatorBuilder(CartesianOrbit(orbitEstimate), integratorBuilder, PositionAngle.MEAN, estimator_position_scale)\n",
    "\n",
    "    # Build the Kalman filter\n",
    "    kalman = KalmanEstimatorBuilder().addPropagationConfiguration(kepPropagatorBuilder,\n",
    "             ConstantProcessNoise(initialCOV, Q)).estimatedMeasurementsParameters(ParameterDriversList()).build()\n",
    "\n",
    "    # Process filtering\n",
    "    for date, meas in mesurements.iterrows():\n",
    "        kalman.estimationStep(meas['rangeMes'])\n",
    "        kalman.estimationStep(meas['rangeRateMes'])\n",
    "        newPropagator = kalman.estimationStep(meas['angularAzElMes'])[0]\n",
    "\n",
    "    newEstimatedOrbit = newPropagator.getInitialState().getOrbit()\n",
    "    newEstimatedState = kalman.getPhysicalEstimatedState()\n",
    "    newCovMatrix = kalman.getPhysicalEstimatedCovarianceMatrix()\n",
    "\n",
    "    listPropagators = np.append(listPropagators, newPropagator)\n",
    "    listOrbits = np.append(listOrbits, newEstimatedOrbit)\n",
    "    listStates = np.append(listStates, newEstimatedState)\n",
    "    listCovmatrixes = np.append(listCovmatrixes, kalman.getPhysicalEstimatedCovarianceMatrix())\n",
    "\n",
    "    return listPropagators, listOrbits, listStates, listCovmatrixes"
   ]
  },
  {
   "cell_type": "code",
   "execution_count": null,
   "metadata": {},
   "outputs": [],
   "source": []
  }
 ],
 "metadata": {
  "kernelspec": {
   "display_name": "Python 3",
   "language": "python",
   "name": "python3"
  },
  "language_info": {
   "codemirror_mode": {
    "name": "ipython",
    "version": 3
   },
   "file_extension": ".py",
   "mimetype": "text/x-python",
   "name": "python",
   "nbconvert_exporter": "python",
   "pygments_lexer": "ipython3",
   "version": "3.8.5"
  }
 },
 "nbformat": 4,
 "nbformat_minor": 4
}
