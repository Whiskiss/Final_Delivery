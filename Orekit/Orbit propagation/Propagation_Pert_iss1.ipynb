{
 "cells": [
  {
   "cell_type": "code",
   "execution_count": 1,
   "metadata": {},
   "outputs": [],
   "source": [
    "# Propagation from initial Keplerian orbit\n",
    "# Perturbation:\n",
    "# Drag\n",
    "# Atmosphere \n",
    "# Elliptic Earth\n",
    "\n",
    "# Maneuver: \n",
    "# No\n",
    "\n",
    "\n",
    "# Obserbation:\n",
    "# AZ/EL\n",
    "# EME2000\n",
    "\n",
    "# Output:\n",
    "# pvs_kep.cvs\n",
    "# export_all.csv\n",
    "# export_visible.csv\n",
    "\n",
    "# Remark: /!\\  Error on addition of the atmospheric drag  /!\\ "
   ]
  },
  {
   "cell_type": "code",
   "execution_count": 2,
   "metadata": {
    "tags": []
   },
   "outputs": [],
   "source": [
    "# Library dependencies\n",
    "%matplotlib inline\n",
    "\n",
    "from math import radians, pi\n",
    "import pandas as pd\n",
    "import numpy as np\n",
    "import plotly.express as px\n",
    "\n",
    "\n",
    "import orekit\n",
    "vm = orekit.initVM()\n",
    "\n",
    "from orekit.pyhelpers import setup_orekit_curdir, absolutedate_to_datetime\n",
    "setup_orekit_curdir()\n",
    "\n",
    "\n",
    "from org.orekit.orbits import KeplerianOrbit, PositionAngle\n",
    "from org.orekit.propagation.analytical import KeplerianPropagator\n",
    "from org.orekit.time import AbsoluteDate, TimeScalesFactory\n",
    "from org.orekit.utils import Constants\n",
    "from org.orekit.frames import FramesFactory, TopocentricFrame\n",
    "from org.orekit.bodies import OneAxisEllipsoid, GeodeticPoint\n",
    "from org.hipparchus.geometry.euclidean.threed import Vector3D\n",
    "from org.orekit.attitudes import LofOffset\n",
    "from org.orekit.bodies import CelestialBodyFactory, OneAxisEllipsoid\n",
    "from org.orekit.forces.drag import IsotropicDrag\n",
    "from org.orekit.forces.gravity.potential import GravityFieldFactory\n",
    "from org.orekit.forces.maneuvers import ImpulseManeuver\n",
    "from org.orekit.frames import FramesFactory, LOFType\n",
    "from org.orekit.models.earth.atmosphere import HarrisPriester\n",
    "from org.orekit.orbits import CircularOrbit, OrbitType, PositionAngle\n",
    "from org.orekit.propagation import PropagationType, SpacecraftState\n",
    "from org.orekit.propagation.events import DateDetector, EventEnablingPredicateFilter, PythonEnablingPredicate,\\\n",
    "     PositionAngleDetector, PythonEventDetector, AbstractDetector, EventDetector\n",
    "from org.orekit.propagation.conversion import DormandPrince853IntegratorBuilder, DSSTPropagatorBuilder\n",
    "from org.orekit.propagation.semianalytical.dsst.forces import DSSTAtmosphericDrag, DSSTNewtonianAttraction, DSSTZonal\n",
    "from org.orekit.time import AbsoluteDate, TimeScalesFactory\n",
    "from org.orekit.utils import Constants, IERSConventions, PVCoordinatesProvider\n",
    "from orekit.pyhelpers import absolutedate_to_datetime\n",
    "\n",
    "from org.orekit.propagation.numerical import NumericalPropagator\n"
   ]
  },
  {
   "cell_type": "code",
   "execution_count": 3,
   "metadata": {},
   "outputs": [],
   "source": [
    "# Initial state, date and space object information provision (Given by ADS)\n",
    "a = 7000.0 * 1000  \n",
    "e = 0.2\n",
    "i = radians(68.0) #98.0)     \n",
    "omega = radians(280) #0.2)   # perigee argument\n",
    "raan = radians(0) #90.0)  # right ascension of ascending node\n",
    "lv = radians(0.1)    # True anomaly\n",
    "\n",
    "mass = 625.0\n",
    "cross_section_drag = 20. \n",
    "drag_coeff = 1.\n",
    "\n",
    "utc = TimeScalesFactory.getUTC()\n",
    "epochDate = AbsoluteDate(2020, 1, 1, 0, 0, 00.000, utc)"
   ]
  },
  {
   "cell_type": "code",
   "execution_count": 4,
   "metadata": {},
   "outputs": [],
   "source": [
    "# Propagator configuration\n",
    "initialDate = epochDate\n",
    "\n",
    "## Definition of the reference frame\n",
    "inertialFrame =  FramesFactory.getTOD(IERSConventions.IERS_2010, False)\n",
    "## Definition of the Earth for the force model\n",
    "earth = OneAxisEllipsoid(Constants.WGS84_EARTH_EQUATORIAL_RADIUS, \n",
    "                         Constants.WGS84_EARTH_FLATTENING, \n",
    "                         inertialFrame)\n",
    "\n",
    "## Definition of the initial orbit structure: Keplerian\n",
    "initialOrbit = KeplerianOrbit(a, e, i, omega, raan, lv,\n",
    "                              PositionAngle.TRUE,\n",
    "                              inertialFrame, epochDate, Constants.WGS84_EARTH_MU)\n",
    "\n",
    "# Perturbations\n",
    "# Atmospheric Drag\n",
    "#frame = FramesFactory.getITRF(IERSConventions.IERS_2010, False)\n",
    "#earth = OneAxisEllipsoid(Constants.WGS84_EARTH_EQUATORIAL_RADIUS, Constants.WGS84_EARTH_FLATTENING, frame)\n",
    "atmosphere = HarrisPriester(CelestialBodyFactory.getSun(), earth)\n",
    "drag_sensitive = IsotropicDrag(cross_section_drag, drag_coeff)\n",
    "drag_force = DSSTAtmosphericDrag(atmosphere, drag_sensitive, Constants.WGS84_EARTH_MU)\n",
    "\n",
    "# central body attraction\n",
    "central_body = DSSTNewtonianAttraction(Constants.WGS84_EARTH_MU)\n",
    "\n",
    "# J2 perturbation\n",
    "zonal_central_body = DSSTZonal(GravityFieldFactory.getUnnormalizedProvider(6, 6))\n",
    "\n",
    "def propagator_reference(initial_orbit, mass):\n",
    "    builder = DSSTPropagatorBuilder(initial_orbit,\n",
    "                                    DormandPrince853IntegratorBuilder(600.0, 86400.0, 100.0),\n",
    "                                    1.0, PropagationType.MEAN, PropagationType.MEAN)\n",
    "    builder.setMass(mass)\n",
    "    propagator = builder.buildPropagator(builder.getSelectedNormalizedParameters())\n",
    "    propagator.setEphemerisMode()\n",
    "    return propagator\n",
    "\n",
    "def propagator_with_drag_and_J2(initial_orbit, mass):\n",
    "    propagator = propagator_reference(initial_orbit, mass)\n",
    "    #propagator.addForceModel(drag_force)\n",
    "    propagator.addForceModel(central_body)\n",
    "    propagator.addForceModel(zonal_central_body)\n",
    "    return propagator\n",
    "\n",
    "# Propagation type: Analytical\n",
    "propagator = propagator_with_drag_and_J2(initialOrbit, mass)\n",
    "\n",
    "propagator.getInitialState()\n",
    "propagator.setSlaveMode();\n",
    "duration = 2*24*3600\n",
    "finalDate = initialDate.shiftedBy(float(duration))\n",
    "stepT = 60 #seconds\n",
    "\n",
    "extrapDate = initialDate\n",
    "pvs = []\n",
    "states = []"
   ]
  },
  {
   "cell_type": "code",
   "execution_count": 5,
   "metadata": {
    "tags": []
   },
   "outputs": [
    {
     "ename": "JavaError",
     "evalue": "<super: <class 'JavaError'>, <JavaError object>>\n    Java stacktrace:\norg.orekit.errors.OrekitException: altitude (96,447.73 m) is below the 100,000 m allowed threshold\n\tat org.orekit.models.earth.atmosphere.HarrisPriester.getDensity(HarrisPriester.java:283)\n\tat org.orekit.models.earth.atmosphere.HarrisPriester.getDensity(HarrisPriester.java:391)\n\tat org.orekit.forces.drag.DragForce.acceleration(DragForce.java:79)\n\tat org.orekit.propagation.semianalytical.dsst.forces.AbstractGaussianContribution$IntegrableFunction.value(AbstractGaussianContribution.java:937)\n\tat org.orekit.propagation.semianalytical.dsst.forces.AbstractGaussianContribution$GaussQuadrature.basicIntegrate(AbstractGaussianContribution.java:1684)\n\tat org.orekit.propagation.semianalytical.dsst.forces.AbstractGaussianContribution$GaussQuadrature.integrate(AbstractGaussianContribution.java:1585)\n\tat org.orekit.propagation.semianalytical.dsst.forces.AbstractGaussianContribution.getMeanElementRate(AbstractGaussianContribution.java:364)\n\tat org.orekit.propagation.semianalytical.dsst.forces.AbstractGaussianContribution.getMeanElementRate(AbstractGaussianContribution.java:278)\n\tat org.orekit.propagation.semianalytical.dsst.DSSTPropagator$Main.elementRates(DSSTPropagator.java:998)\n\tat org.orekit.propagation.semianalytical.dsst.DSSTPropagator$Main.computeDerivatives(DSSTPropagator.java:977)\n\tat org.orekit.propagation.integration.AbstractIntegratedPropagator$ConvertedMainStateEquations.computeDerivatives(AbstractIntegratedPropagator.java:678)\n\tat org.hipparchus.ode.ExpandableODE.computeDerivatives(ExpandableODE.java:134)\n\tat org.hipparchus.ode.AbstractIntegrator.computeDerivatives(AbstractIntegrator.java:265)\n\tat org.hipparchus.ode.AbstractIntegrator.initIntegration(AbstractIntegrator.java:217)\n\tat org.hipparchus.ode.nonstiff.EmbeddedRungeKuttaIntegrator.integrate(EmbeddedRungeKuttaIntegrator.java:196)\n\tat org.orekit.propagation.integration.AbstractIntegratedPropagator.propagate(AbstractIntegratedPropagator.java:469)\n\tat org.orekit.propagation.integration.AbstractIntegratedPropagator.propagate(AbstractIntegratedPropagator.java:414)\n\tat org.orekit.propagation.integration.AbstractIntegratedPropagator.propagate(AbstractIntegratedPropagator.java:397)\n",
     "output_type": "error",
     "traceback": [
      "\u001b[0;31m---------------------------------------------------------------------------\u001b[0m",
      "\u001b[0;31mJavaError\u001b[0m                                 Traceback (most recent call last)",
      "\u001b[0;32m<ipython-input-5-e3d5c17fab22>\u001b[0m in \u001b[0;36m<module>\u001b[0;34m\u001b[0m\n\u001b[1;32m      2\u001b[0m \u001b[0;32mfor\u001b[0m \u001b[0mcpt\u001b[0m \u001b[0;32min\u001b[0m \u001b[0mrange\u001b[0m\u001b[0;34m(\u001b[0m\u001b[0mint\u001b[0m\u001b[0;34m(\u001b[0m\u001b[0mduration\u001b[0m\u001b[0;34m/\u001b[0m\u001b[0mstepT\u001b[0m\u001b[0;34m)\u001b[0m\u001b[0;34m)\u001b[0m\u001b[0;34m:\u001b[0m\u001b[0;34m\u001b[0m\u001b[0;34m\u001b[0m\u001b[0m\n\u001b[1;32m      3\u001b[0m     \u001b[0mextrapDate\u001b[0m \u001b[0;34m=\u001b[0m \u001b[0mextrapDate\u001b[0m\u001b[0;34m.\u001b[0m\u001b[0mshiftedBy\u001b[0m\u001b[0;34m(\u001b[0m\u001b[0mfloat\u001b[0m\u001b[0;34m(\u001b[0m\u001b[0mstepT\u001b[0m\u001b[0;34m)\u001b[0m\u001b[0;34m)\u001b[0m\u001b[0;34m\u001b[0m\u001b[0;34m\u001b[0m\u001b[0m\n\u001b[0;32m----> 4\u001b[0;31m     \u001b[0mcurrentState\u001b[0m \u001b[0;34m=\u001b[0m \u001b[0mpropagator\u001b[0m\u001b[0;34m.\u001b[0m\u001b[0mpropagate\u001b[0m\u001b[0;34m(\u001b[0m\u001b[0mextrapDate\u001b[0m\u001b[0;34m)\u001b[0m\u001b[0;34m\u001b[0m\u001b[0;34m\u001b[0m\u001b[0m\n\u001b[0m\u001b[1;32m      5\u001b[0m     \u001b[0mstates\u001b[0m\u001b[0;34m.\u001b[0m\u001b[0mappend\u001b[0m\u001b[0;34m(\u001b[0m\u001b[0mcurrentState\u001b[0m\u001b[0;34m)\u001b[0m\u001b[0;34m\u001b[0m\u001b[0;34m\u001b[0m\u001b[0m\n\u001b[1;32m      6\u001b[0m     \u001b[0mpvs\u001b[0m\u001b[0;34m.\u001b[0m\u001b[0mappend\u001b[0m\u001b[0;34m(\u001b[0m\u001b[0mpropagator\u001b[0m\u001b[0;34m.\u001b[0m\u001b[0mgetPVCoordinates\u001b[0m\u001b[0;34m(\u001b[0m\u001b[0mextrapDate\u001b[0m\u001b[0;34m,\u001b[0m \u001b[0minertialFrame\u001b[0m\u001b[0;34m)\u001b[0m\u001b[0;34m)\u001b[0m\u001b[0;34m\u001b[0m\u001b[0;34m\u001b[0m\u001b[0m\n",
      "\u001b[0;31mJavaError\u001b[0m: <super: <class 'JavaError'>, <JavaError object>>\n    Java stacktrace:\norg.orekit.errors.OrekitException: altitude (96,447.73 m) is below the 100,000 m allowed threshold\n\tat org.orekit.models.earth.atmosphere.HarrisPriester.getDensity(HarrisPriester.java:283)\n\tat org.orekit.models.earth.atmosphere.HarrisPriester.getDensity(HarrisPriester.java:391)\n\tat org.orekit.forces.drag.DragForce.acceleration(DragForce.java:79)\n\tat org.orekit.propagation.semianalytical.dsst.forces.AbstractGaussianContribution$IntegrableFunction.value(AbstractGaussianContribution.java:937)\n\tat org.orekit.propagation.semianalytical.dsst.forces.AbstractGaussianContribution$GaussQuadrature.basicIntegrate(AbstractGaussianContribution.java:1684)\n\tat org.orekit.propagation.semianalytical.dsst.forces.AbstractGaussianContribution$GaussQuadrature.integrate(AbstractGaussianContribution.java:1585)\n\tat org.orekit.propagation.semianalytical.dsst.forces.AbstractGaussianContribution.getMeanElementRate(AbstractGaussianContribution.java:364)\n\tat org.orekit.propagation.semianalytical.dsst.forces.AbstractGaussianContribution.getMeanElementRate(AbstractGaussianContribution.java:278)\n\tat org.orekit.propagation.semianalytical.dsst.DSSTPropagator$Main.elementRates(DSSTPropagator.java:998)\n\tat org.orekit.propagation.semianalytical.dsst.DSSTPropagator$Main.computeDerivatives(DSSTPropagator.java:977)\n\tat org.orekit.propagation.integration.AbstractIntegratedPropagator$ConvertedMainStateEquations.computeDerivatives(AbstractIntegratedPropagator.java:678)\n\tat org.hipparchus.ode.ExpandableODE.computeDerivatives(ExpandableODE.java:134)\n\tat org.hipparchus.ode.AbstractIntegrator.computeDerivatives(AbstractIntegrator.java:265)\n\tat org.hipparchus.ode.AbstractIntegrator.initIntegration(AbstractIntegrator.java:217)\n\tat org.hipparchus.ode.nonstiff.EmbeddedRungeKuttaIntegrator.integrate(EmbeddedRungeKuttaIntegrator.java:196)\n\tat org.orekit.propagation.integration.AbstractIntegratedPropagator.propagate(AbstractIntegratedPropagator.java:469)\n\tat org.orekit.propagation.integration.AbstractIntegratedPropagator.propagate(AbstractIntegratedPropagator.java:414)\n\tat org.orekit.propagation.integration.AbstractIntegratedPropagator.propagate(AbstractIntegratedPropagator.java:397)\n"
     ]
    }
   ],
   "source": [
    "# Propagation\n",
    "for cpt in range(int(duration/stepT)):\n",
    "    extrapDate = extrapDate.shiftedBy(float(stepT))\n",
    "    currentState = propagator.propagate(extrapDate)\n",
    "    states.append(currentState)\n",
    "    pvs.append(propagator.getPVCoordinates(extrapDate, inertialFrame))\n",
    "    "
   ]
  },
  {
   "cell_type": "code",
   "execution_count": null,
   "metadata": {
    "tags": []
   },
   "outputs": [],
   "source": [
    "# Generate keplerian elements data structure\n",
    "KepElt = pd.DataFrame(data=states, columns=['kep'])\n",
    "KepElt['datetime'] = KepElt['kep'].apply(lambda x: absolutedate_to_datetime(x.getDate()))"
   ]
  },
  {
   "cell_type": "code",
   "execution_count": null,
   "metadata": {
    "tags": []
   },
   "outputs": [],
   "source": [
    "# Save data\n",
    "KepElt.to_csv('pvs_kep.csv')"
   ]
  },
  {
   "cell_type": "code",
   "execution_count": null,
   "metadata": {},
   "outputs": [],
   "source": [
    "# Generate Station measurements Azimuth Elevation\n",
    "\n",
    "# Input data: given by ADS\n",
    "# Longitude : 21.038 deg\n",
    "# Latitude : 67.8790708 deg\n",
    "# Altitude : 0.527 km\n",
    "\n",
    "# Ground station creation\n",
    "longitude = radians(21.038)\n",
    "latitude  = radians(67.8790708)\n",
    "altitude  = 527.0\n",
    "station1 = GeodeticPoint(latitude, longitude, altitude)\n",
    "sta1Frame = TopocentricFrame(earth, station1, \"Kiruna\")\n",
    "\n",
    "prop_data = []\n",
    "\n",
    "prop_data = pd.DataFrame(data=pvs, columns=['pv'])\n",
    "prop_data['Position'] = prop_data['pv'].apply(lambda x: x.getPosition())\n",
    "prop_data['datetime'] = prop_data['pv'].apply(lambda x: absolutedate_to_datetime(x.getDate()))\n",
    "prop_data['elevation'] = prop_data['pv'].apply(lambda x: sta1Frame.getElevation(x.getPosition(), inertialFrame, x.getDate())*180.0/pi )\n",
    "prop_data['azimuth'] = prop_data['pv'].apply(lambda x: sta1Frame.getAzimuth(x.getPosition(), inertialFrame, x.getDate())*180.0/pi )\n",
    "prop_data.set_index('datetime', inplace=True, drop=False)\n",
    "prop_data.index.name = 'Timestamp'\n",
    "prop_data['groundpoint'] = prop_data['pv'].apply(lambda pv: earth.transform(pv.position, inertialFrame, pv.date))\n",
    "prop_data['latitude'] = np.degrees(prop_data.groundpoint.apply(lambda gp: gp.latitude))\n",
    "prop_data['longitude'] = np.degrees(prop_data.groundpoint.apply(lambda gp: gp.longitude))\n",
    "prop_data['day'] = prop_data.datetime.dt.dayofyear\n",
    "prop_data['hour'] = prop_data.datetime.dt.hour"
   ]
  },
  {
   "cell_type": "code",
   "execution_count": null,
   "metadata": {},
   "outputs": [],
   "source": [
    "# Save data\n",
    "prop_data.to_csv('export_all.csv')\n",
    "prop_data[prop_data.elevation>0][:].to_csv('export_visible.csv')"
   ]
  },
  {
   "cell_type": "code",
   "execution_count": null,
   "metadata": {},
   "outputs": [],
   "source": [
    "# Plot\n",
    "prop_data[prop_data.elevation>0][:].plot(y='elevation');\n",
    "prop_data[prop_data.elevation>0][:].plot(y='azimuth');\n",
    "\n"
   ]
  },
  {
   "cell_type": "code",
   "execution_count": null,
   "metadata": {},
   "outputs": [],
   "source": []
  },
  {
   "cell_type": "code",
   "execution_count": null,
   "metadata": {
    "tags": []
   },
   "outputs": [],
   "source": []
  },
  {
   "cell_type": "code",
   "execution_count": null,
   "metadata": {},
   "outputs": [],
   "source": []
  },
  {
   "cell_type": "code",
   "execution_count": null,
   "metadata": {},
   "outputs": [],
   "source": []
  },
  {
   "cell_type": "code",
   "execution_count": null,
   "metadata": {},
   "outputs": [],
   "source": [
    "from org.orekit.estimation.sequential import KalmanEstimatorBuilder"
   ]
  },
  {
   "cell_type": "code",
   "execution_count": null,
   "metadata": {},
   "outputs": [],
   "source": []
  }
 ],
 "metadata": {
  "kernelspec": {
   "display_name": "Python 3",
   "language": "python",
   "name": "python3"
  },
  "language_info": {
   "codemirror_mode": {
    "name": "ipython",
    "version": 3
   },
   "file_extension": ".py",
   "mimetype": "text/x-python",
   "name": "python",
   "nbconvert_exporter": "python",
   "pygments_lexer": "ipython3",
   "version": "3.8.5"
  }
 },
 "nbformat": 4,
 "nbformat_minor": 4
}
